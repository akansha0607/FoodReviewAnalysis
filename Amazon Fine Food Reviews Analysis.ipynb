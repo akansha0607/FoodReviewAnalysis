{
 "cells": [
  {
   "cell_type": "markdown",
   "metadata": {
    "colab_type": "text",
    "id": "ZABrrmlsj6Nm"
   },
   "source": [
    "# Amazon Fine Food Reviews Analysis\n",
    "Data Source: https://www.kaggle.com/snap/amazon-fine-food-reviews\n",
    "The Amazon Fine Food Reviews dataset consists of reviews of fine foods from Amazon.<br>\n",
    "\n",
    "Number of reviews: 568,454<br>\n",
    "Number of users: 256,059<br>\n",
    "Number of products: 74,258<br>\n",
    "Timespan: Oct 1999 - Oct 2012<br>\n",
    "Number of Attributes/Columns in data: 10 \n",
    "\n",
    "Attribute Information:\n",
    "\n",
    "1. Id\n",
    "2. ProductId - unique identifier for the product\n",
    "3. UserId - unqiue identifier for the user\n",
    "4. ProfileName\n",
    "5. HelpfulnessNumerator - number of users who found the review helpful\n",
    "6. HelpfulnessDenominator - number of users who indicated whether they found the review helpful or not\n",
    "7. Score - rating between 1 and 5\n",
    "8. Time - timestamp for the review\n",
    "9. Summary - brief summary of the review\n",
    "10. Text - text of the review\n",
    "\n",
    "\n",
    "#### Objective:\n",
    "Given a review, determine whether the review is positive (Rating of 4 or 5) or negative (rating of 1 or 2).\n"
   ]
  },
  {
   "cell_type": "code",
   "execution_count": 1,
   "metadata": {
    "colab": {
     "autoexec": {
      "startup": false,
      "wait_interval": 0
     },
     "base_uri": "https://localhost:8080/",
     "height": 16
    },
    "colab_type": "code",
    "collapsed": true,
    "executionInfo": {
     "elapsed": 37620,
     "status": "ok",
     "timestamp": 1529136943186,
     "user": {
      "displayName": "",
      "photoUrl": "",
      "userId": ""
     },
     "user_tz": -330
    },
    "id": "Ltu-oJyLj6Np",
    "outputId": "fa445b52-9758-415f-b37c-6013285003bb"
   },
   "outputs": [],
   "source": [
    "# loading libraries and data\n",
    "\n",
    "%matplotlib inline\n",
    "\n",
    "import sqlite3                          # for sql database\n",
    "import pandas as pd\n",
    "import numpy as np\n",
    "import nltk                             # nltk:- Natural Language Processing Toolkit\n",
    "import string\n",
    "import re\n",
    "import io\n",
    "import matplotlib.pyplot as plt\n",
    "import seaborn as sns\n",
    "from sklearn.feature_extraction.text import TfidfTransformer\n",
    "from sklearn.feature_extraction.text import TfidfVectorizer\n",
    "from sklearn.feature_extraction.text import CountVectorizer\n",
    "from sklearn.metrics import confusion_matrix\n",
    "from sklearn import metrics\n",
    "from sklearn.metrics import roc_curve, auc\n",
    "from nltk.stem.porter import PorterStemmer\n",
    "\n",
    "import pickle\n",
    "def saveindisk(obj,filename):\n",
    "    pickle.dump(obj,open(filename+\".p\",\"wb\"), protocol=4)\n",
    "def openfromdisk(filename):\n",
    "    temp = pickle.load(open(filename+\".p\",\"rb\"))\n",
    "    return temp\n",
    "\n",
    "con = sqlite3.connect(\"database.sqlite\")\n",
    "\n",
    "# Filtering only positive and negative reviews that is\n",
    "# not taking into consideration those reviews with score = 3\n",
    "df = pd.read_sql_query(\"\"\"\n",
    "SELECT *\n",
    "FROM Reviews\n",
    "WHERE Score != 3\n",
    "\"\"\", con)\n",
    "\n",
    "\n",
    "# Give reviews with score > 3 to be positive rating and reviews with a score < 3 as a negative\n",
    "def polarity(x):\n",
    "    if x < 3:\n",
    "        return 'Negative'\n",
    "    else:\n",
    "        return 'Positive'\n",
    "df[\"Score\"] = df[\"Score\"].map(polarity) # map is use to assign in all the Score"
   ]
  },
  {
   "cell_type": "code",
   "execution_count": 2,
   "metadata": {
    "colab": {
     "autoexec": {
      "startup": false,
      "wait_interval": 0
     },
     "base_uri": "https://localhost:8080/",
     "height": 281
    },
    "colab_type": "code",
    "collapsed": false,
    "executionInfo": {
     "elapsed": 1252,
     "status": "ok",
     "timestamp": 1529136945520,
     "user": {
      "displayName": "",
      "photoUrl": "",
      "userId": ""
     },
     "user_tz": -330
    },
    "id": "do1z3yYDj6Nx",
    "outputId": "299b970e-b1c4-49c7-8cb5-dd530faf7f45"
   },
   "outputs": [
    {
     "data": {
      "text/html": [
       "<div>\n",
       "<style scoped>\n",
       "    .dataframe tbody tr th:only-of-type {\n",
       "        vertical-align: middle;\n",
       "    }\n",
       "\n",
       "    .dataframe tbody tr th {\n",
       "        vertical-align: top;\n",
       "    }\n",
       "\n",
       "    .dataframe thead th {\n",
       "        text-align: right;\n",
       "    }\n",
       "</style>\n",
       "<table border=\"1\" class=\"dataframe\">\n",
       "  <thead>\n",
       "    <tr style=\"text-align: right;\">\n",
       "      <th></th>\n",
       "      <th>Id</th>\n",
       "      <th>ProductId</th>\n",
       "      <th>UserId</th>\n",
       "      <th>ProfileName</th>\n",
       "      <th>HelpfulnessNumerator</th>\n",
       "      <th>HelpfulnessDenominator</th>\n",
       "      <th>Score</th>\n",
       "      <th>Time</th>\n",
       "      <th>Summary</th>\n",
       "      <th>Text</th>\n",
       "    </tr>\n",
       "  </thead>\n",
       "  <tbody>\n",
       "    <tr>\n",
       "      <th>0</th>\n",
       "      <td>1</td>\n",
       "      <td>B001E4KFG0</td>\n",
       "      <td>A3SGXH7AUHU8GW</td>\n",
       "      <td>delmartian</td>\n",
       "      <td>1</td>\n",
       "      <td>1</td>\n",
       "      <td>Positive</td>\n",
       "      <td>1303862400</td>\n",
       "      <td>Good Quality Dog Food</td>\n",
       "      <td>I have bought several of the Vitality canned d...</td>\n",
       "    </tr>\n",
       "    <tr>\n",
       "      <th>1</th>\n",
       "      <td>2</td>\n",
       "      <td>B00813GRG4</td>\n",
       "      <td>A1D87F6ZCVE5NK</td>\n",
       "      <td>dll pa</td>\n",
       "      <td>0</td>\n",
       "      <td>0</td>\n",
       "      <td>Negative</td>\n",
       "      <td>1346976000</td>\n",
       "      <td>Not as Advertised</td>\n",
       "      <td>Product arrived labeled as Jumbo Salted Peanut...</td>\n",
       "    </tr>\n",
       "    <tr>\n",
       "      <th>2</th>\n",
       "      <td>3</td>\n",
       "      <td>B000LQOCH0</td>\n",
       "      <td>ABXLMWJIXXAIN</td>\n",
       "      <td>Natalia Corres \"Natalia Corres\"</td>\n",
       "      <td>1</td>\n",
       "      <td>1</td>\n",
       "      <td>Positive</td>\n",
       "      <td>1219017600</td>\n",
       "      <td>\"Delight\" says it all</td>\n",
       "      <td>This is a confection that has been around a fe...</td>\n",
       "    </tr>\n",
       "    <tr>\n",
       "      <th>3</th>\n",
       "      <td>4</td>\n",
       "      <td>B000UA0QIQ</td>\n",
       "      <td>A395BORC6FGVXV</td>\n",
       "      <td>Karl</td>\n",
       "      <td>3</td>\n",
       "      <td>3</td>\n",
       "      <td>Negative</td>\n",
       "      <td>1307923200</td>\n",
       "      <td>Cough Medicine</td>\n",
       "      <td>If you are looking for the secret ingredient i...</td>\n",
       "    </tr>\n",
       "    <tr>\n",
       "      <th>4</th>\n",
       "      <td>5</td>\n",
       "      <td>B006K2ZZ7K</td>\n",
       "      <td>A1UQRSCLF8GW1T</td>\n",
       "      <td>Michael D. Bigham \"M. Wassir\"</td>\n",
       "      <td>0</td>\n",
       "      <td>0</td>\n",
       "      <td>Positive</td>\n",
       "      <td>1350777600</td>\n",
       "      <td>Great taffy</td>\n",
       "      <td>Great taffy at a great price.  There was a wid...</td>\n",
       "    </tr>\n",
       "  </tbody>\n",
       "</table>\n",
       "</div>"
      ],
      "text/plain": [
       "   Id   ProductId          UserId                      ProfileName  \\\n",
       "0   1  B001E4KFG0  A3SGXH7AUHU8GW                       delmartian   \n",
       "1   2  B00813GRG4  A1D87F6ZCVE5NK                           dll pa   \n",
       "2   3  B000LQOCH0   ABXLMWJIXXAIN  Natalia Corres \"Natalia Corres\"   \n",
       "3   4  B000UA0QIQ  A395BORC6FGVXV                             Karl   \n",
       "4   5  B006K2ZZ7K  A1UQRSCLF8GW1T    Michael D. Bigham \"M. Wassir\"   \n",
       "\n",
       "   HelpfulnessNumerator  HelpfulnessDenominator     Score        Time  \\\n",
       "0                     1                       1  Positive  1303862400   \n",
       "1                     0                       0  Negative  1346976000   \n",
       "2                     1                       1  Positive  1219017600   \n",
       "3                     3                       3  Negative  1307923200   \n",
       "4                     0                       0  Positive  1350777600   \n",
       "\n",
       "                 Summary                                               Text  \n",
       "0  Good Quality Dog Food  I have bought several of the Vitality canned d...  \n",
       "1      Not as Advertised  Product arrived labeled as Jumbo Salted Peanut...  \n",
       "2  \"Delight\" says it all  This is a confection that has been around a fe...  \n",
       "3         Cough Medicine  If you are looking for the secret ingredient i...  \n",
       "4            Great taffy  Great taffy at a great price.  There was a wid...  "
      ]
     },
     "execution_count": 2,
     "metadata": {},
     "output_type": "execute_result"
    }
   ],
   "source": [
    "df.head() # top 5 values"
   ]
  },
  {
   "cell_type": "code",
   "execution_count": 3,
   "metadata": {
    "colab": {
     "autoexec": {
      "startup": false,
      "wait_interval": 0
     },
     "base_uri": "https://localhost:8080/",
     "height": 287
    },
    "colab_type": "code",
    "collapsed": false,
    "executionInfo": {
     "elapsed": 1916,
     "status": "ok",
     "timestamp": 1529136951207,
     "user": {
      "displayName": "",
      "photoUrl": "",
      "userId": ""
     },
     "user_tz": -330
    },
    "id": "RIHOdGTUj6N3",
    "outputId": "19d7a9d1-d78f-430a-9cb3-c3ee9a2dec5a"
   },
   "outputs": [
    {
     "data": {
      "text/html": [
       "<div>\n",
       "<style scoped>\n",
       "    .dataframe tbody tr th:only-of-type {\n",
       "        vertical-align: middle;\n",
       "    }\n",
       "\n",
       "    .dataframe tbody tr th {\n",
       "        vertical-align: top;\n",
       "    }\n",
       "\n",
       "    .dataframe thead th {\n",
       "        text-align: right;\n",
       "    }\n",
       "</style>\n",
       "<table border=\"1\" class=\"dataframe\">\n",
       "  <thead>\n",
       "    <tr style=\"text-align: right;\">\n",
       "      <th></th>\n",
       "      <th>Id</th>\n",
       "      <th>HelpfulnessNumerator</th>\n",
       "      <th>HelpfulnessDenominator</th>\n",
       "      <th>Time</th>\n",
       "    </tr>\n",
       "  </thead>\n",
       "  <tbody>\n",
       "    <tr>\n",
       "      <th>count</th>\n",
       "      <td>525814.000000</td>\n",
       "      <td>525814.000000</td>\n",
       "      <td>525814.000000</td>\n",
       "      <td>5.258140e+05</td>\n",
       "    </tr>\n",
       "    <tr>\n",
       "      <th>mean</th>\n",
       "      <td>284599.060038</td>\n",
       "      <td>1.747293</td>\n",
       "      <td>2.209544</td>\n",
       "      <td>1.295943e+09</td>\n",
       "    </tr>\n",
       "    <tr>\n",
       "      <th>std</th>\n",
       "      <td>163984.038077</td>\n",
       "      <td>7.575819</td>\n",
       "      <td>8.195329</td>\n",
       "      <td>4.828129e+07</td>\n",
       "    </tr>\n",
       "    <tr>\n",
       "      <th>min</th>\n",
       "      <td>1.000000</td>\n",
       "      <td>0.000000</td>\n",
       "      <td>0.000000</td>\n",
       "      <td>9.393408e+08</td>\n",
       "    </tr>\n",
       "    <tr>\n",
       "      <th>25%</th>\n",
       "      <td>142730.250000</td>\n",
       "      <td>0.000000</td>\n",
       "      <td>0.000000</td>\n",
       "      <td>1.270598e+09</td>\n",
       "    </tr>\n",
       "    <tr>\n",
       "      <th>50%</th>\n",
       "      <td>284989.500000</td>\n",
       "      <td>0.000000</td>\n",
       "      <td>1.000000</td>\n",
       "      <td>1.310861e+09</td>\n",
       "    </tr>\n",
       "    <tr>\n",
       "      <th>75%</th>\n",
       "      <td>426446.750000</td>\n",
       "      <td>2.000000</td>\n",
       "      <td>2.000000</td>\n",
       "      <td>1.332634e+09</td>\n",
       "    </tr>\n",
       "    <tr>\n",
       "      <th>max</th>\n",
       "      <td>568454.000000</td>\n",
       "      <td>866.000000</td>\n",
       "      <td>878.000000</td>\n",
       "      <td>1.351210e+09</td>\n",
       "    </tr>\n",
       "  </tbody>\n",
       "</table>\n",
       "</div>"
      ],
      "text/plain": [
       "                  Id  HelpfulnessNumerator  HelpfulnessDenominator  \\\n",
       "count  525814.000000         525814.000000           525814.000000   \n",
       "mean   284599.060038              1.747293                2.209544   \n",
       "std    163984.038077              7.575819                8.195329   \n",
       "min         1.000000              0.000000                0.000000   \n",
       "25%    142730.250000              0.000000                0.000000   \n",
       "50%    284989.500000              0.000000                1.000000   \n",
       "75%    426446.750000              2.000000                2.000000   \n",
       "max    568454.000000            866.000000              878.000000   \n",
       "\n",
       "               Time  \n",
       "count  5.258140e+05  \n",
       "mean   1.295943e+09  \n",
       "std    4.828129e+07  \n",
       "min    9.393408e+08  \n",
       "25%    1.270598e+09  \n",
       "50%    1.310861e+09  \n",
       "75%    1.332634e+09  \n",
       "max    1.351210e+09  "
      ]
     },
     "execution_count": 3,
     "metadata": {},
     "output_type": "execute_result"
    }
   ],
   "source": [
    "df.describe()"
   ]
  },
  {
   "cell_type": "code",
   "execution_count": 4,
   "metadata": {
    "colab": {
     "autoexec": {
      "startup": false,
      "wait_interval": 0
     },
     "base_uri": "https://localhost:8080/",
     "height": 34
    },
    "colab_type": "code",
    "collapsed": false,
    "executionInfo": {
     "elapsed": 1144,
     "status": "ok",
     "timestamp": 1529136953308,
     "user": {
      "displayName": "",
      "photoUrl": "",
      "userId": ""
     },
     "user_tz": -330
    },
    "id": "XQ-Bw-aFj6N6",
    "outputId": "48a8fa66-9656-4a7c-ad8e-1f2d3fb2dd54"
   },
   "outputs": [
    {
     "data": {
      "text/plain": [
       "525814"
      ]
     },
     "execution_count": 4,
     "metadata": {},
     "output_type": "execute_result"
    }
   ],
   "source": [
    "df.shape\n",
    "df['Score'].size"
   ]
  },
  {
   "cell_type": "code",
   "execution_count": 6,
   "metadata": {
    "colab": {
     "autoexec": {
      "startup": false,
      "wait_interval": 0
     },
     "base_uri": "https://localhost:8080/",
     "height": 105
    },
    "colab_type": "code",
    "collapsed": false,
    "executionInfo": {
     "elapsed": 1442,
     "status": "ok",
     "timestamp": 1529136962841,
     "user": {
      "displayName": "",
      "photoUrl": "",
      "userId": ""
     },
     "user_tz": -330
    },
    "id": "fLAe_-a1j6OE",
    "outputId": "f4d218c6-7493-466f-a81a-a8fc3575fe81"
   },
   "outputs": [
    {
     "data": {
      "text/plain": [
       "Positive    443777\n",
       "Negative     82037\n",
       "Name: Score, dtype: int64"
      ]
     },
     "execution_count": 6,
     "metadata": {},
     "output_type": "execute_result"
    }
   ],
   "source": [
    "df['Score'].value_counts()"
   ]
  },
  {
   "cell_type": "markdown",
   "metadata": {
    "colab_type": "text",
    "id": "6CDENActj6OR"
   },
   "source": [
    "# Text Preprocessing: Stemming, stop-word removal and Lemmatization.\n",
    "Now that we have finished deduplication our data requires some preprocessing before we go on further with analysis and making the prediction model.\n",
    "\n",
    "Hence in the Preprocessing phase we do the following in the order below:-\n",
    "\n",
    "1. Begin by removing the html tags\n",
    "2. Remove any punctuations or limited set of special characters like , or . or # etc.\n",
    "3. Check if the word is made up of english letters and is not alpha-numeric\n",
    "4. Check to see if the length of the word is greater than 2 (as it was researched that there is no adjective in 2-letters)\n",
    "5. Convert the word to lowercase\n",
    "6. Remove Stopwords\n",
    "7. Finally Snowball Stemming the word (it was obsereved to be better than Porter Stemming)<br>\n",
    "\n",
    "After which we collect the words used to describe positive and negative reviews"
   ]
  },
  {
   "cell_type": "markdown",
   "metadata": {
    "colab_type": "text",
    "id": "iwlV5vTsj6OT"
   },
   "source": [
    "## *1) Data Cleaning*"
   ]
  },
  {
   "cell_type": "markdown",
   "metadata": {
    "colab_type": "text",
    "id": "Q37D22Exj6OU"
   },
   "source": [
    "###  Data Deduplication"
   ]
  },
  {
   "cell_type": "code",
   "execution_count": 7,
   "metadata": {
    "colab": {
     "autoexec": {
      "startup": false,
      "wait_interval": 0
     },
     "base_uri": "https://localhost:8080/",
     "height": 70
    },
    "colab_type": "code",
    "collapsed": false,
    "executionInfo": {
     "elapsed": 5179,
     "status": "ok",
     "timestamp": 1529136977183,
     "user": {
      "displayName": "",
      "photoUrl": "",
      "userId": ""
     },
     "user_tz": -330
    },
    "id": "o5noQi3ej6OV",
    "outputId": "804c11cb-950f-4a65-f468-590415fe5eeb"
   },
   "outputs": [
    {
     "data": {
      "text/plain": [
       "False    364173\n",
       "True     161641\n",
       "dtype: int64"
      ]
     },
     "execution_count": 7,
     "metadata": {},
     "output_type": "execute_result"
    }
   ],
   "source": [
    "df.duplicated(subset={\"UserId\",\"ProfileName\",\"Time\",\"Text\"}).value_counts() # checking duplicates"
   ]
  },
  {
   "cell_type": "code",
   "execution_count": 8,
   "metadata": {
    "colab": {
     "autoexec": {
      "startup": false,
      "wait_interval": 0
     },
     "base_uri": "https://localhost:8080/",
     "height": 281
    },
    "colab_type": "code",
    "collapsed": false,
    "executionInfo": {
     "elapsed": 2188,
     "status": "ok",
     "timestamp": 1529136980430,
     "user": {
      "displayName": "",
      "photoUrl": "",
      "userId": ""
     },
     "user_tz": -330
    },
    "id": "QxXAJfbrj6Ob",
    "outputId": "1fe1af03-a0a8-4637-a416-905ba18f0e2f"
   },
   "outputs": [
    {
     "data": {
      "text/html": [
       "<div>\n",
       "<style scoped>\n",
       "    .dataframe tbody tr th:only-of-type {\n",
       "        vertical-align: middle;\n",
       "    }\n",
       "\n",
       "    .dataframe tbody tr th {\n",
       "        vertical-align: top;\n",
       "    }\n",
       "\n",
       "    .dataframe thead th {\n",
       "        text-align: right;\n",
       "    }\n",
       "</style>\n",
       "<table border=\"1\" class=\"dataframe\">\n",
       "  <thead>\n",
       "    <tr style=\"text-align: right;\">\n",
       "      <th></th>\n",
       "      <th>Id</th>\n",
       "      <th>ProductId</th>\n",
       "      <th>UserId</th>\n",
       "      <th>ProfileName</th>\n",
       "      <th>HelpfulnessNumerator</th>\n",
       "      <th>HelpfulnessDenominator</th>\n",
       "      <th>Score</th>\n",
       "      <th>Time</th>\n",
       "      <th>Summary</th>\n",
       "      <th>Text</th>\n",
       "    </tr>\n",
       "  </thead>\n",
       "  <tbody>\n",
       "    <tr>\n",
       "      <th>0</th>\n",
       "      <td>78445</td>\n",
       "      <td>B000HDL1RQ</td>\n",
       "      <td>AR5J8UI46CURR</td>\n",
       "      <td>Geetha Krishnan</td>\n",
       "      <td>2</td>\n",
       "      <td>2</td>\n",
       "      <td>5</td>\n",
       "      <td>1199577600</td>\n",
       "      <td>LOACKER QUADRATINI VANILLA WAFERS</td>\n",
       "      <td>DELICIOUS WAFERS. I FIND THAT EUROPEAN WAFERS ...</td>\n",
       "    </tr>\n",
       "    <tr>\n",
       "      <th>1</th>\n",
       "      <td>138317</td>\n",
       "      <td>B000HDOPYC</td>\n",
       "      <td>AR5J8UI46CURR</td>\n",
       "      <td>Geetha Krishnan</td>\n",
       "      <td>2</td>\n",
       "      <td>2</td>\n",
       "      <td>5</td>\n",
       "      <td>1199577600</td>\n",
       "      <td>LOACKER QUADRATINI VANILLA WAFERS</td>\n",
       "      <td>DELICIOUS WAFERS. I FIND THAT EUROPEAN WAFERS ...</td>\n",
       "    </tr>\n",
       "    <tr>\n",
       "      <th>2</th>\n",
       "      <td>138277</td>\n",
       "      <td>B000HDOPYM</td>\n",
       "      <td>AR5J8UI46CURR</td>\n",
       "      <td>Geetha Krishnan</td>\n",
       "      <td>2</td>\n",
       "      <td>2</td>\n",
       "      <td>5</td>\n",
       "      <td>1199577600</td>\n",
       "      <td>LOACKER QUADRATINI VANILLA WAFERS</td>\n",
       "      <td>DELICIOUS WAFERS. I FIND THAT EUROPEAN WAFERS ...</td>\n",
       "    </tr>\n",
       "    <tr>\n",
       "      <th>3</th>\n",
       "      <td>73791</td>\n",
       "      <td>B000HDOPZG</td>\n",
       "      <td>AR5J8UI46CURR</td>\n",
       "      <td>Geetha Krishnan</td>\n",
       "      <td>2</td>\n",
       "      <td>2</td>\n",
       "      <td>5</td>\n",
       "      <td>1199577600</td>\n",
       "      <td>LOACKER QUADRATINI VANILLA WAFERS</td>\n",
       "      <td>DELICIOUS WAFERS. I FIND THAT EUROPEAN WAFERS ...</td>\n",
       "    </tr>\n",
       "    <tr>\n",
       "      <th>4</th>\n",
       "      <td>155049</td>\n",
       "      <td>B000PAQ75C</td>\n",
       "      <td>AR5J8UI46CURR</td>\n",
       "      <td>Geetha Krishnan</td>\n",
       "      <td>2</td>\n",
       "      <td>2</td>\n",
       "      <td>5</td>\n",
       "      <td>1199577600</td>\n",
       "      <td>LOACKER QUADRATINI VANILLA WAFERS</td>\n",
       "      <td>DELICIOUS WAFERS. I FIND THAT EUROPEAN WAFERS ...</td>\n",
       "    </tr>\n",
       "  </tbody>\n",
       "</table>\n",
       "</div>"
      ],
      "text/plain": [
       "       Id   ProductId         UserId      ProfileName  HelpfulnessNumerator  \\\n",
       "0   78445  B000HDL1RQ  AR5J8UI46CURR  Geetha Krishnan                     2   \n",
       "1  138317  B000HDOPYC  AR5J8UI46CURR  Geetha Krishnan                     2   \n",
       "2  138277  B000HDOPYM  AR5J8UI46CURR  Geetha Krishnan                     2   \n",
       "3   73791  B000HDOPZG  AR5J8UI46CURR  Geetha Krishnan                     2   \n",
       "4  155049  B000PAQ75C  AR5J8UI46CURR  Geetha Krishnan                     2   \n",
       "\n",
       "   HelpfulnessDenominator  Score        Time  \\\n",
       "0                       2      5  1199577600   \n",
       "1                       2      5  1199577600   \n",
       "2                       2      5  1199577600   \n",
       "3                       2      5  1199577600   \n",
       "4                       2      5  1199577600   \n",
       "\n",
       "                             Summary  \\\n",
       "0  LOACKER QUADRATINI VANILLA WAFERS   \n",
       "1  LOACKER QUADRATINI VANILLA WAFERS   \n",
       "2  LOACKER QUADRATINI VANILLA WAFERS   \n",
       "3  LOACKER QUADRATINI VANILLA WAFERS   \n",
       "4  LOACKER QUADRATINI VANILLA WAFERS   \n",
       "\n",
       "                                                Text  \n",
       "0  DELICIOUS WAFERS. I FIND THAT EUROPEAN WAFERS ...  \n",
       "1  DELICIOUS WAFERS. I FIND THAT EUROPEAN WAFERS ...  \n",
       "2  DELICIOUS WAFERS. I FIND THAT EUROPEAN WAFERS ...  \n",
       "3  DELICIOUS WAFERS. I FIND THAT EUROPEAN WAFERS ...  \n",
       "4  DELICIOUS WAFERS. I FIND THAT EUROPEAN WAFERS ...  "
      ]
     },
     "execution_count": 8,
     "metadata": {},
     "output_type": "execute_result"
    }
   ],
   "source": [
    "display= pd.read_sql_query(\"\"\"\n",
    "SELECT *\n",
    "FROM Reviews\n",
    "WHERE Score != 3 AND UserId=\"AR5J8UI46CURR\"\n",
    "ORDER BY ProductID\n",
    "\"\"\", con)\n",
    "display\n",
    "\n"
   ]
  },
  {
   "cell_type": "code",
   "execution_count": 9,
   "metadata": {
    "colab": {
     "autoexec": {
      "startup": false,
      "wait_interval": 0
     },
     "base_uri": "https://localhost:8080/",
     "height": 16
    },
    "colab_type": "code",
    "collapsed": true,
    "executionInfo": {
     "elapsed": 2977,
     "status": "ok",
     "timestamp": 1529136984023,
     "user": {
      "displayName": "",
      "photoUrl": "",
      "userId": ""
     },
     "user_tz": -330
    },
    "id": "qRF6nOejj6Og",
    "outputId": "7fc948d7-ce41-47b6-f892-f27c2147c8aa"
   },
   "outputs": [],
   "source": [
    "df1 =  df.drop_duplicates(subset={\"UserId\",\"ProfileName\",\"Time\",\"Text\"},keep=\"first\") # Deleting all the duplicates"
   ]
  },
  {
   "cell_type": "code",
   "execution_count": 10,
   "metadata": {
    "colab": {
     "autoexec": {
      "startup": false,
      "wait_interval": 0
     },
     "base_uri": "https://localhost:8080/",
     "height": 52
    },
    "colab_type": "code",
    "collapsed": true,
    "executionInfo": {
     "elapsed": 1379,
     "status": "ok",
     "timestamp": 1529136986692,
     "user": {
      "displayName": "",
      "photoUrl": "",
      "userId": ""
     },
     "user_tz": -330
    },
    "id": "I6yNrXm4j6Oi",
    "outputId": "0ccee478-a6ef-435e-c893-e7f4c32962cc"
   },
   "outputs": [],
   "source": [
    "size_diff = df1['Id'].size/df['Id'].size"
   ]
  },
  {
   "cell_type": "markdown",
   "metadata": {
    "colab_type": "text",
    "id": "bXgMLl20j6Om"
   },
   "source": [
    "###  Helpfullness Numerator Greater than Helpfullness Denominator\n",
    "\n",
    "* HelpfulnessNumerator = (Yes) Review is good or not\n",
    "* HelpfulnessDenominator = (Yes + No) Review is good or not"
   ]
  },
  {
   "cell_type": "code",
   "execution_count": 11,
   "metadata": {
    "colab": {
     "autoexec": {
      "startup": false,
      "wait_interval": 0
     },
     "base_uri": "https://localhost:8080/",
     "height": 34
    },
    "colab_type": "code",
    "collapsed": true,
    "executionInfo": {
     "elapsed": 1419,
     "status": "ok",
     "timestamp": 1529136989000,
     "user": {
      "displayName": "",
      "photoUrl": "",
      "userId": ""
     },
     "user_tz": -330
    },
    "id": "bD0MFKftj6On",
    "outputId": "4580736f-0ed2-47e3-ee4e-668a5ab2c770"
   },
   "outputs": [],
   "source": [
    "filtered_data2 = df1[df1.HelpfulnessNumerator <= df1.HelpfulnessDenominator]"
   ]
  },
  {
   "cell_type": "markdown",
   "metadata": {
    "colab_type": "text",
    "id": "Eyu6VoWkj6Oq"
   },
   "source": [
    "## *2) Text Preprocessing*"
   ]
  },
  {
   "cell_type": "markdown",
   "metadata": {
    "colab_type": "text",
    "id": "18uJALbYj6Or"
   },
   "source": [
    "### HTML Tag Removal"
   ]
  },
  {
   "cell_type": "code",
   "execution_count": 12,
   "metadata": {
    "colab": {
     "autoexec": {
      "startup": false,
      "wait_interval": 0
     },
     "base_uri": "https://localhost:8080/",
     "height": 34
    },
    "colab_type": "code",
    "collapsed": true,
    "executionInfo": {
     "elapsed": 1522,
     "status": "ok",
     "timestamp": 1529136992089,
     "user": {
      "displayName": "",
      "photoUrl": "",
      "userId": ""
     },
     "user_tz": -330
    },
    "id": "6C6g8s0Mj6Or",
    "outputId": "66300ab2-bc4c-4787-989f-1490a86dbeb2"
   },
   "outputs": [],
   "source": [
    "# A regular expression (or RE) specifies a set of strings that matches it; the functions in this module let you check if a particular string matches a given regular expression (or if a given regular expression matches a particular string, which comes down to the same thing).\n",
    "import re\n",
    "# cleaning html symbols from the sentence\n",
    "def cleanhtml(sentence):\n",
    "    cleanr = re.compile('<.*?>')\n",
    "    cleantext = re.sub(cleanr, ' ', sentence)\n",
    "    return cleantext\n"
   ]
  },
  {
   "cell_type": "markdown",
   "metadata": {
    "colab_type": "text",
    "id": "WaxIwrTyj6Ou"
   },
   "source": [
    "### Punctuations Removal"
   ]
  },
  {
   "cell_type": "code",
   "execution_count": 13,
   "metadata": {
    "colab": {
     "autoexec": {
      "startup": false,
      "wait_interval": 0
     },
     "base_uri": "https://localhost:8080/",
     "height": 34
    },
    "colab_type": "code",
    "collapsed": true,
    "executionInfo": {
     "elapsed": 1534,
     "status": "ok",
     "timestamp": 1529136994733,
     "user": {
      "displayName": "",
      "photoUrl": "",
      "userId": ""
     },
     "user_tz": -330
    },
    "id": "MoPZdFUtj6Ov",
    "outputId": "ee407ca3-3298-48be-eb91-54e91371e7b1"
   },
   "outputs": [],
   "source": [
    "# cleaning punctuations from the sentence\n",
    "def cleanpunc(sentence):\n",
    "    cleaned = re.sub(r'[?|!|\\'|\"|#]',r'',sentence)\n",
    "    cleaned = re.sub(r'[.|,|)|(|\\|/]',r' ',cleaned)\n",
    "    return  cleaned"
   ]
  },
  {
   "cell_type": "markdown",
   "metadata": {
    "colab_type": "text",
    "id": "mBFPD-9uj6Oy"
   },
   "source": [
    "### Stopwords\n",
    "* A stop word is a commonly used word (such as “the”, “a”, “an”, “in”) that a search engine has been programmed to ignore, both when indexing entries for searching and when retrieving them as the result of a search query.\n",
    "\n",
    "![alt text](https://www.geeksforgeeks.org/wp-content/uploads/Stop-word-removal-using-NLTK.png)"
   ]
  },
  {
   "cell_type": "code",
   "execution_count": 14,
   "metadata": {
    "colab": {
     "autoexec": {
      "startup": false,
      "wait_interval": 0
     },
     "base_uri": "https://localhost:8080/",
     "height": 90
    },
    "colab_type": "code",
    "collapsed": false,
    "executionInfo": {
     "elapsed": 1448,
     "status": "ok",
     "timestamp": 1529136996707,
     "user": {
      "displayName": "",
      "photoUrl": "",
      "userId": ""
     },
     "user_tz": -330
    },
    "id": "QOk9F9IIj6O0",
    "outputId": "2bb121d8-353f-4eed-f07d-396ac5d0fa93"
   },
   "outputs": [
    {
     "name": "stdout",
     "output_type": "stream",
     "text": [
      "[nltk_data] Error loading stopwords: <urlopen error [Errno 54]\n",
      "[nltk_data]     Connection reset by peer>\n",
      "['i', 'me', 'my', 'myself', 'we', 'our', 'ours', 'ourselves', 'you', \"you're\", \"you've\", \"you'll\", \"you'd\", 'your', 'yours', 'yourself', 'yourselves', 'he', 'him', 'his', 'himself', 'she', \"she's\", 'her', 'hers', 'herself', 'it', \"it's\", 'its', 'itself', 'they', 'them', 'their', 'theirs', 'themselves', 'what', 'which', 'who', 'whom', 'this', 'that', \"that'll\", 'these', 'those', 'am', 'is', 'are', 'was', 'were', 'be', 'been', 'being', 'have', 'has', 'had', 'having', 'do', 'does', 'did', 'doing', 'a', 'an', 'the', 'and', 'but', 'if', 'or', 'because', 'as', 'until', 'while', 'of', 'at', 'by', 'for', 'with', 'about', 'against', 'between', 'into', 'through', 'during', 'before', 'after', 'above', 'below', 'to', 'from', 'up', 'down', 'in', 'out', 'on', 'off', 'over', 'under', 'again', 'further', 'then', 'once', 'here', 'there', 'when', 'where', 'why', 'how', 'all', 'any', 'both', 'each', 'few', 'more', 'most', 'other', 'some', 'such', 'no', 'nor', 'not', 'only', 'own', 'same', 'so', 'than', 'too', 'very', 's', 't', 'can', 'will', 'just', 'don', \"don't\", 'should', \"should've\", 'now', 'd', 'll', 'm', 'o', 're', 've', 'y', 'ain', 'aren', \"aren't\", 'couldn', \"couldn't\", 'didn', \"didn't\", 'doesn', \"doesn't\", 'hadn', \"hadn't\", 'hasn', \"hasn't\", 'haven', \"haven't\", 'isn', \"isn't\", 'ma', 'mightn', \"mightn't\", 'mustn', \"mustn't\", 'needn', \"needn't\", 'shan', \"shan't\", 'shouldn', \"shouldn't\", 'wasn', \"wasn't\", 'weren', \"weren't\", 'won', \"won't\", 'wouldn', \"wouldn't\"]\n"
     ]
    }
   ],
   "source": [
    "import nltk\n",
    "nltk.download('stopwords')\n",
    "from nltk.corpus import stopwords\n",
    "from nltk.stem import PorterStemmer\n",
    "from nltk.stem.wordnet import WordNetLemmatizer\n",
    "\n",
    "stop = stopwords.words('english')\n",
    "print(stop)"
   ]
  },
  {
   "cell_type": "markdown",
   "metadata": {
    "colab_type": "text",
    "id": "pXuTtJ1zj6O3"
   },
   "source": [
    "###  Stemming\n",
    "* A word stem is part of a word. It is sort of a normalization idea, but linguistic.\n",
    "For example, the stem of the word waiting is wait.\n",
    "\n",
    "![alt text](https://pythonspot-9329.kxcdn.com/wp-content/uploads/2016/08/word-stem.png.webp)"
   ]
  },
  {
   "cell_type": "code",
   "execution_count": 15,
   "metadata": {
    "colab": {
     "autoexec": {
      "startup": false,
      "wait_interval": 0
     },
     "base_uri": "https://localhost:8080/",
     "height": 212
    },
    "colab_type": "code",
    "collapsed": false,
    "executionInfo": {
     "elapsed": 1349,
     "status": "ok",
     "timestamp": 1529136998676,
     "user": {
      "displayName": "",
      "photoUrl": "",
      "userId": ""
     },
     "user_tz": -330
    },
    "id": "0V9XMrZBj6O4",
    "outputId": "ad31a7fa-904e-4e57-bb2c-9d4d5977f1c4"
   },
   "outputs": [
    {
     "name": "stdout",
     "output_type": "stream",
     "text": [
      "tasti\n"
     ]
    }
   ],
   "source": [
    "from nltk.stem import SnowballStemmer # Stemmers remove morphological affixes from words, leaving only the word stem.\n",
    "snow = SnowballStemmer('english') \n",
    "print(snow.stem('tasty'))"
   ]
  },
  {
   "cell_type": "markdown",
   "metadata": {
    "colab_type": "text",
    "id": "4mFB2Vnzj6PI"
   },
   "source": [
    "# Preprocessing on all the reviews"
   ]
  },
  {
   "cell_type": "code",
   "execution_count": 16,
   "metadata": {
    "colab": {
     "autoexec": {
      "startup": false,
      "wait_interval": 0
     },
     "base_uri": "https://localhost:8080/",
     "height": 70
    },
    "colab_type": "code",
    "collapsed": true,
    "executionInfo": {
     "elapsed": 449324,
     "status": "ok",
     "timestamp": 1529137451339,
     "user": {
      "displayName": "",
      "photoUrl": "",
      "userId": ""
     },
     "user_tz": -330
    },
    "id": "E3DW42J9j6PJ",
    "outputId": "0f6d579b-ff11-40d8-b1f2-8e2fbfdf1f9b"
   },
   "outputs": [],
   "source": [
    "i = 0\n",
    "string1 = ' '\n",
    "final_string = []\n",
    "all_positive_words = []                   # store words from +ve reviews here\n",
    "all_negative_words = []                   # store words from -ve reviews here.\n",
    "s = ''\n",
    "\n",
    "for sent in filtered_data2['Text'].values:\n",
    "    filtered_sentence = []\n",
    "    sent = cleanhtml(sent)\n",
    "    sent = cleanpunc(sent)\n",
    "    for w in sent.split():\n",
    "        if((w.isalpha()) and (len(w)>2)):  \n",
    "            if(w.lower() not in stop):    # If it is a stopword\n",
    "                s = (snow.stem(w.lower())).encode('utf8')\n",
    "                filtered_sentence.append(s)\n",
    "                if (filtered_data2['Score'].values)[i] == 'Positive':\n",
    "                    all_positive_words.append(s)\n",
    "                if(filtered_data2['Score'].values)[i] == 'Negative':\n",
    "                    all_negative_words.append(s)\n",
    "            else:\n",
    "                continue\n",
    "        else:\n",
    "            continue \n",
    "    string1 = b\" \".join(filtered_sentence) \n",
    "    final_string.append(string1)\n",
    "    i += 1"
   ]
  },
  {
   "cell_type": "markdown",
   "metadata": {
    "colab_type": "text",
    "id": "HgVte4ehj6PR"
   },
   "source": [
    "# Cleaned text Without Stemming for Google trained W2Vec"
   ]
  },
  {
   "cell_type": "code",
   "execution_count": 17,
   "metadata": {
    "colab": {
     "autoexec": {
      "startup": false,
      "wait_interval": 0
     },
     "base_uri": "https://localhost:8080/",
     "height": 70
    },
    "colab_type": "code",
    "collapsed": true,
    "executionInfo": {
     "elapsed": 60594,
     "status": "ok",
     "timestamp": 1529137512006,
     "user": {
      "displayName": "",
      "photoUrl": "",
      "userId": ""
     },
     "user_tz": -330
    },
    "id": "_PLTAymoj6PS",
    "outputId": "14033097-22d0-42ef-ccec-329ba558e63b"
   },
   "outputs": [],
   "source": [
    "i = 0\n",
    "string1 = ' '\n",
    "final_string_nostem = []\n",
    "s = ''\n",
    "\n",
    "for sent in filtered_data2['Text'].values:\n",
    "    filtered_sentence=[]\n",
    "    sent = cleanhtml(sent)\n",
    "    sent = cleanpunc(sent)\n",
    "    for w in sent.split():\n",
    "        if((w.isalpha()) and (len(w)>2)):  \n",
    "            if(w.lower() not in stop):\n",
    "                s = w.lower().encode('utf8')\n",
    "                filtered_sentence.append(s)\n",
    "            else:\n",
    "                continue\n",
    "        else:\n",
    "            continue \n",
    "    string1 = b\" \".join(filtered_sentence)     \n",
    "    final_string_nostem.append(string1)\n",
    "    i += 1"
   ]
  },
  {
   "cell_type": "markdown",
   "metadata": {
    "colab_type": "text",
    "id": "qcWHGbekj6Pd"
   },
   "source": [
    "# Postive and Negative words in reviews"
   ]
  },
  {
   "cell_type": "code",
   "execution_count": 18,
   "metadata": {
    "colab": {
     "autoexec": {
      "startup": false,
      "wait_interval": 0
     },
     "base_uri": "https://localhost:8080/",
     "height": 143
    },
    "colab_type": "code",
    "collapsed": false,
    "executionInfo": {
     "elapsed": 3891,
     "status": "ok",
     "timestamp": 1529137515997,
     "user": {
      "displayName": "",
      "photoUrl": "",
      "userId": ""
     },
     "user_tz": -330
    },
    "id": "ZghabP10j6Pd",
    "outputId": "01648a78-f654-4978-8335-0a1e7cada82c"
   },
   "outputs": [
    {
     "name": "stdout",
     "output_type": "stream",
     "text": [
      "Number of positive words: 11610405\n",
      "Number of negative words: 2354587\n"
     ]
    }
   ],
   "source": [
    "from collections import Counter\n",
    "print(\"Number of positive words:\",len(all_positive_words))\n",
    "print(\"Number of negative words:\", len(all_negative_words))"
   ]
  },
  {
   "cell_type": "markdown",
   "metadata": {
    "colab_type": "text",
    "id": "Rbxi9f2ej6Pi"
   },
   "source": [
    "# Storing our preprocessed data in Database"
   ]
  },
  {
   "cell_type": "code",
   "execution_count": 19,
   "metadata": {
    "colab": {
     "autoexec": {
      "startup": false,
      "wait_interval": 0
     },
     "base_uri": "https://localhost:8080/",
     "height": 517
    },
    "colab_type": "code",
    "collapsed": false,
    "executionInfo": {
     "elapsed": 1332,
     "status": "ok",
     "timestamp": 1529137517491,
     "user": {
      "displayName": "",
      "photoUrl": "",
      "userId": ""
     },
     "user_tz": -330
    },
    "id": "1J4pLg5lj6Pj",
    "outputId": "87f16c78-298a-4a7f-c422-54d9218dbdde"
   },
   "outputs": [
    {
     "name": "stderr",
     "output_type": "stream",
     "text": [
      "/anaconda3/envs/Vj/lib/python3.6/site-packages/ipykernel_launcher.py:1: SettingWithCopyWarning: \n",
      "A value is trying to be set on a copy of a slice from a DataFrame.\n",
      "Try using .loc[row_indexer,col_indexer] = value instead\n",
      "\n",
      "See the caveats in the documentation: http://pandas.pydata.org/pandas-docs/stable/indexing.html#indexing-view-versus-copy\n",
      "  \"\"\"Entry point for launching an IPython kernel.\n",
      "/anaconda3/envs/Vj/lib/python3.6/site-packages/ipykernel_launcher.py:2: SettingWithCopyWarning: \n",
      "A value is trying to be set on a copy of a slice from a DataFrame.\n",
      "Try using .loc[row_indexer,col_indexer] = value instead\n",
      "\n",
      "See the caveats in the documentation: http://pandas.pydata.org/pandas-docs/stable/indexing.html#indexing-view-versus-copy\n",
      "  \n"
     ]
    },
    {
     "data": {
      "text/html": [
       "<div>\n",
       "<style scoped>\n",
       "    .dataframe tbody tr th:only-of-type {\n",
       "        vertical-align: middle;\n",
       "    }\n",
       "\n",
       "    .dataframe tbody tr th {\n",
       "        vertical-align: top;\n",
       "    }\n",
       "\n",
       "    .dataframe thead th {\n",
       "        text-align: right;\n",
       "    }\n",
       "</style>\n",
       "<table border=\"1\" class=\"dataframe\">\n",
       "  <thead>\n",
       "    <tr style=\"text-align: right;\">\n",
       "      <th></th>\n",
       "      <th>Id</th>\n",
       "      <th>ProductId</th>\n",
       "      <th>UserId</th>\n",
       "      <th>ProfileName</th>\n",
       "      <th>HelpfulnessNumerator</th>\n",
       "      <th>HelpfulnessDenominator</th>\n",
       "      <th>Score</th>\n",
       "      <th>Time</th>\n",
       "      <th>Summary</th>\n",
       "      <th>Text</th>\n",
       "      <th>CleanedText</th>\n",
       "      <th>CleanedText_NoStem</th>\n",
       "    </tr>\n",
       "  </thead>\n",
       "  <tbody>\n",
       "    <tr>\n",
       "      <th>0</th>\n",
       "      <td>1</td>\n",
       "      <td>B001E4KFG0</td>\n",
       "      <td>A3SGXH7AUHU8GW</td>\n",
       "      <td>delmartian</td>\n",
       "      <td>1</td>\n",
       "      <td>1</td>\n",
       "      <td>Positive</td>\n",
       "      <td>1303862400</td>\n",
       "      <td>Good Quality Dog Food</td>\n",
       "      <td>I have bought several of the Vitality canned d...</td>\n",
       "      <td>b'bought sever vital can dog food product foun...</td>\n",
       "      <td>b'bought several vitality canned dog food prod...</td>\n",
       "    </tr>\n",
       "    <tr>\n",
       "      <th>1</th>\n",
       "      <td>2</td>\n",
       "      <td>B00813GRG4</td>\n",
       "      <td>A1D87F6ZCVE5NK</td>\n",
       "      <td>dll pa</td>\n",
       "      <td>0</td>\n",
       "      <td>0</td>\n",
       "      <td>Negative</td>\n",
       "      <td>1346976000</td>\n",
       "      <td>Not as Advertised</td>\n",
       "      <td>Product arrived labeled as Jumbo Salted Peanut...</td>\n",
       "      <td>b'product arriv label jumbo salt peanut peanut...</td>\n",
       "      <td>b'product arrived labeled jumbo salted peanuts...</td>\n",
       "    </tr>\n",
       "    <tr>\n",
       "      <th>2</th>\n",
       "      <td>3</td>\n",
       "      <td>B000LQOCH0</td>\n",
       "      <td>ABXLMWJIXXAIN</td>\n",
       "      <td>Natalia Corres \"Natalia Corres\"</td>\n",
       "      <td>1</td>\n",
       "      <td>1</td>\n",
       "      <td>Positive</td>\n",
       "      <td>1219017600</td>\n",
       "      <td>\"Delight\" says it all</td>\n",
       "      <td>This is a confection that has been around a fe...</td>\n",
       "      <td>b'confect around centuri light pillowi citrus ...</td>\n",
       "      <td>b'confection around centuries light pillowy ci...</td>\n",
       "    </tr>\n",
       "  </tbody>\n",
       "</table>\n",
       "</div>"
      ],
      "text/plain": [
       "   Id   ProductId          UserId                      ProfileName  \\\n",
       "0   1  B001E4KFG0  A3SGXH7AUHU8GW                       delmartian   \n",
       "1   2  B00813GRG4  A1D87F6ZCVE5NK                           dll pa   \n",
       "2   3  B000LQOCH0   ABXLMWJIXXAIN  Natalia Corres \"Natalia Corres\"   \n",
       "\n",
       "   HelpfulnessNumerator  HelpfulnessDenominator     Score        Time  \\\n",
       "0                     1                       1  Positive  1303862400   \n",
       "1                     0                       0  Negative  1346976000   \n",
       "2                     1                       1  Positive  1219017600   \n",
       "\n",
       "                 Summary                                               Text  \\\n",
       "0  Good Quality Dog Food  I have bought several of the Vitality canned d...   \n",
       "1      Not as Advertised  Product arrived labeled as Jumbo Salted Peanut...   \n",
       "2  \"Delight\" says it all  This is a confection that has been around a fe...   \n",
       "\n",
       "                                         CleanedText  \\\n",
       "0  b'bought sever vital can dog food product foun...   \n",
       "1  b'product arriv label jumbo salt peanut peanut...   \n",
       "2  b'confect around centuri light pillowi citrus ...   \n",
       "\n",
       "                                  CleanedText_NoStem  \n",
       "0  b'bought several vitality canned dog food prod...  \n",
       "1  b'product arrived labeled jumbo salted peanuts...  \n",
       "2  b'confection around centuries light pillowy ci...  "
      ]
     },
     "execution_count": 19,
     "metadata": {},
     "output_type": "execute_result"
    }
   ],
   "source": [
    "filtered_data2['CleanedText'] = final_string\n",
    "filtered_data2['CleanedText_NoStem'] = final_string_nostem\n",
    "filtered_data2.head(3)\n"
   ]
  },
  {
   "cell_type": "code",
   "execution_count": 20,
   "metadata": {
    "colab": {
     "autoexec": {
      "startup": false,
      "wait_interval": 0
     },
     "base_uri": "https://localhost:8080/",
     "height": 34
    },
    "colab_type": "code",
    "collapsed": false,
    "executionInfo": {
     "elapsed": 1253,
     "status": "ok",
     "timestamp": 1529132068612,
     "user": {
      "displayName": "",
      "photoUrl": "",
      "userId": ""
     },
     "user_tz": -330
    },
    "id": "lBhvGmpsj6Pl",
    "outputId": "29bd6a2a-ce92-4fad-bf65-b625e5b177d0"
   },
   "outputs": [
    {
     "data": {
      "text/plain": [
       "b'product arrived labeled jumbo salted peanuts peanuts actually small sized unsalted sure error vendor intended represent product jumbo'"
      ]
     },
     "execution_count": 20,
     "metadata": {},
     "output_type": "execute_result"
    }
   ],
   "source": [
    "filtered_data2['CleanedText_NoStem'][1]"
   ]
  },
  {
   "cell_type": "code",
   "execution_count": 21,
   "metadata": {
    "colab": {
     "autoexec": {
      "startup": false,
      "wait_interval": 0
     },
     "base_uri": "https://localhost:8080/",
     "height": 16
    },
    "colab_type": "code",
    "collapsed": true,
    "executionInfo": {
     "elapsed": 27060,
     "status": "ok",
     "timestamp": 1529132096607,
     "user": {
      "displayName": "",
      "photoUrl": "",
      "userId": ""
     },
     "user_tz": -330
    },
    "id": "BahqrdUHj6Po",
    "outputId": "748384e3-8b14-4653-bc00-fef61bf5b997"
   },
   "outputs": [],
   "source": [
    "con = sqlite3.connect('final.sqlite')\n",
    "con.text_factory = str\n",
    "filtered_data2.to_sql('Reviews', con,if_exists='replace')"
   ]
  },
  {
   "cell_type": "code",
   "execution_count": 22,
   "metadata": {
    "colab": {
     "autoexec": {
      "startup": false,
      "wait_interval": 0
     },
     "base_uri": "https://localhost:8080/",
     "height": 16
    },
    "colab_type": "code",
    "collapsed": true,
    "executionInfo": {
     "elapsed": 4379,
     "status": "ok",
     "timestamp": 1529132103318,
     "user": {
      "displayName": "",
      "photoUrl": "",
      "userId": ""
     },
     "user_tz": -330
    },
    "id": "djtplLU6j6Pq",
    "outputId": "27df3b1d-0119-4249-c991-1aa31b415d59"
   },
   "outputs": [],
   "source": [
    "con = sqlite3.connect(\"final.sqlite\")\n",
    "filtered_data2 = pd.read_sql_query(\"\"\"\n",
    "SELECT * FROM Reviews \n",
    "\"\"\",con)"
   ]
  },
  {
   "cell_type": "markdown",
   "metadata": {
    "colab_type": "text",
    "id": "M1HBoovWj6Pu"
   },
   "source": [
    "# Ways to convert text to vector\n",
    "## *1) Uni-gram BOW*"
   ]
  },
  {
   "cell_type": "code",
   "execution_count": 23,
   "metadata": {
    "colab": {
     "autoexec": {
      "startup": false,
      "wait_interval": 0
     },
     "base_uri": "https://localhost:8080/",
     "height": 16
    },
    "colab_type": "code",
    "collapsed": true,
    "executionInfo": {
     "elapsed": 1615,
     "status": "ok",
     "timestamp": 1529132106032,
     "user": {
      "displayName": "",
      "photoUrl": "",
      "userId": ""
     },
     "user_tz": -330
    },
    "id": "hi5SRfipj6Pv",
    "outputId": "5dfcfd46-7acf-4f3f-9a10-6f04f94d4637"
   },
   "outputs": [],
   "source": [
    "from sklearn.feature_extraction.text import CountVectorizer"
   ]
  },
  {
   "cell_type": "code",
   "execution_count": 24,
   "metadata": {
    "colab": {
     "autoexec": {
      "startup": false,
      "wait_interval": 0
     },
     "base_uri": "https://localhost:8080/",
     "height": 178
    },
    "colab_type": "code",
    "collapsed": false,
    "executionInfo": {
     "elapsed": 834,
     "status": "ok",
     "timestamp": 1529132108176,
     "user": {
      "displayName": "",
      "photoUrl": "",
      "userId": ""
     },
     "user_tz": -330
    },
    "id": "unzHbGEUyKSj",
    "outputId": "95d338b9-5384-4424-e183-4148e4077cd7"
   },
   "outputs": [
    {
     "data": {
      "text/plain": [
       "array([ b'bought sever vital can dog food product found good qualiti product look like stew process meat smell better labrador finicki appreci product better',\n",
       "       b'product arriv label jumbo salt peanut peanut actual small size unsalt sure error vendor intend repres product jumbo',\n",
       "       b'confect around centuri light pillowi citrus gelatin nut case filbert cut tini squar liber coat powder sugar tini mouth heaven chewi flavor high recommend yummi treat familiar stori lewi lion witch wardrob treat seduc edmund sell brother sister witch',\n",
       "       ...,\n",
       "       b'star small give one train session tri train dog ceaser dog treat made puppi hyper compar ingredi know littl star basic food ingredi without preserv food color sweet potato flavor also make hand smell like dog food',\n",
       "       b'best treat train reward dog good groom lower calori love doggi sweet potato seem favorit wet nose treat',\n",
       "       b'satisfi product advertis use cereal raw vinegar general sweetner'], dtype=object)"
      ]
     },
     "execution_count": 24,
     "metadata": {},
     "output_type": "execute_result"
    }
   ],
   "source": [
    "filtered_data2['CleanedText'].values"
   ]
  },
  {
   "cell_type": "code",
   "execution_count": 25,
   "metadata": {
    "colab": {
     "autoexec": {
      "startup": false,
      "wait_interval": 0
     },
     "base_uri": "https://localhost:8080/",
     "height": 16
    },
    "colab_type": "code",
    "collapsed": true,
    "executionInfo": {
     "elapsed": 15306,
     "status": "ok",
     "timestamp": 1529132706332,
     "user": {
      "displayName": "",
      "photoUrl": "",
      "userId": ""
     },
     "user_tz": -330
    },
    "id": "eJiKnKXxj6Px",
    "outputId": "55a7389a-aad3-43e7-fb1a-828b0f0593e6"
   },
   "outputs": [],
   "source": [
    "uni_gram = CountVectorizer()\n",
    "uni_gram_vectors = uni_gram.fit_transform(filtered_data2['CleanedText'].values)"
   ]
  },
  {
   "cell_type": "code",
   "execution_count": 26,
   "metadata": {
    "colab": {
     "autoexec": {
      "startup": false,
      "wait_interval": 0
     },
     "base_uri": "https://localhost:8080/",
     "height": 16
    },
    "colab_type": "code",
    "collapsed": true,
    "executionInfo": {
     "elapsed": 1088,
     "status": "ok",
     "timestamp": 1529122905357,
     "user": {
      "displayName": "",
      "photoUrl": "",
      "userId": ""
     },
     "user_tz": -330
    },
    "id": "xgIzMpYlj6P0",
    "outputId": "5308a48b-02f9-4afa-e608-e0864d02b629"
   },
   "outputs": [],
   "source": [
    "saveindisk(uni_gram_vectors,\"uni_gram\")"
   ]
  },
  {
   "cell_type": "code",
   "execution_count": 27,
   "metadata": {
    "colab": {
     "autoexec": {
      "startup": false,
      "wait_interval": 0
     },
     "base_uri": "https://localhost:8080/",
     "height": 16
    },
    "colab_type": "code",
    "collapsed": true,
    "executionInfo": {
     "elapsed": 1099,
     "status": "ok",
     "timestamp": 1529122906876,
     "user": {
      "displayName": "",
      "photoUrl": "",
      "userId": ""
     },
     "user_tz": -330
    },
    "id": "74MGTDGSj6P2",
    "outputId": "91a12237-407b-4975-f263-d9507508b150"
   },
   "outputs": [],
   "source": [
    "#Loading the variable from file\n",
    "uni_gram_vectors = openfromdisk(\"uni_gram\")"
   ]
  },
  {
   "cell_type": "code",
   "execution_count": 28,
   "metadata": {
    "colab": {
     "autoexec": {
      "startup": false,
      "wait_interval": 0
     },
     "base_uri": "https://localhost:8080/",
     "height": 34
    },
    "colab_type": "code",
    "collapsed": false,
    "executionInfo": {
     "elapsed": 1264,
     "status": "ok",
     "timestamp": 1529122908571,
     "user": {
      "displayName": "",
      "photoUrl": "",
      "userId": ""
     },
     "user_tz": -330
    },
    "id": "tcCyAhfVj6P7",
    "outputId": "1ea00588-a1be-4392-9d1f-827e07b7136d"
   },
   "outputs": [
    {
     "data": {
      "text/plain": [
       "71624"
      ]
     },
     "execution_count": 28,
     "metadata": {},
     "output_type": "execute_result"
    }
   ],
   "source": [
    "uni_gram_vectors.shape[1]"
   ]
  },
  {
   "cell_type": "code",
   "execution_count": 29,
   "metadata": {
    "colab": {
     "autoexec": {
      "startup": false,
      "wait_interval": 0
     },
     "base_uri": "https://localhost:8080/",
     "height": 52
    },
    "colab_type": "code",
    "collapsed": false,
    "executionInfo": {
     "elapsed": 1319,
     "status": "ok",
     "timestamp": 1529122913055,
     "user": {
      "displayName": "",
      "photoUrl": "",
      "userId": ""
     },
     "user_tz": -330
    },
    "id": "7KFBAjE4j6P-",
    "outputId": "db6d95d2-ccfc-435c-ff97-e08effe69341"
   },
   "outputs": [
    {
     "data": {
      "text/plain": [
       "<1x71624 sparse matrix of type '<class 'numpy.int64'>'\n",
       "\twith 20 stored elements in Compressed Sparse Row format>"
      ]
     },
     "execution_count": 29,
     "metadata": {},
     "output_type": "execute_result"
    }
   ],
   "source": [
    "uni_gram_vectors[0]"
   ]
  },
  {
   "cell_type": "code",
   "execution_count": 30,
   "metadata": {
    "colab": {
     "autoexec": {
      "startup": false,
      "wait_interval": 0
     },
     "base_uri": "https://localhost:8080/",
     "height": 34
    },
    "colab_type": "code",
    "collapsed": false,
    "executionInfo": {
     "elapsed": 1289,
     "status": "ok",
     "timestamp": 1529122916011,
     "user": {
      "displayName": "",
      "photoUrl": "",
      "userId": ""
     },
     "user_tz": -330
    },
    "id": "9lL5_OANj6QC",
    "outputId": "a8aa060d-530a-4706-a6b6-4fad732023fb"
   },
   "outputs": [
    {
     "data": {
      "text/plain": [
       "scipy.sparse.csr.csr_matrix"
      ]
     },
     "execution_count": 30,
     "metadata": {},
     "output_type": "execute_result"
    }
   ],
   "source": [
    "type(uni_gram_vectors)"
   ]
  },
  {
   "cell_type": "code",
   "execution_count": 31,
   "metadata": {
    "colab": {
     "autoexec": {
      "startup": false,
      "wait_interval": 0
     },
     "base_uri": "https://localhost:8080/",
     "height": 52
    },
    "colab_type": "code",
    "collapsed": true,
    "executionInfo": {
     "elapsed": 30336,
     "status": "ok",
     "timestamp": 1529122954470,
     "user": {
      "displayName": "",
      "photoUrl": "",
      "userId": ""
     },
     "user_tz": -330
    },
    "id": "qFu1z4Vdj6QG",
    "outputId": "e8e1e004-0ed7-4a83-c71d-e3486cf098fc"
   },
   "outputs": [],
   "source": [
    "from sklearn.decomposition import TruncatedSVD\n",
    "\n",
    "tsvd_uni = TruncatedSVD(n_components=2)\n",
    "tsvd_uni_vec = tsvd_uni.fit_transform(uni_gram_vectors)"
   ]
  },
  {
   "cell_type": "code",
   "execution_count": 32,
   "metadata": {
    "colab": {
     "autoexec": {
      "startup": false,
      "wait_interval": 0
     },
     "base_uri": "https://localhost:8080/",
     "height": 16
    },
    "colab_type": "code",
    "collapsed": true,
    "executionInfo": {
     "elapsed": 2210,
     "status": "ok",
     "timestamp": 1529122977242,
     "user": {
      "displayName": "",
      "photoUrl": "",
      "userId": ""
     },
     "user_tz": -330
    },
    "id": "GN3e9OI_j6QK",
    "outputId": "7d71debe-c73d-4d77-857d-beb3f8fa77e9"
   },
   "outputs": [],
   "source": [
    "saveindisk(tsvd_uni,\"tsvd_uni\")\n",
    "saveindisk(tsvd_uni_vec,\"tsvd_uni_vec\")"
   ]
  },
  {
   "cell_type": "code",
   "execution_count": 33,
   "metadata": {
    "colab": {
     "autoexec": {
      "startup": false,
      "wait_interval": 0
     },
     "base_uri": "https://localhost:8080/",
     "height": 16
    },
    "colab_type": "code",
    "collapsed": true,
    "executionInfo": {
     "elapsed": 1512,
     "status": "ok",
     "timestamp": 1529122979490,
     "user": {
      "displayName": "",
      "photoUrl": "",
      "userId": ""
     },
     "user_tz": -330
    },
    "id": "UYzvnrLNj6QM",
    "outputId": "d7dabe05-00b7-4037-dbd3-8706e7fbe0c9"
   },
   "outputs": [],
   "source": [
    "tsvd_uni = openfromdisk(\"tsvd_uni\")\n",
    "tsvd_uni_vec = openfromdisk(\"tsvd_uni_vec\")"
   ]
  },
  {
   "cell_type": "code",
   "execution_count": 34,
   "metadata": {
    "colab": {
     "autoexec": {
      "startup": false,
      "wait_interval": 0
     },
     "base_uri": "https://localhost:8080/",
     "height": 34
    },
    "colab_type": "code",
    "collapsed": false,
    "executionInfo": {
     "elapsed": 1398,
     "status": "ok",
     "timestamp": 1529122981668,
     "user": {
      "displayName": "",
      "photoUrl": "",
      "userId": ""
     },
     "user_tz": -330
    },
    "id": "HUPwq6eJj6QQ",
    "outputId": "c6876fa9-6d53-4025-a134-4d1b28030c8b"
   },
   "outputs": [
    {
     "data": {
      "text/plain": [
       "0.064324302977208064"
      ]
     },
     "execution_count": 34,
     "metadata": {},
     "output_type": "execute_result"
    }
   ],
   "source": [
    "tsvd_uni.explained_variance_ratio_[:].sum()"
   ]
  },
  {
   "cell_type": "code",
   "execution_count": 35,
   "metadata": {
    "colab": {
     "autoexec": {
      "startup": false,
      "wait_interval": 0
     },
     "base_uri": "https://localhost:8080/",
     "height": 476
    },
    "colab_type": "code",
    "collapsed": false,
    "executionInfo": {
     "elapsed": 84751,
     "status": "ok",
     "timestamp": 1529123206657,
     "user": {
      "displayName": "",
      "photoUrl": "",
      "userId": ""
     },
     "user_tz": -330
    },
    "id": "5clRv-H0j6Qb",
    "outputId": "a0589142-08b5-4ef6-e0dc-88e99138a77c"
   },
   "outputs": [
    {
     "data": {
      "image/png": "[encoded data removed]",
      "text/plain": [
       "<Figure size 512.875x432 with 1 Axes>"
      ]
     },
     "metadata": {},
     "output_type": "display_data"
    }
   ],
   "source": [
    "# Perplexity = 40\n",
    "\n",
    "from sklearn.manifold import TSNE\n",
    "import random\n",
    "\n",
    "n_samples = 1000\n",
    "sample_cols = random.sample(range(1, tsvd_uni_vec.shape[0]), n_samples)\n",
    "sample_features = tsvd_uni_vec[sample_cols]\n",
    "\n",
    "sample_class = filtered_data2['Score'][sample_cols]\n",
    "sample_class = sample_class[:,np.newaxis]\n",
    "model = TSNE(n_components=2,random_state=0,perplexity=40)\n",
    "\n",
    "embedded_data = model.fit_transform(sample_features)\n",
    "final_data = np.concatenate((embedded_data,sample_class),axis=1)\n",
    "tsne_data = pd.DataFrame(data=final_data,columns=[\"Dim1\",\"Dim2\",\"label\"])\n",
    "\n",
    "sns.FacetGrid(tsne_data,hue=\"label\",size=6).map(plt.scatter,\"Dim1\",\"Dim2\").add_legend()\n",
    "plt.show()"
   ]
  },
  {
   "cell_type": "code",
   "execution_count": 37,
   "metadata": {
    "colab": {
     "autoexec": {
      "startup": false,
      "wait_interval": 0
     },
     "base_uri": "https://localhost:8080/",
     "height": 476
    },
    "colab_type": "code",
    "collapsed": false,
    "executionInfo": {
     "elapsed": 64820,
     "status": "ok",
     "timestamp": 1529123271781,
     "user": {
      "displayName": "",
      "photoUrl": "",
      "userId": ""
     },
     "user_tz": -330
    },
    "id": "vfudNJccj6Qi",
    "outputId": "6d11e3db-e0bb-4579-9854-2e6d5e5d672e"
   },
   "outputs": [
    {
     "data": {
      "image/png": "[encoded data removed]",
      "text/plain": [
       "<Figure size 512.875x432 with 1 Axes>"
      ]
     },
     "metadata": {},
     "output_type": "display_data"
    }
   ],
   "source": [
    "# Perplexity = 30\n",
    "\n",
    "from sklearn.manifold import TSNE\n",
    "import random\n",
    "\n",
    "n_samples = 1000\n",
    "sample_cols = random.sample(range(1, tsvd_uni_vec.shape[0]), n_samples)\n",
    "sample_features = tsvd_uni_vec[sample_cols]\n",
    "\n",
    "sample_class = filtered_data2['Score'][sample_cols]\n",
    "sample_class = sample_class[:,np.newaxis]\n",
    "model = TSNE(n_components=2,random_state=0,perplexity=20)\n",
    "\n",
    "embedded_data = model.fit_transform(sample_features)\n",
    "final_data = np.concatenate((embedded_data,sample_class),axis=1)\n",
    "tsne_data = pd.DataFrame(data=final_data,columns=[\"Dim1\",\"Dim2\",\"label\"])\n",
    "\n",
    "sns.FacetGrid(tsne_data,hue=\"label\",size=6).map(plt.scatter,\"Dim1\",\"Dim2\").add_legend()\n",
    "plt.show()"
   ]
  },
  {
   "cell_type": "markdown",
   "metadata": {
    "colab_type": "text",
    "id": "zfR_Snfsj6Qn"
   },
   "source": [
    "## *2) Bi-gram BOW*"
   ]
  },
  {
   "cell_type": "code",
   "execution_count": 38,
   "metadata": {
    "colab": {
     "autoexec": {
      "startup": false,
      "wait_interval": 0
     },
     "base_uri": "https://localhost:8080/",
     "height": 52
    },
    "colab_type": "code",
    "collapsed": true,
    "executionInfo": {
     "elapsed": 62294,
     "status": "ok",
     "timestamp": 1529124833305,
     "user": {
      "displayName": "",
      "photoUrl": "",
      "userId": ""
     },
     "user_tz": -330
    },
    "id": "f-2s5oKvj6Qn",
    "outputId": "60ba18cf-9f99-4650-d645-2b9c59168536"
   },
   "outputs": [],
   "source": [
    "bi_gram = CountVectorizer(ngram_range=(1,2))\n",
    "bi_gram_vectors = bi_gram.fit_transform(filtered_data2['CleanedText'].values)"
   ]
  },
  {
   "cell_type": "code",
   "execution_count": 39,
   "metadata": {
    "colab": {
     "autoexec": {
      "startup": false,
      "wait_interval": 0
     },
     "base_uri": "https://localhost:8080/",
     "height": 16
    },
    "colab_type": "code",
    "collapsed": true,
    "executionInfo": {
     "elapsed": 2882,
     "status": "ok",
     "timestamp": 1529124836358,
     "user": {
      "displayName": "",
      "photoUrl": "",
      "userId": ""
     },
     "user_tz": -330
    },
    "id": "tEHn_RD3j6Qq",
    "outputId": "e02a30fb-7f52-4937-9e7f-0775f003cf57"
   },
   "outputs": [],
   "source": [
    "saveindisk(bi_gram_vectors,\"bi_gram\")"
   ]
  },
  {
   "cell_type": "code",
   "execution_count": 40,
   "metadata": {
    "colab": {
     "autoexec": {
      "startup": false,
      "wait_interval": 0
     },
     "base_uri": "https://localhost:8080/",
     "height": 16
    },
    "colab_type": "code",
    "collapsed": true,
    "executionInfo": {
     "elapsed": 1449,
     "status": "ok",
     "timestamp": 1529124838265,
     "user": {
      "displayName": "",
      "photoUrl": "",
      "userId": ""
     },
     "user_tz": -330
    },
    "id": "eMdCYpEwj6Qv",
    "outputId": "403fb1f7-e2ef-4f67-8aa9-d71e983b123a"
   },
   "outputs": [],
   "source": [
    "bi_gram_vectors = openfromdisk(\"bi_gram\")"
   ]
  },
  {
   "cell_type": "code",
   "execution_count": 41,
   "metadata": {
    "colab": {
     "autoexec": {
      "startup": false,
      "wait_interval": 0
     },
     "base_uri": "https://localhost:8080/",
     "height": 34
    },
    "colab_type": "code",
    "collapsed": false,
    "executionInfo": {
     "elapsed": 1290,
     "status": "ok",
     "timestamp": 1529124839911,
     "user": {
      "displayName": "",
      "photoUrl": "",
      "userId": ""
     },
     "user_tz": -330
    },
    "id": "uOFa1v0wj6Q-",
    "outputId": "0c1305a3-0255-497a-decd-ca65095c9a25"
   },
   "outputs": [
    {
     "data": {
      "text/plain": [
       "(364171, 2923725)"
      ]
     },
     "execution_count": 41,
     "metadata": {},
     "output_type": "execute_result"
    }
   ],
   "source": [
    "bi_gram_vectors.shape "
   ]
  },
  {
   "cell_type": "code",
   "execution_count": 42,
   "metadata": {
    "colab": {
     "autoexec": {
      "startup": false,
      "wait_interval": 0
     },
     "base_uri": "https://localhost:8080/",
     "height": 34
    },
    "colab_type": "code",
    "collapsed": false,
    "executionInfo": {
     "elapsed": 1092,
     "status": "ok",
     "timestamp": 1529124842799,
     "user": {
      "displayName": "",
      "photoUrl": "",
      "userId": ""
     },
     "user_tz": -330
    },
    "id": "iCNmSP-aj6RE",
    "outputId": "c374d687-f30f-4dc0-d61e-4b6f58570837"
   },
   "outputs": [
    {
     "data": {
      "text/plain": [
       "scipy.sparse.csr.csr_matrix"
      ]
     },
     "execution_count": 42,
     "metadata": {},
     "output_type": "execute_result"
    }
   ],
   "source": [
    "type(bi_gram_vectors)"
   ]
  },
  {
   "cell_type": "code",
   "execution_count": 43,
   "metadata": {
    "colab": {
     "autoexec": {
      "startup": false,
      "wait_interval": 0
     },
     "base_uri": "https://localhost:8080/",
     "height": 52
    },
    "colab_type": "code",
    "collapsed": true,
    "executionInfo": {
     "elapsed": 5786,
     "status": "ok",
     "timestamp": 1529124970639,
     "user": {
      "displayName": "",
      "photoUrl": "",
      "userId": ""
     },
     "user_tz": -330
    },
    "id": "v0YsnWJMj6RL",
    "outputId": "bfd1751f-049a-4ccd-e09b-debf48900ac4"
   },
   "outputs": [],
   "source": [
    "from sklearn.decomposition import TruncatedSVD\n",
    "sample_points = filtered_data2.sample(1100)\n",
    "\n",
    "bi_gram = CountVectorizer(ngram_range=(1,2))\n",
    "bi_gram_vectors = bi_gram.fit_transform(sample_points['CleanedText'])\n",
    "tsvd_bi = TruncatedSVD(n_components=2)\n",
    "tsvd_bi_vec = tsvd_bi.fit_transform(bi_gram_vectors)"
   ]
  },
  {
   "cell_type": "code",
   "execution_count": 44,
   "metadata": {
    "colab": {
     "autoexec": {
      "startup": false,
      "wait_interval": 0
     },
     "base_uri": "https://localhost:8080/",
     "height": 16
    },
    "colab_type": "code",
    "collapsed": true,
    "executionInfo": {
     "elapsed": 1453,
     "status": "ok",
     "timestamp": 1529124972828,
     "user": {
      "displayName": "",
      "photoUrl": "",
      "userId": ""
     },
     "user_tz": -330
    },
    "id": "gDJH1UuWj6RQ",
    "outputId": "18e602b7-81cd-43fe-f30f-d14fd661573d"
   },
   "outputs": [],
   "source": [
    "saveindisk(tsvd_bi, \"tsvd_bi\")\n",
    "saveindisk(tsvd_bi_vec, \"tsvd_bi_vec\")"
   ]
  },
  {
   "cell_type": "code",
   "execution_count": 45,
   "metadata": {
    "colab": {
     "autoexec": {
      "startup": false,
      "wait_interval": 0
     },
     "base_uri": "https://localhost:8080/",
     "height": 16
    },
    "colab_type": "code",
    "collapsed": true,
    "executionInfo": {
     "elapsed": 1836,
     "status": "ok",
     "timestamp": 1529124975507,
     "user": {
      "displayName": "",
      "photoUrl": "",
      "userId": ""
     },
     "user_tz": -330
    },
    "id": "XZDDiMJdj6RS",
    "outputId": "99edfafa-9c89-4e3b-d22b-f5c667e6f585"
   },
   "outputs": [],
   "source": [
    "tsvd_bi = openfromdisk(\"tsvd_bi\")\n",
    "tsvd_bi_vec = openfromdisk(\"tsvd_bi_vec\")"
   ]
  },
  {
   "cell_type": "code",
   "execution_count": 46,
   "metadata": {
    "colab": {
     "autoexec": {
      "startup": false,
      "wait_interval": 0
     },
     "base_uri": "https://localhost:8080/",
     "height": 34
    },
    "colab_type": "code",
    "collapsed": false,
    "executionInfo": {
     "elapsed": 823,
     "status": "ok",
     "timestamp": 1529124976760,
     "user": {
      "displayName": "",
      "photoUrl": "",
      "userId": ""
     },
     "user_tz": -330
    },
    "id": "zTiy02_Pj6RT",
    "outputId": "d2c9c61c-d2ee-416c-a810-15c4d3bfd667"
   },
   "outputs": [
    {
     "data": {
      "text/plain": [
       "0.064812388597165163"
      ]
     },
     "execution_count": 46,
     "metadata": {},
     "output_type": "execute_result"
    }
   ],
   "source": [
    "tsvd_bi.explained_variance_ratio_[:].sum()"
   ]
  },
  {
   "cell_type": "code",
   "execution_count": 47,
   "metadata": {
    "colab": {
     "autoexec": {
      "startup": false,
      "wait_interval": 0
     },
     "base_uri": "https://localhost:8080/",
     "height": 441
    },
    "colab_type": "code",
    "collapsed": false,
    "executionInfo": {
     "elapsed": 76550,
     "status": "ok",
     "timestamp": 1529125301220,
     "user": {
      "displayName": "",
      "photoUrl": "",
      "userId": ""
     },
     "user_tz": -330
    },
    "id": "v4iBsbNMj6RX",
    "outputId": "bbf32c0f-98f4-46a1-928b-1978a5a0d675"
   },
   "outputs": [
    {
     "data": {
      "image/png": "[encoded data removed]",
      "text/plain": [
       "<Figure size 512.875x432 with 1 Axes>"
      ]
     },
     "metadata": {},
     "output_type": "display_data"
    }
   ],
   "source": [
    "# Perplexity = 30\n",
    "\n",
    "from sklearn.manifold import TSNE\n",
    "from time import time\n",
    "import random\n",
    "\n",
    "n_samples = 1000\n",
    "sample_cols = random.sample(range(1, tsvd_bi_vec.shape[0]), n_samples)\n",
    "sample_features = tsvd_bi_vec[sample_cols]\n",
    "\n",
    "sample_class = filtered_data2['Score'][sample_cols]\n",
    "sample_class = sample_class[:,np.newaxis]\n",
    "model = TSNE(n_components=2,random_state=0,perplexity=30)\n",
    "\n",
    "embedded_data = model.fit_transform(sample_features)\n",
    "final_data = np.concatenate((embedded_data,sample_class),axis=1)\n",
    "tsne_data = pd.DataFrame(data=final_data,columns=[\"Dim1\",\"Dim2\",\"label\"])\n",
    "\n",
    "sns.FacetGrid(tsne_data,hue=\"label\",size=6).map(plt.scatter,\"Dim1\",\"Dim2\").add_legend()\n",
    "plt.show()"
   ]
  },
  {
   "cell_type": "code",
   "execution_count": 48,
   "metadata": {
    "colab": {
     "autoexec": {
      "startup": false,
      "wait_interval": 0
     },
     "base_uri": "https://localhost:8080/",
     "height": 476
    },
    "colab_type": "code",
    "collapsed": false,
    "executionInfo": {
     "elapsed": 66083,
     "status": "ok",
     "timestamp": 1529125367688,
     "user": {
      "displayName": "",
      "photoUrl": "",
      "userId": ""
     },
     "user_tz": -330
    },
    "id": "VJn6IWVMj6RZ",
    "outputId": "8a23ac46-ef2a-498d-e353-fd9c97a6f8a5"
   },
   "outputs": [
    {
     "data": {
      "image/png": "[encoded data removed]",
      "text/plain": [
       "<Figure size 512.875x432 with 1 Axes>"
      ]
     },
     "metadata": {},
     "output_type": "display_data"
    }
   ],
   "source": [
    "# Perplexity = 20\n",
    "\n",
    "from sklearn.manifold import TSNE\n",
    "import random\n",
    "\n",
    "n_samples = 1000\n",
    "sample_cols = random.sample(range(1, tsvd_bi_vec.shape[0]), n_samples)\n",
    "sample_features = tsvd_bi_vec[sample_cols]\n",
    "\n",
    "sample_class = filtered_data2['Score'][sample_cols]\n",
    "sample_class = sample_class[:,np.newaxis]\n",
    "model = TSNE(n_components=2,random_state=0,perplexity=20)\n",
    "\n",
    "embedded_data = model.fit_transform(sample_features)\n",
    "final_data = np.concatenate((embedded_data,sample_class),axis=1)\n",
    "tsne_data = pd.DataFrame(data=final_data,columns=[\"Dim1\",\"Dim2\",\"label\"])\n",
    "\n",
    "sns.FacetGrid(tsne_data,hue=\"label\",size=6).map(plt.scatter,\"Dim1\",\"Dim2\").add_legend()\n",
    "plt.show()"
   ]
  },
  {
   "cell_type": "markdown",
   "metadata": {
    "colab_type": "text",
    "id": "jeWOJScxj6Rd"
   },
   "source": [
    "## *3) tf-idf*\n",
    "\n",
    "* TF*IDF is an information retrieval technique that weighs a term's frequency (TF) and its inverse document frequency (IDF). Each word or term has its respective TF and IDF score. The product of the TF and IDF scores of a term is called the TF*IDF weight of that term\n",
    "\n",
    "![alt text](https://1.bp.blogspot.com/-tnzPA6dDtTU/Vw6EWm_PjCI/AAAAAAABDwI/JatHtUJb4fsce9E-Ns5t02_nakFtGrsugCLcB/s1600/%25E8%259E%25A2%25E5%25B9%2595%25E5%25BF%25AB%25E7%2585%25A7%2B2016-04-14%2B%25E4%25B8%258A%25E5%258D%25881.39.07.png)"
   ]
  },
  {
   "cell_type": "code",
   "execution_count": 49,
   "metadata": {
    "colab": {
     "autoexec": {
      "startup": false,
      "wait_interval": 0
     },
     "base_uri": "https://localhost:8080/",
     "height": 52
    },
    "colab_type": "code",
    "collapsed": true,
    "executionInfo": {
     "elapsed": 71926,
     "status": "ok",
     "timestamp": 1529125440002,
     "user": {
      "displayName": "",
      "photoUrl": "",
      "userId": ""
     },
     "user_tz": -330
    },
    "id": "wxXWP4bHj6Rf",
    "outputId": "8384f799-3427-4867-f338-63b9098d664b"
   },
   "outputs": [],
   "source": [
    "from sklearn.feature_extraction.text import TfidfVectorizer\n",
    "tfidf = TfidfVectorizer(ngram_range=(1,2))\n",
    "tfidf_vec = tfidf.fit_transform(filtered_data2['CleanedText'])"
   ]
  },
  {
   "cell_type": "code",
   "execution_count": 50,
   "metadata": {
    "colab": {
     "autoexec": {
      "startup": false,
      "wait_interval": 0
     },
     "base_uri": "https://localhost:8080/",
     "height": 16
    },
    "colab_type": "code",
    "collapsed": true,
    "executionInfo": {
     "elapsed": 2523,
     "status": "ok",
     "timestamp": 1529125443031,
     "user": {
      "displayName": "",
      "photoUrl": "",
      "userId": ""
     },
     "user_tz": -330
    },
    "id": "4DT2flNSj6Rh",
    "outputId": "af3e873e-24ea-4a18-cfe5-f567b021fb69"
   },
   "outputs": [],
   "source": [
    "saveindisk(tfidf_vec,\"tfidf\")"
   ]
  },
  {
   "cell_type": "code",
   "execution_count": 51,
   "metadata": {
    "colab": {
     "autoexec": {
      "startup": false,
      "wait_interval": 0
     },
     "base_uri": "https://localhost:8080/",
     "height": 16
    },
    "colab_type": "code",
    "collapsed": true,
    "executionInfo": {
     "elapsed": 1235,
     "status": "ok",
     "timestamp": 1529125444673,
     "user": {
      "displayName": "",
      "photoUrl": "",
      "userId": ""
     },
     "user_tz": -330
    },
    "id": "NbFklD-Pj6Ri",
    "outputId": "53193950-1f7e-4377-a620-e3c2d518543c"
   },
   "outputs": [],
   "source": [
    "tfidf_vec = openfromdisk(\"tfidf\")"
   ]
  },
  {
   "cell_type": "code",
   "execution_count": 52,
   "metadata": {
    "colab": {
     "autoexec": {
      "startup": false,
      "wait_interval": 0
     },
     "base_uri": "https://localhost:8080/",
     "height": 34
    },
    "colab_type": "code",
    "collapsed": false,
    "executionInfo": {
     "elapsed": 1472,
     "status": "ok",
     "timestamp": 1529125446520,
     "user": {
      "displayName": "",
      "photoUrl": "",
      "userId": ""
     },
     "user_tz": -330
    },
    "id": "6yKW4fRYj6Rk",
    "outputId": "ea7dfaec-0a22-4027-b846-d2756f832c2e"
   },
   "outputs": [
    {
     "data": {
      "text/plain": [
       "(364171, 2923725)"
      ]
     },
     "execution_count": 52,
     "metadata": {},
     "output_type": "execute_result"
    }
   ],
   "source": [
    "tfidf_vec.shape"
   ]
  },
  {
   "cell_type": "code",
   "execution_count": 53,
   "metadata": {
    "colab": {
     "autoexec": {
      "startup": false,
      "wait_interval": 0
     },
     "base_uri": "https://localhost:8080/",
     "height": 194
    },
    "colab_type": "code",
    "collapsed": false,
    "executionInfo": {
     "elapsed": 7878,
     "status": "ok",
     "timestamp": 1529125456346,
     "user": {
      "displayName": "",
      "photoUrl": "",
      "userId": ""
     },
     "user_tz": -330
    },
    "id": "Kj4IEbEDj6Rt",
    "outputId": "d574b1a0-db9d-4b22-84dc-cdbffce17415"
   },
   "outputs": [
    {
     "data": {
      "text/plain": [
       "['barista pour',\n",
       " 'barista prepar',\n",
       " 'barista prima',\n",
       " 'barista primia',\n",
       " 'barista pull',\n",
       " 'barista realli',\n",
       " 'barista recip',\n",
       " 'barista recommend',\n",
       " 'barista run',\n",
       " 'barista said']"
      ]
     },
     "execution_count": 53,
     "metadata": {},
     "output_type": "execute_result"
    }
   ],
   "source": [
    "features = tfidf.get_feature_names()\n",
    "features[190000:190010]"
   ]
  },
  {
   "cell_type": "code",
   "execution_count": 54,
   "metadata": {
    "colab": {
     "autoexec": {
      "startup": false,
      "wait_interval": 0
     },
     "base_uri": "https://localhost:8080/",
     "height": 647
    },
    "colab_type": "code",
    "collapsed": true,
    "executionInfo": {
     "elapsed": 1360,
     "status": "ok",
     "timestamp": 1529125457788,
     "user": {
      "displayName": "",
      "photoUrl": "",
      "userId": ""
     },
     "user_tz": -330
    },
    "id": "O6of3QlVj6Rv",
    "outputId": "e6a66f40-3ed2-4d43-88c3-aa36481bacb3"
   },
   "outputs": [],
   "source": [
    "def top_tfidf_feats(row, features, top_n=25):\n",
    "    ''' Get top n tfidf values in row and return them with their corresponding feature names.'''\n",
    "    topn_ind = np.argsort(row)[::-1][:top_n]\n",
    "    top_feats = [(features[i], row[i]) for i in topn_ind]\n",
    "    df = pd.DataFrame(top_feats,columns = ['feature', 'tfidf'])\n",
    "    return df\n",
    "top_tfidfs = top_tfidf_feats(tfidf_vec[1000,:].toarray()[0],features,20)"
   ]
  },
  {
   "cell_type": "code",
   "execution_count": 55,
   "metadata": {
    "colab": {
     "autoexec": {
      "startup": false,
      "wait_interval": 0
     },
     "base_uri": "https://localhost:8080/",
     "height": 52
    },
    "colab_type": "code",
    "collapsed": true,
    "executionInfo": {
     "elapsed": 160420,
     "status": "ok",
     "timestamp": 1529125618585,
     "user": {
      "displayName": "",
      "photoUrl": "",
      "userId": ""
     },
     "user_tz": -330
    },
    "id": "2Y7YRBD7j6Ry",
    "outputId": "c3c10ed7-1140-46b1-e1fd-3b9dafc0e3e4"
   },
   "outputs": [],
   "source": [
    "from sklearn.decomposition import TruncatedSVD\n",
    "\n",
    "tsvd_tfidf = TruncatedSVD(n_components=2)\n",
    "tsvd_tfidf_vec = tsvd_tfidf.fit_transform(tfidf_vec)"
   ]
  },
  {
   "cell_type": "code",
   "execution_count": 56,
   "metadata": {
    "colab": {
     "autoexec": {
      "startup": false,
      "wait_interval": 0
     },
     "base_uri": "https://localhost:8080/",
     "height": 16
    },
    "colab_type": "code",
    "collapsed": true,
    "executionInfo": {
     "elapsed": 16453,
     "status": "ok",
     "timestamp": 1529125649057,
     "user": {
      "displayName": "",
      "photoUrl": "",
      "userId": ""
     },
     "user_tz": -330
    },
    "id": "qAJyYHdlj6R2",
    "outputId": "28c84672-ab0f-40ca-e4f3-012ba7d3fc49"
   },
   "outputs": [],
   "source": [
    "saveindisk(tsvd_tfidf,\"tsvd_tfidf\")\n",
    "saveindisk(tsvd_tfidf_vec,\"tsvd_tfidf_vec\")"
   ]
  },
  {
   "cell_type": "code",
   "execution_count": 57,
   "metadata": {
    "colab": {
     "autoexec": {
      "startup": false,
      "wait_interval": 0
     },
     "base_uri": "https://localhost:8080/",
     "height": 16
    },
    "colab_type": "code",
    "collapsed": true,
    "executionInfo": {
     "elapsed": 9708,
     "status": "ok",
     "timestamp": 1529125659277,
     "user": {
      "displayName": "",
      "photoUrl": "",
      "userId": ""
     },
     "user_tz": -330
    },
    "id": "VBm9t162j6R5",
    "outputId": "52817672-8f5f-46eb-d1fd-f5a4bd7bf9b5"
   },
   "outputs": [],
   "source": [
    "tsvd_tfidf_vec = openfromdisk(\"tsvd_tfidf_vec\")\n",
    "tsvd_tfidf = openfromdisk(\"tsvd_tfidf\")"
   ]
  },
  {
   "cell_type": "code",
   "execution_count": 58,
   "metadata": {
    "colab": {
     "autoexec": {
      "startup": false,
      "wait_interval": 0
     },
     "base_uri": "https://localhost:8080/",
     "height": 34
    },
    "colab_type": "code",
    "collapsed": false,
    "executionInfo": {
     "elapsed": 875,
     "status": "ok",
     "timestamp": 1529125660542,
     "user": {
      "displayName": "",
      "photoUrl": "",
      "userId": ""
     },
     "user_tz": -330
    },
    "id": "71FmnImUj6R6",
    "outputId": "6d3933df-863c-4d3a-f2b8-48a0203dbc3e"
   },
   "outputs": [
    {
     "data": {
      "text/plain": [
       "0.0031611495613284375"
      ]
     },
     "execution_count": 58,
     "metadata": {},
     "output_type": "execute_result"
    }
   ],
   "source": [
    "tsvd_tfidf.explained_variance_ratio_[:].sum() "
   ]
  },
  {
   "cell_type": "code",
   "execution_count": 59,
   "metadata": {
    "colab": {
     "autoexec": {
      "startup": false,
      "wait_interval": 0
     },
     "base_uri": "https://localhost:8080/",
     "height": 476
    },
    "colab_type": "code",
    "collapsed": false,
    "executionInfo": {
     "elapsed": 66567,
     "status": "ok",
     "timestamp": 1529125759282,
     "user": {
      "displayName": "",
      "photoUrl": "",
      "userId": ""
     },
     "user_tz": -330
    },
    "id": "QCMWcJCDj6R_",
    "outputId": "6dede676-0f99-4102-e28c-b503a2a80845"
   },
   "outputs": [
    {
     "data": {
      "image/png": "[encoded data removed]",
      "text/plain": [
       "<Figure size 512.875x432 with 1 Axes>"
      ]
     },
     "metadata": {},
     "output_type": "display_data"
    }
   ],
   "source": [
    "# Perplexity = 20\n",
    "\n",
    "from sklearn.manifold import TSNE\n",
    "import random\n",
    "\n",
    "n_samples = 1000\n",
    "sample_cols = random.sample(range(1, tsvd_tfidf_vec.shape[0]), n_samples)\n",
    "sample_features = tsvd_tfidf_vec[sample_cols]\n",
    "\n",
    "sample_class = filtered_data2['Score'][sample_cols]\n",
    "sample_class = sample_class[:,np.newaxis]\n",
    "model = TSNE(n_components=2,random_state=0,perplexity=20)\n",
    "\n",
    "embedded_data = model.fit_transform(sample_features)\n",
    "final_data = np.concatenate((embedded_data,sample_class),axis=1)\n",
    "tsne_data = pd.DataFrame(data=final_data,columns=[\"Dim1\",\"Dim2\",\"label\"])\n",
    "\n",
    "sns.FacetGrid(tsne_data,hue=\"label\",size=6).map(plt.scatter,\"Dim1\",\"Dim2\").add_legend()\n",
    "plt.show()"
   ]
  },
  {
   "cell_type": "code",
   "execution_count": 60,
   "metadata": {
    "colab": {
     "autoexec": {
      "startup": false,
      "wait_interval": 0
     },
     "base_uri": "https://localhost:8080/",
     "height": 476
    },
    "colab_type": "code",
    "collapsed": false,
    "executionInfo": {
     "elapsed": 73309,
     "status": "ok",
     "timestamp": 1529125833070,
     "user": {
      "displayName": "",
      "photoUrl": "",
      "userId": ""
     },
     "user_tz": -330
    },
    "id": "FfTbrM22j6SB",
    "outputId": "035a5f49-7dbf-40aa-af23-6d20d5a5161f"
   },
   "outputs": [
    {
     "data": {
      "image/png": "[encoded data removed]",
      "text/plain": [
       "<Figure size 512.875x432 with 1 Axes>"
      ]
     },
     "metadata": {},
     "output_type": "display_data"
    }
   ],
   "source": [
    "# Perplexity = 30 \n",
    "\n",
    "from sklearn.manifold import TSNE\n",
    "import random\n",
    "\n",
    "n_samples = 1000\n",
    "sample_cols = random.sample(range(1, tsvd_tfidf_vec.shape[0]), n_samples)\n",
    "sample_features = tsvd_tfidf_vec[sample_cols]\n",
    "\n",
    "sample_class = filtered_data2['Score'][sample_cols]\n",
    "sample_class = sample_class[:,np.newaxis]\n",
    "model = TSNE(n_components=2,random_state=0,perplexity=30)\n",
    "\n",
    "embedded_data = model.fit_transform(sample_features)\n",
    "final_data = np.concatenate((embedded_data,sample_class),axis=1)\n",
    "tsne_data = pd.DataFrame(data=final_data,columns=[\"Dim1\",\"Dim2\",\"label\"])\n",
    "\n",
    "sns.FacetGrid(tsne_data,hue=\"label\",size=6).map(plt.scatter,\"Dim1\",\"Dim2\").add_legend()\n",
    "plt.show()"
   ]
  },
  {
   "cell_type": "code",
   "execution_count": 61,
   "metadata": {
    "colab": {
     "autoexec": {
      "startup": false,
      "wait_interval": 0
     },
     "base_uri": "https://localhost:8080/",
     "height": 476
    },
    "colab_type": "code",
    "collapsed": false,
    "executionInfo": {
     "elapsed": 81286,
     "status": "ok",
     "timestamp": 1529125915160,
     "user": {
      "displayName": "",
      "photoUrl": "",
      "userId": ""
     },
     "user_tz": -330
    },
    "id": "SeMRA5r4j6SE",
    "outputId": "6a90d38c-538c-402d-e907-9bd78727caae"
   },
   "outputs": [
    {
     "data": {
      "image/png": "[encoded data removed]",
      "text/plain": [
       "<Figure size 512.875x432 with 1 Axes>"
      ]
     },
     "metadata": {},
     "output_type": "display_data"
    }
   ],
   "source": [
    "# Perplexity = 40\n",
    "\n",
    "from sklearn.manifold import TSNE\n",
    "import random\n",
    "\n",
    "n_samples = 1000\n",
    "sample_cols = random.sample(range(1, tsvd_tfidf_vec.shape[0]), n_samples)\n",
    "sample_features = tsvd_tfidf_vec[sample_cols]\n",
    "\n",
    "sample_class = filtered_data2['Score'][sample_cols]\n",
    "sample_class = sample_class[:,np.newaxis]\n",
    "model = TSNE(n_components=2,random_state=0,perplexity=40)\n",
    "\n",
    "embedded_data = model.fit_transform(sample_features)\n",
    "final_data = np.concatenate((embedded_data,sample_class),axis=1)\n",
    "tsne_data = pd.DataFrame(data=final_data,columns=[\"Dim1\",\"Dim2\",\"label\"])\n",
    "\n",
    "sns.FacetGrid(tsne_data,hue=\"label\",size=6).map(plt.scatter,\"Dim1\",\"Dim2\").add_legend()\n",
    "plt.show()"
   ]
  },
  {
   "cell_type": "markdown",
   "metadata": {
    "colab_type": "text",
    "id": "G8ovZxupj6SG"
   },
   "source": [
    "### *4) Word2Vec*\n",
    "\n",
    "* word2vec is an algorithm for constructing vector representations of words, also known as word embeddings. The vector for each word is a semantic description of how that word is used in context, so two words that are used similarly in text will get similar vector represenations. Once you map words into vector space, you can then use vector math to find words that have similar semantics."
   ]
  },
  {
   "cell_type": "code",
   "execution_count": 62,
   "metadata": {
    "colab": {
     "autoexec": {
      "startup": false,
      "wait_interval": 0
     },
     "base_uri": "https://localhost:8080/",
     "height": 16
    },
    "colab_type": "code",
    "collapsed": true,
    "executionInfo": {
     "elapsed": 7794,
     "status": "ok",
     "timestamp": 1529132724970,
     "user": {
      "displayName": "",
      "photoUrl": "",
      "userId": ""
     },
     "user_tz": -330
    },
    "id": "zsqrcMMKj6SH",
    "outputId": "a5a36fb0-b661-4904-feb8-fcbe067f4724"
   },
   "outputs": [],
   "source": [
    "final_string = []\n",
    "for sent in filtered_data2['CleanedText'].values:\n",
    "    sent = str(sent)\n",
    "    sentence = []\n",
    "    for word in sent.split():\n",
    "        sentence.append(word)\n",
    "    final_string.append(sentence)"
   ]
  },
  {
   "cell_type": "code",
   "execution_count": 63,
   "metadata": {
    "colab": {
     "autoexec": {
      "startup": false,
      "wait_interval": 0
     },
     "base_uri": "https://localhost:8080/",
     "height": 52
    },
    "colab_type": "code",
    "collapsed": true,
    "executionInfo": {
     "elapsed": 8522,
     "status": "ok",
     "timestamp": 1529127321772,
     "user": {
      "displayName": "",
      "photoUrl": "",
      "userId": ""
     },
     "user_tz": -330
    },
    "id": "ImPNTQP2j6SK",
    "outputId": "cea15dea-71c8-4d00-ad35-ab581912ad9b"
   },
   "outputs": [],
   "source": [
    "import gensim # In gensim a corpus is simply an object which, when iterated over, returns its documents represented as sparse vectors.\n",
    "\n",
    "w2v_model = gensim.models.Word2Vec(final_string,min_count=5,size=50, workers=4)"
   ]
  },
  {
   "cell_type": "code",
   "execution_count": 64,
   "metadata": {
    "colab": {
     "autoexec": {
      "startup": false,
      "wait_interval": 0
     },
     "base_uri": "https://localhost:8080/",
     "height": 16
    },
    "colab_type": "code",
    "collapsed": true,
    "executionInfo": {
     "elapsed": 1619,
     "status": "ok",
     "timestamp": 1529127323422,
     "user": {
      "displayName": "",
      "photoUrl": "",
      "userId": ""
     },
     "user_tz": -330
    },
    "id": "3YhgMEotj6SQ",
    "outputId": "7a75da95-7de1-41e5-c9b4-efbf73cbdf20"
   },
   "outputs": [],
   "source": [
    "w2v_model.save('w2vmodel')"
   ]
  },
  {
   "cell_type": "code",
   "execution_count": 65,
   "metadata": {
    "colab": {
     "autoexec": {
      "startup": false,
      "wait_interval": 0
     },
     "base_uri": "https://localhost:8080/",
     "height": 16
    },
    "colab_type": "code",
    "collapsed": true,
    "executionInfo": {
     "elapsed": 1334,
     "status": "ok",
     "timestamp": 1529127325626,
     "user": {
      "displayName": "",
      "photoUrl": "",
      "userId": ""
     },
     "user_tz": -330
    },
    "id": "Mjgl0hnJj6SS",
    "outputId": "e1f2bd29-6763-446a-9455-f90faa0ade56"
   },
   "outputs": [],
   "source": [
    "w2v_model = gensim.models.Word2Vec.load('w2vmodel')"
   ]
  },
  {
   "cell_type": "code",
   "execution_count": 66,
   "metadata": {
    "colab": {
     "autoexec": {
      "startup": false,
      "wait_interval": 0
     },
     "base_uri": "https://localhost:8080/",
     "height": 34
    },
    "colab_type": "code",
    "collapsed": false,
    "executionInfo": {
     "elapsed": 3234,
     "status": "ok",
     "timestamp": 1529127329758,
     "user": {
      "displayName": "",
      "photoUrl": "",
      "userId": ""
     },
     "user_tz": -330
    },
    "id": "3NtqohIhj6SU",
    "outputId": "9e9874f2-e8ae-43c5-94a5-044086f69a13"
   },
   "outputs": [
    {
     "data": {
      "text/plain": [
       "28277"
      ]
     },
     "execution_count": 66,
     "metadata": {},
     "output_type": "execute_result"
    }
   ],
   "source": [
    "w2v_vocub = w2v_model.wv.vocab\n",
    "len(w2v_vocub)"
   ]
  },
  {
   "cell_type": "code",
   "execution_count": 67,
   "metadata": {
    "colab": {
     "autoexec": {
      "startup": false,
      "wait_interval": 0
     },
     "base_uri": "https://localhost:8080/",
     "height": 194
    },
    "colab_type": "code",
    "collapsed": false,
    "executionInfo": {
     "elapsed": 1879,
     "status": "ok",
     "timestamp": 1529127332792,
     "user": {
      "displayName": "",
      "photoUrl": "",
      "userId": ""
     },
     "user_tz": -330
    },
    "id": "ocA_m26pj6SY",
    "outputId": "701db3ca-f93d-4cb9-a38e-f2bb6100f707"
   },
   "outputs": [
    {
     "data": {
      "text/plain": [
       "[(\"tast'\", 0.8238769769668579),\n",
       " (\"b'tast\", 0.8226029872894287),\n",
       " ('flavor', 0.778342068195343),\n",
       " ('aftertast', 0.7768616080284119),\n",
       " (\"aftertast'\", 0.7289929986000061),\n",
       " ('tase', 0.6916904449462891),\n",
       " (\"b'flavor\", 0.679926872253418),\n",
       " ('textur', 0.655602216720581),\n",
       " ('flavour', 0.6538017988204956),\n",
       " ('kind', 0.6423604488372803)]"
      ]
     },
     "execution_count": 67,
     "metadata": {},
     "output_type": "execute_result"
    }
   ],
   "source": [
    "w2v_model.wv.most_similar('tast')"
   ]
  },
  {
   "cell_type": "markdown",
   "metadata": {
    "colab_type": "text",
    "id": "Jo7Izydlj6Sc"
   },
   "source": [
    "## *5) Avg Word2Vec*\n",
    "\n",
    "* It is the average of Word2Vec"
   ]
  },
  {
   "cell_type": "code",
   "execution_count": 68,
   "metadata": {
    "colab": {
     "autoexec": {
      "startup": false,
      "wait_interval": 0
     },
     "base_uri": "https://localhost:8080/",
     "height": 52
    },
    "colab_type": "code",
    "collapsed": false,
    "executionInfo": {
     "elapsed": 10663,
     "status": "ok",
     "timestamp": 1529132743937,
     "user": {
      "displayName": "",
      "photoUrl": "",
      "userId": ""
     },
     "user_tz": -330
    },
    "id": "2Wl0sIn9j6Sf",
    "outputId": "1a30e84c-f41b-4f0d-9c1e-a96f21488d2c"
   },
   "outputs": [
    {
     "name": "stderr",
     "output_type": "stream",
     "text": [
      "/anaconda3/envs/Vj/lib/python3.6/site-packages/ipykernel_launcher.py:12: RuntimeWarning: invalid value encountered in true_divide\n",
      "  if sys.path[0] == '':\n"
     ]
    }
   ],
   "source": [
    "avg_vec = []\n",
    "for sent in final_string:\n",
    "    cnt = 0\n",
    "    sent_vec = np.zeros(50)\n",
    "    for word in sent:\n",
    "        try:\n",
    "            wvec = w2v_model.wv[word]\n",
    "            sent_vec += wvec\n",
    "            cnt += 1\n",
    "        except: \n",
    "            pass\n",
    "    sent_vec /= cnt\n",
    "    avg_vec.append(sent_vec)"
   ]
  },
  {
   "cell_type": "code",
   "execution_count": 69,
   "metadata": {
    "colab": {
     "autoexec": {
      "startup": false,
      "wait_interval": 0
     },
     "base_uri": "https://localhost:8080/",
     "height": 16
    },
    "colab_type": "code",
    "collapsed": true,
    "executionInfo": {
     "elapsed": 4923,
     "status": "ok",
     "timestamp": 1529132749940,
     "user": {
      "displayName": "",
      "photoUrl": "",
      "userId": ""
     },
     "user_tz": -330
    },
    "id": "N5d-1Bgpj6Sj",
    "outputId": "ac7e2ea6-67aa-4988-82c4-cee5474b5eca"
   },
   "outputs": [],
   "source": [
    "saveindisk(avg_vec,\"avg_w2v_vec\")"
   ]
  },
  {
   "cell_type": "code",
   "execution_count": 70,
   "metadata": {
    "colab": {
     "autoexec": {
      "startup": false,
      "wait_interval": 0
     },
     "base_uri": "https://localhost:8080/",
     "height": 16
    },
    "colab_type": "code",
    "collapsed": true,
    "executionInfo": {
     "elapsed": 1927,
     "status": "ok",
     "timestamp": 1529132753095,
     "user": {
      "displayName": "",
      "photoUrl": "",
      "userId": ""
     },
     "user_tz": -330
    },
    "id": "9fR2h9oKj6Sk",
    "outputId": "98f4764a-322f-4985-96c3-77fc826f029a"
   },
   "outputs": [],
   "source": [
    "avg_vec = openfromdisk(\"avg_w2v_vec\")"
   ]
  },
  {
   "cell_type": "code",
   "execution_count": 71,
   "metadata": {
    "colab": {
     "autoexec": {
      "startup": false,
      "wait_interval": 0
     },
     "base_uri": "https://localhost:8080/",
     "height": 34
    },
    "colab_type": "code",
    "collapsed": false,
    "executionInfo": {
     "elapsed": 3537,
     "status": "ok",
     "timestamp": 1529132757330,
     "user": {
      "displayName": "",
      "photoUrl": "",
      "userId": ""
     },
     "user_tz": -330
    },
    "id": "TzbrbZ2hj6Sl",
    "outputId": "df694466-aa7c-4bd0-cc5e-929f9d55fab6"
   },
   "outputs": [
    {
     "data": {
      "text/plain": [
       "(364171, 50)"
      ]
     },
     "execution_count": 71,
     "metadata": {},
     "output_type": "execute_result"
    }
   ],
   "source": [
    "avg_vec = np.array(avg_vec)\n",
    "avg_vec.shape"
   ]
  },
  {
   "cell_type": "code",
   "execution_count": 72,
   "metadata": {
    "colab": {
     "autoexec": {
      "startup": false,
      "wait_interval": 0
     },
     "base_uri": "https://localhost:8080/",
     "height": 141
    },
    "colab_type": "code",
    "collapsed": false,
    "executionInfo": {
     "elapsed": 1641,
     "status": "ok",
     "timestamp": 1529132759466,
     "user": {
      "displayName": "",
      "photoUrl": "",
      "userId": ""
     },
     "user_tz": -330
    },
    "id": "Mdxp7IWIGVXj",
    "outputId": "4e2493d0-5422-40f6-ad07-196b9f59a165"
   },
   "outputs": [
    {
     "data": {
      "text/plain": [
       "array([[ 0.8301368 ,  0.23754464, -0.74297137, ..., -0.46162309,\n",
       "         0.44133274,  1.20804154],\n",
       "       [ 1.052849  ,  1.13297069,  0.50683935, ..., -0.21010254,\n",
       "         1.83036049,  0.76791109],\n",
       "       [-0.16824441,  0.26793146, -0.0247929 , ..., -0.29860936,\n",
       "         0.28414198,  0.661253  ],\n",
       "       ..., \n",
       "       [ 0.29631629,  0.27325264, -0.32920101, ..., -1.14248099,\n",
       "         0.59442838,  1.49481666],\n",
       "       [-0.46872838,  0.07106789, -0.64326881, ..., -0.16686433,\n",
       "        -0.36505715,  1.60269693],\n",
       "       [ 0.93998764,  0.58816517,  0.33524912, ..., -0.87432795,\n",
       "         0.5708223 , -0.63238705]])"
      ]
     },
     "execution_count": 72,
     "metadata": {},
     "output_type": "execute_result"
    }
   ],
   "source": [
    "avg_vec"
   ]
  },
  {
   "cell_type": "code",
   "execution_count": 73,
   "metadata": {
    "colab": {
     "autoexec": {
      "startup": false,
      "wait_interval": 0
     },
     "base_uri": "https://localhost:8080/",
     "height": 34
    },
    "colab_type": "code",
    "collapsed": false,
    "executionInfo": {
     "elapsed": 774,
     "status": "ok",
     "timestamp": 1529132760731,
     "user": {
      "displayName": "",
      "photoUrl": "",
      "userId": ""
     },
     "user_tz": -330
    },
    "id": "v9Ysl5dTH04z",
    "outputId": "4cee9a6c-e0aa-4549-a871-212f803a1325"
   },
   "outputs": [
    {
     "data": {
      "text/plain": [
       "True"
      ]
     },
     "execution_count": 73,
     "metadata": {},
     "output_type": "execute_result"
    }
   ],
   "source": [
    "np.any(np.isnan(avg_vec))"
   ]
  },
  {
   "cell_type": "code",
   "execution_count": 74,
   "metadata": {
    "colab": {
     "autoexec": {
      "startup": false,
      "wait_interval": 0
     },
     "base_uri": "https://localhost:8080/",
     "height": 34
    },
    "colab_type": "code",
    "collapsed": false,
    "executionInfo": {
     "elapsed": 774,
     "status": "ok",
     "timestamp": 1529132762149,
     "user": {
      "displayName": "",
      "photoUrl": "",
      "userId": ""
     },
     "user_tz": -330
    },
    "id": "Cjn5J3IDIDKn",
    "outputId": "f1a23807-b284-4bba-f5af-b85ad1a706fa"
   },
   "outputs": [
    {
     "data": {
      "text/plain": [
       "False"
      ]
     },
     "execution_count": 74,
     "metadata": {},
     "output_type": "execute_result"
    }
   ],
   "source": [
    "np.all(np.isfinite(avg_vec))"
   ]
  },
  {
   "cell_type": "code",
   "execution_count": 75,
   "metadata": {
    "colab": {
     "autoexec": {
      "startup": false,
      "wait_interval": 0
     },
     "base_uri": "https://localhost:8080/",
     "height": 52
    },
    "colab_type": "code",
    "collapsed": true,
    "executionInfo": {
     "elapsed": 1214,
     "status": "ok",
     "timestamp": 1529132763830,
     "user": {
      "displayName": "",
      "photoUrl": "",
      "userId": ""
     },
     "user_tz": -330
    },
    "id": "x9V0kKCVII7B",
    "outputId": "a77aa6e2-7211-4e10-b4cb-ae9fde118062"
   },
   "outputs": [],
   "source": [
    "col_mean = np.nanmean(avg_vec, axis=0)"
   ]
  },
  {
   "cell_type": "code",
   "execution_count": 76,
   "metadata": {
    "colab": {
     "autoexec": {
      "startup": false,
      "wait_interval": 0
     },
     "base_uri": "https://localhost:8080/",
     "height": 52
    },
    "colab_type": "code",
    "collapsed": false,
    "executionInfo": {
     "elapsed": 1051,
     "status": "ok",
     "timestamp": 1529132765313,
     "user": {
      "displayName": "",
      "photoUrl": "",
      "userId": ""
     },
     "user_tz": -330
    },
    "id": "IPZEQ1QVIU2d",
    "outputId": "3524b3ce-64ca-44a0-ee2e-a1dd20a07195"
   },
   "outputs": [
    {
     "data": {
      "text/plain": [
       "(array([130004, 130004, 130004, 130004, 130004, 130004, 130004, 130004,\n",
       "        130004, 130004, 130004, 130004, 130004, 130004, 130004, 130004,\n",
       "        130004, 130004, 130004, 130004, 130004, 130004, 130004, 130004,\n",
       "        130004, 130004, 130004, 130004, 130004, 130004, 130004, 130004,\n",
       "        130004, 130004, 130004, 130004, 130004, 130004, 130004, 130004,\n",
       "        130004, 130004, 130004, 130004, 130004, 130004, 130004, 130004,\n",
       "        130004, 130004, 142808, 142808, 142808, 142808, 142808, 142808,\n",
       "        142808, 142808, 142808, 142808, 142808, 142808, 142808, 142808,\n",
       "        142808, 142808, 142808, 142808, 142808, 142808, 142808, 142808,\n",
       "        142808, 142808, 142808, 142808, 142808, 142808, 142808, 142808,\n",
       "        142808, 142808, 142808, 142808, 142808, 142808, 142808, 142808,\n",
       "        142808, 142808, 142808, 142808, 142808, 142808, 142808, 142808,\n",
       "        142808, 142808, 142808, 142808, 152642, 152642, 152642, 152642,\n",
       "        152642, 152642, 152642, 152642, 152642, 152642, 152642, 152642,\n",
       "        152642, 152642, 152642, 152642, 152642, 152642, 152642, 152642,\n",
       "        152642, 152642, 152642, 152642, 152642, 152642, 152642, 152642,\n",
       "        152642, 152642, 152642, 152642, 152642, 152642, 152642, 152642,\n",
       "        152642, 152642, 152642, 152642, 152642, 152642, 152642, 152642,\n",
       "        152642, 152642, 152642, 152642, 152642, 152642, 171649, 171649,\n",
       "        171649, 171649, 171649, 171649, 171649, 171649, 171649, 171649,\n",
       "        171649, 171649, 171649, 171649, 171649, 171649, 171649, 171649,\n",
       "        171649, 171649, 171649, 171649, 171649, 171649, 171649, 171649,\n",
       "        171649, 171649, 171649, 171649, 171649, 171649, 171649, 171649,\n",
       "        171649, 171649, 171649, 171649, 171649, 171649, 171649, 171649,\n",
       "        171649, 171649, 171649, 171649, 171649, 171649, 171649, 171649,\n",
       "        256470, 256470, 256470, 256470, 256470, 256470, 256470, 256470,\n",
       "        256470, 256470, 256470, 256470, 256470, 256470, 256470, 256470,\n",
       "        256470, 256470, 256470, 256470, 256470, 256470, 256470, 256470,\n",
       "        256470, 256470, 256470, 256470, 256470, 256470, 256470, 256470,\n",
       "        256470, 256470, 256470, 256470, 256470, 256470, 256470, 256470,\n",
       "        256470, 256470, 256470, 256470, 256470, 256470, 256470, 256470,\n",
       "        256470, 256470, 299353, 299353, 299353, 299353, 299353, 299353,\n",
       "        299353, 299353, 299353, 299353, 299353, 299353, 299353, 299353,\n",
       "        299353, 299353, 299353, 299353, 299353, 299353, 299353, 299353,\n",
       "        299353, 299353, 299353, 299353, 299353, 299353, 299353, 299353,\n",
       "        299353, 299353, 299353, 299353, 299353, 299353, 299353, 299353,\n",
       "        299353, 299353, 299353, 299353, 299353, 299353, 299353, 299353,\n",
       "        299353, 299353, 299353, 299353, 364133, 364133, 364133, 364133,\n",
       "        364133, 364133, 364133, 364133, 364133, 364133, 364133, 364133,\n",
       "        364133, 364133, 364133, 364133, 364133, 364133, 364133, 364133,\n",
       "        364133, 364133, 364133, 364133, 364133, 364133, 364133, 364133,\n",
       "        364133, 364133, 364133, 364133, 364133, 364133, 364133, 364133,\n",
       "        364133, 364133, 364133, 364133, 364133, 364133, 364133, 364133,\n",
       "        364133, 364133, 364133, 364133, 364133, 364133]),\n",
       " array([ 0,  1,  2,  3,  4,  5,  6,  7,  8,  9, 10, 11, 12, 13, 14, 15, 16,\n",
       "        17, 18, 19, 20, 21, 22, 23, 24, 25, 26, 27, 28, 29, 30, 31, 32, 33,\n",
       "        34, 35, 36, 37, 38, 39, 40, 41, 42, 43, 44, 45, 46, 47, 48, 49,  0,\n",
       "         1,  2,  3,  4,  5,  6,  7,  8,  9, 10, 11, 12, 13, 14, 15, 16, 17,\n",
       "        18, 19, 20, 21, 22, 23, 24, 25, 26, 27, 28, 29, 30, 31, 32, 33, 34,\n",
       "        35, 36, 37, 38, 39, 40, 41, 42, 43, 44, 45, 46, 47, 48, 49,  0,  1,\n",
       "         2,  3,  4,  5,  6,  7,  8,  9, 10, 11, 12, 13, 14, 15, 16, 17, 18,\n",
       "        19, 20, 21, 22, 23, 24, 25, 26, 27, 28, 29, 30, 31, 32, 33, 34, 35,\n",
       "        36, 37, 38, 39, 40, 41, 42, 43, 44, 45, 46, 47, 48, 49,  0,  1,  2,\n",
       "         3,  4,  5,  6,  7,  8,  9, 10, 11, 12, 13, 14, 15, 16, 17, 18, 19,\n",
       "        20, 21, 22, 23, 24, 25, 26, 27, 28, 29, 30, 31, 32, 33, 34, 35, 36,\n",
       "        37, 38, 39, 40, 41, 42, 43, 44, 45, 46, 47, 48, 49,  0,  1,  2,  3,\n",
       "         4,  5,  6,  7,  8,  9, 10, 11, 12, 13, 14, 15, 16, 17, 18, 19, 20,\n",
       "        21, 22, 23, 24, 25, 26, 27, 28, 29, 30, 31, 32, 33, 34, 35, 36, 37,\n",
       "        38, 39, 40, 41, 42, 43, 44, 45, 46, 47, 48, 49,  0,  1,  2,  3,  4,\n",
       "         5,  6,  7,  8,  9, 10, 11, 12, 13, 14, 15, 16, 17, 18, 19, 20, 21,\n",
       "        22, 23, 24, 25, 26, 27, 28, 29, 30, 31, 32, 33, 34, 35, 36, 37, 38,\n",
       "        39, 40, 41, 42, 43, 44, 45, 46, 47, 48, 49,  0,  1,  2,  3,  4,  5,\n",
       "         6,  7,  8,  9, 10, 11, 12, 13, 14, 15, 16, 17, 18, 19, 20, 21, 22,\n",
       "        23, 24, 25, 26, 27, 28, 29, 30, 31, 32, 33, 34, 35, 36, 37, 38, 39,\n",
       "        40, 41, 42, 43, 44, 45, 46, 47, 48, 49]))"
      ]
     },
     "execution_count": 76,
     "metadata": {},
     "output_type": "execute_result"
    }
   ],
   "source": [
    "inds = np.where(np.isnan(avg_vec))\n",
    "inds"
   ]
  },
  {
   "cell_type": "code",
   "execution_count": 77,
   "metadata": {
    "colab": {
     "autoexec": {
      "startup": false,
      "wait_interval": 0
     },
     "base_uri": "https://localhost:8080/",
     "height": 16
    },
    "colab_type": "code",
    "collapsed": true,
    "executionInfo": {
     "elapsed": 2235,
     "status": "ok",
     "timestamp": 1529132787033,
     "user": {
      "displayName": "",
      "photoUrl": "",
      "userId": ""
     },
     "user_tz": -330
    },
    "id": "mPn39oxzIUbt",
    "outputId": "ff94e57d-0870-433c-d7e1-2e17af08faee"
   },
   "outputs": [],
   "source": [
    "avg_vec[inds] = np.take(col_mean, inds[1])\n"
   ]
  },
  {
   "cell_type": "code",
   "execution_count": 78,
   "metadata": {
    "colab": {
     "autoexec": {
      "startup": false,
      "wait_interval": 0
     },
     "base_uri": "https://localhost:8080/",
     "height": 34
    },
    "colab_type": "code",
    "collapsed": false,
    "executionInfo": {
     "elapsed": 1343,
     "status": "ok",
     "timestamp": 1529132789930,
     "user": {
      "displayName": "",
      "photoUrl": "",
      "userId": ""
     },
     "user_tz": -330
    },
    "id": "4s4DLUGRIqX-",
    "outputId": "6605b18c-374e-4573-81d6-ff1e9541cf6e"
   },
   "outputs": [
    {
     "data": {
      "text/plain": [
       "False"
      ]
     },
     "execution_count": 78,
     "metadata": {},
     "output_type": "execute_result"
    }
   ],
   "source": [
    "np.any(np.isnan(avg_vec))"
   ]
  },
  {
   "cell_type": "code",
   "execution_count": 79,
   "metadata": {
    "colab": {
     "autoexec": {
      "startup": false,
      "wait_interval": 0
     },
     "base_uri": "https://localhost:8080/",
     "height": 580
    },
    "colab_type": "code",
    "collapsed": true,
    "executionInfo": {
     "elapsed": 3245,
     "status": "error",
     "timestamp": 1529132794815,
     "user": {
      "displayName": "",
      "photoUrl": "",
      "userId": ""
     },
     "user_tz": -330
    },
    "id": "m_bL4APjj6So",
    "outputId": "8c74a192-16bc-498a-eb67-48c8b25f90c9"
   },
   "outputs": [],
   "source": [
    "from sklearn import preprocessing\n",
    "avg_vec_norm = preprocessing.normalize(avg_vec)"
   ]
  },
  {
   "cell_type": "code",
   "execution_count": 80,
   "metadata": {
    "colab": {
     "autoexec": {
      "startup": false,
      "wait_interval": 0
     },
     "base_uri": "https://localhost:8080/",
     "height": 476
    },
    "colab_type": "code",
    "collapsed": false,
    "executionInfo": {
     "elapsed": 78473,
     "status": "ok",
     "timestamp": 1529128195316,
     "user": {
      "displayName": "",
      "photoUrl": "",
      "userId": ""
     },
     "user_tz": -330
    },
    "id": "FCB4d8M0j6Sp",
    "outputId": "55601ef4-caf9-4aaa-ead1-222c9e9a26f9"
   },
   "outputs": [
    {
     "data": {
      "image/png": "[encoded data removed]",
      "text/plain": [
       "<Figure size 512.875x432 with 1 Axes>"
      ]
     },
     "metadata": {},
     "output_type": "display_data"
    }
   ],
   "source": [
    "# Perplexity = 30\n",
    "\n",
    "from sklearn.manifold import TSNE\n",
    "import random\n",
    "\n",
    "n_samples = 1000\n",
    "sample_cols = random.sample(range(1, avg_vec.shape[0]), n_samples)\n",
    "sample_features = avg_vec[sample_cols]\n",
    "\n",
    "sample_class = filtered_data2['Score'][sample_cols]\n",
    "sample_class = sample_class[:,np.newaxis]\n",
    "model = TSNE(n_components=2,random_state=0,perplexity=30)\n",
    "\n",
    "embedded_data = model.fit_transform(sample_features)\n",
    "final_data = np.concatenate((embedded_data,sample_class),axis=1)\n",
    "tsne_data = pd.DataFrame(data=final_data,columns=[\"Dim1\",\"Dim2\",\"label\"])\n",
    "\n",
    "sns.FacetGrid(tsne_data,hue=\"label\",size=6).map(plt.scatter,\"Dim1\",\"Dim2\").add_legend()\n",
    "plt.show()"
   ]
  },
  {
   "cell_type": "code",
   "execution_count": 111,
   "metadata": {
    "collapsed": false
   },
   "outputs": [
    {
     "data": {
      "image/png": "[encoded data removed]",
      "text/plain": [
       "<Figure size 512.875x432 with 1 Axes>"
      ]
     },
     "metadata": {},
     "output_type": "display_data"
    }
   ],
   "source": [
    "# Perplexity = 20\n",
    "\n",
    "from sklearn.manifold import TSNE\n",
    "import random\n",
    "\n",
    "n_samples = 1000\n",
    "sample_cols = random.sample(range(1, avg_vec_norm.shape[0]), n_samples)\n",
    "sample_features = avg_vec_norm[sample_cols]\n",
    "\n",
    "sample_class = filtered_data2['Score'][sample_cols]\n",
    "sample_class = sample_class[:,np.newaxis]\n",
    "model = TSNE(n_components=2,random_state=0,perplexity=20)\n",
    "\n",
    "embedded_data = model.fit_transform(sample_features)\n",
    "final_data = np.concatenate((embedded_data,sample_class),axis=1)\n",
    "tsne_data = pd.DataFrame(data=final_data,columns=[\"Dim1\",\"Dim2\",\"label\"])\n",
    "\n",
    "sns.FacetGrid(tsne_data,hue=\"label\",size=6).map(plt.scatter,\"Dim1\",\"Dim2\").add_legend()\n",
    "plt.show()"
   ]
  },
  {
   "cell_type": "markdown",
   "metadata": {
    "colab_type": "text",
    "id": "f-dIgwlWj6S9"
   },
   "source": [
    "# *6) Using Google's Trained W2Vec on Google News*"
   ]
  },
  {
   "cell_type": "code",
   "execution_count": 83,
   "metadata": {
    "colab": {
     "autoexec": {
      "startup": false,
      "wait_interval": 0
     },
     "base_uri": "https://localhost:8080/",
     "height": 141
    },
    "colab_type": "code",
    "collapsed": true,
    "executionInfo": {
     "elapsed": 161535,
     "status": "ok",
     "timestamp": 1529137762414,
     "user": {
      "displayName": "",
      "photoUrl": "",
      "userId": ""
     },
     "user_tz": -330
    },
    "id": "-S4F2pcbj6S9",
    "outputId": "5c6498c3-1a7b-44f7-e5ef-2846758006de"
   },
   "outputs": [],
   "source": [
    "from gensim.models import KeyedVectors\n",
    "w2v_model_google = KeyedVectors.load_word2vec_format('GoogleNews-vectors-negative300.bin', binary=True)"
   ]
  },
  {
   "cell_type": "code",
   "execution_count": 84,
   "metadata": {
    "colab": {
     "autoexec": {
      "startup": false,
      "wait_interval": 0
     },
     "base_uri": "https://localhost:8080/",
     "height": 168
    },
    "colab_type": "code",
    "collapsed": false,
    "executionInfo": {
     "elapsed": 1943,
     "status": "error",
     "timestamp": 1529137782206,
     "user": {
      "displayName": "",
      "photoUrl": "",
      "userId": ""
     },
     "user_tz": -330
    },
    "id": "xhEd05W8j6TD",
    "outputId": "3568e4bf-dfec-48c5-d11b-536931c12150"
   },
   "outputs": [
    {
     "name": "stderr",
     "output_type": "stream",
     "text": [
      "/anaconda3/envs/Vj/lib/python3.6/site-packages/ipykernel_launcher.py:1: DeprecationWarning: Call to deprecated `wv` (Attribute will be removed in 4.0.0, use self instead).\n",
      "  \"\"\"Entry point for launching an IPython kernel.\n"
     ]
    },
    {
     "data": {
      "text/plain": [
       "[('really', 0.5752447843551636),\n",
       " ('weird', 0.5676319599151611),\n",
       " ('crazy', 0.5382446646690369),\n",
       " ('kind', 0.5310239791870117),\n",
       " ('maybe', 0.5220046043395996),\n",
       " ('loooove', 0.5187615156173706),\n",
       " ('anymore', 0.5177682638168335),\n",
       " ('Kinda_reminds', 0.5151873230934143),\n",
       " ('definitely', 0.5117844343185425),\n",
       " ('kinda_fishy', 0.5090124607086182)]"
      ]
     },
     "execution_count": 84,
     "metadata": {},
     "output_type": "execute_result"
    }
   ],
   "source": [
    "w2v_model_google.wv.most_similar('like')"
   ]
  },
  {
   "cell_type": "code",
   "execution_count": 85,
   "metadata": {
    "colab": {
     "autoexec": {
      "startup": false,
      "wait_interval": 0
     },
     "base_uri": "https://localhost:8080/",
     "height": 168
    },
    "colab_type": "code",
    "collapsed": false,
    "executionInfo": {
     "elapsed": 2066,
     "status": "error",
     "timestamp": 1529137587979,
     "user": {
      "displayName": "",
      "photoUrl": "",
      "userId": ""
     },
     "user_tz": -330
    },
    "id": "ABdi9rK6j6TJ",
    "outputId": "4a94cae8-6655-46a1-b325-1299cdbf3566"
   },
   "outputs": [
    {
     "name": "stderr",
     "output_type": "stream",
     "text": [
      "/anaconda3/envs/Vj/lib/python3.6/site-packages/ipykernel_launcher.py:1: DeprecationWarning: Call to deprecated `wv` (Attribute will be removed in 4.0.0, use self instead).\n",
      "  \"\"\"Entry point for launching an IPython kernel.\n"
     ]
    },
    {
     "data": {
      "text/plain": [
       "300"
      ]
     },
     "execution_count": 85,
     "metadata": {},
     "output_type": "execute_result"
    }
   ],
   "source": [
    "w2v_model_google.wv[\"word\"].size"
   ]
  },
  {
   "cell_type": "code",
   "execution_count": 86,
   "metadata": {
    "colab": {
     "autoexec": {
      "startup": false,
      "wait_interval": 0
     },
     "base_uri": "https://localhost:8080/",
     "height": 633
    },
    "colab_type": "code",
    "collapsed": false,
    "executionInfo": {
     "elapsed": 1431,
     "status": "error",
     "timestamp": 1529137792121,
     "user": {
      "displayName": "",
      "photoUrl": "",
      "userId": ""
     },
     "user_tz": -330
    },
    "id": "AJSdq57Qj6TM",
    "outputId": "1a0d6eb8-d4b8-4bcb-8e75-364e51914e35"
   },
   "outputs": [
    {
     "name": "stderr",
     "output_type": "stream",
     "text": [
      "/anaconda3/envs/Vj/lib/python3.6/site-packages/ipykernel_launcher.py:12: DeprecationWarning: Call to deprecated `wv` (Attribute will be removed in 4.0.0, use self instead).\n",
      "  if sys.path[0] == '':\n"
     ]
    }
   ],
   "source": [
    "import random\n",
    "avg_vec_google = []\n",
    "datapoint = 3000\n",
    "sample_cols = random.sample(range(1, datapoint), 1001)\n",
    "\n",
    "for sent in filtered_data2['CleanedText_NoStem'].values[sample_cols]:\n",
    "    cnt = 0\n",
    "    sent_vec = np.zeros(300)\n",
    "    sent = sent.decode(\"utf-8\") \n",
    "    for word in sent.split():\n",
    "        try:\n",
    "            wvec = w2v_model_google.wv[word]\n",
    "            sent_vec += wvec\n",
    "            cnt += 1\n",
    "        except: \n",
    "            pass\n",
    "    sent_vec /= cnt\n",
    "    avg_vec_google.append(sent_vec)\n",
    "avg_vec_google = np.array(avg_vec_google)"
   ]
  },
  {
   "cell_type": "code",
   "execution_count": 87,
   "metadata": {
    "colab": {
     "autoexec": {
      "startup": false,
      "wait_interval": 0
     },
     "base_uri": "https://localhost:8080/",
     "height": 16
    },
    "colab_type": "code",
    "collapsed": true,
    "executionInfo": {
     "elapsed": 1661,
     "status": "ok",
     "timestamp": 1529134973035,
     "user": {
      "displayName": "",
      "photoUrl": "",
      "userId": ""
     },
     "user_tz": -330
    },
    "id": "UOczAIjij6TQ",
    "outputId": "1ce53224-1a1f-4505-db68-ab1d2b3fc5cb"
   },
   "outputs": [],
   "source": [
    "saveindisk(avg_vec_google,\"avg_w2v_vec_google\")"
   ]
  },
  {
   "cell_type": "code",
   "execution_count": 88,
   "metadata": {
    "colab": {
     "autoexec": {
      "startup": false,
      "wait_interval": 0
     },
     "base_uri": "https://localhost:8080/",
     "height": 16
    },
    "colab_type": "code",
    "collapsed": true,
    "executionInfo": {
     "elapsed": 1436,
     "status": "ok",
     "timestamp": 1529134976796,
     "user": {
      "displayName": "",
      "photoUrl": "",
      "userId": ""
     },
     "user_tz": -330
    },
    "id": "MKEvP7GSj6TS",
    "outputId": "362dc3c8-a263-4ceb-a169-d5b17f6f713d"
   },
   "outputs": [],
   "source": [
    "avg_vec_google = openfromdisk(\"avg_w2v_vec_google\")"
   ]
  },
  {
   "cell_type": "code",
   "execution_count": 89,
   "metadata": {
    "colab": {
     "autoexec": {
      "startup": false,
      "wait_interval": 0
     },
     "base_uri": "https://localhost:8080/",
     "height": 34
    },
    "colab_type": "code",
    "collapsed": false,
    "executionInfo": {
     "elapsed": 1348,
     "status": "ok",
     "timestamp": 1529135185841,
     "user": {
      "displayName": "",
      "photoUrl": "",
      "userId": ""
     },
     "user_tz": -330
    },
    "id": "FI8ww_3gjwqp",
    "outputId": "1d9a5e58-d76e-4be0-c88d-1a849e74c0e7"
   },
   "outputs": [
    {
     "data": {
      "text/plain": [
       "False"
      ]
     },
     "execution_count": 89,
     "metadata": {},
     "output_type": "execute_result"
    }
   ],
   "source": [
    "np.any(np.isnan(avg_vec_google))"
   ]
  },
  {
   "cell_type": "code",
   "execution_count": 90,
   "metadata": {
    "colab": {
     "autoexec": {
      "startup": false,
      "wait_interval": 0
     },
     "base_uri": "https://localhost:8080/",
     "height": 34
    },
    "colab_type": "code",
    "collapsed": false,
    "executionInfo": {
     "elapsed": 1581,
     "status": "ok",
     "timestamp": 1529135200754,
     "user": {
      "displayName": "",
      "photoUrl": "",
      "userId": ""
     },
     "user_tz": -330
    },
    "id": "8CVqgGOxjwhQ",
    "outputId": "fb0eecbe-a039-471a-a19d-bb6c28faaf73"
   },
   "outputs": [
    {
     "data": {
      "text/plain": [
       "True"
      ]
     },
     "execution_count": 90,
     "metadata": {},
     "output_type": "execute_result"
    }
   ],
   "source": [
    "np.all(np.isfinite(avg_vec_google))"
   ]
  },
  {
   "cell_type": "code",
   "execution_count": 91,
   "metadata": {
    "colab": {
     "autoexec": {
      "startup": false,
      "wait_interval": 0
     },
     "base_uri": "https://localhost:8080/",
     "height": 52
    },
    "colab_type": "code",
    "collapsed": true,
    "executionInfo": {
     "elapsed": 1333,
     "status": "ok",
     "timestamp": 1529135623899,
     "user": {
      "displayName": "",
      "photoUrl": "",
      "userId": ""
     },
     "user_tz": -330
    },
    "id": "nBjR4UgajwU5",
    "outputId": "c93fb1b8-40ca-4b29-8604-b97bd7874e84"
   },
   "outputs": [],
   "source": [
    "col_mean = np.nanmean(avg_vec_google, axis=0)"
   ]
  },
  {
   "cell_type": "code",
   "execution_count": 92,
   "metadata": {
    "colab": {
     "autoexec": {
      "startup": false,
      "wait_interval": 0
     },
     "base_uri": "https://localhost:8080/",
     "height": 52
    },
    "colab_type": "code",
    "collapsed": false,
    "executionInfo": {
     "elapsed": 1469,
     "status": "ok",
     "timestamp": 1529135236643,
     "user": {
      "displayName": "",
      "photoUrl": "",
      "userId": ""
     },
     "user_tz": -330
    },
    "id": "jTuU6e8rjwJO",
    "outputId": "9fc01b62-140e-490b-f839-773498f723df"
   },
   "outputs": [
    {
     "data": {
      "text/plain": [
       "(array([], dtype=int64), array([], dtype=int64))"
      ]
     },
     "execution_count": 92,
     "metadata": {},
     "output_type": "execute_result"
    }
   ],
   "source": [
    "inds = np.where(np.isnan(avg_vec_google)) \n",
    "inds"
   ]
  },
  {
   "cell_type": "code",
   "execution_count": 93,
   "metadata": {
    "colab": {
     "autoexec": {
      "startup": false,
      "wait_interval": 0
     },
     "base_uri": "https://localhost:8080/",
     "height": 16
    },
    "colab_type": "code",
    "collapsed": true,
    "executionInfo": {
     "elapsed": 1750,
     "status": "ok",
     "timestamp": 1529135419015,
     "user": {
      "displayName": "",
      "photoUrl": "",
      "userId": ""
     },
     "user_tz": -330
    },
    "id": "dhYR8-FYjwAp",
    "outputId": "5f56d9dd-d1ae-4ee6-aea5-d5353b0dc257"
   },
   "outputs": [],
   "source": [
    "avg_vec_google[inds] = np.take(col_mean, inds[1])\n"
   ]
  },
  {
   "cell_type": "code",
   "execution_count": 94,
   "metadata": {
    "colab": {
     "autoexec": {
      "startup": false,
      "wait_interval": 0
     },
     "base_uri": "https://localhost:8080/",
     "height": 141
    },
    "colab_type": "code",
    "collapsed": false,
    "executionInfo": {
     "elapsed": 1344,
     "status": "ok",
     "timestamp": 1529135537709,
     "user": {
      "displayName": "",
      "photoUrl": "",
      "userId": ""
     },
     "user_tz": -330
    },
    "id": "Ub4clx9XlHkm",
    "outputId": "3b605802-3257-4b59-e938-3eda296add37"
   },
   "outputs": [
    {
     "data": {
      "text/plain": [
       "array([[ 0.01509753,  0.01313868, -0.00987677, ..., -0.05414109,\n",
       "         0.0138457 , -0.02766202],\n",
       "       [-0.00668945,  0.00154622,  0.11971029, ..., -0.00633545,\n",
       "        -0.00012716,  0.06525523],\n",
       "       [-0.03954414,  0.08931068, -0.03622855, ...,  0.00103957,\n",
       "         0.03189973,  0.01891056],\n",
       "       ..., \n",
       "       [ 0.0043002 ,  0.07310486,  0.04706296, ..., -0.06181752,\n",
       "         0.03754513,  0.00438343],\n",
       "       [-0.02395015,  0.03252496, -0.00783793, ...,  0.00247023,\n",
       "         0.05283356,  0.06517198],\n",
       "       [ 0.00935465,  0.0388326 ,  0.05890198, ...,  0.0265096 ,\n",
       "         0.08789062,  0.01531576]])"
      ]
     },
     "execution_count": 94,
     "metadata": {},
     "output_type": "execute_result"
    }
   ],
   "source": [
    "avg_vec_google"
   ]
  },
  {
   "cell_type": "code",
   "execution_count": 95,
   "metadata": {
    "colab": {
     "autoexec": {
      "startup": false,
      "wait_interval": 0
     },
     "base_uri": "https://localhost:8080/",
     "height": 597
    },
    "colab_type": "code",
    "collapsed": true,
    "executionInfo": {
     "elapsed": 1195,
     "status": "error",
     "timestamp": 1529135522660,
     "user": {
      "displayName": "",
      "photoUrl": "",
      "userId": ""
     },
     "user_tz": -330
    },
    "id": "VVDMvLGsj6TT",
    "outputId": "2a977ebd-3969-417f-9df5-c5a480258ccb"
   },
   "outputs": [],
   "source": [
    "from sklearn import preprocessing\n",
    "avg_vec_google_norm = preprocessing.normalize(avg_vec_google)"
   ]
  },
  {
   "cell_type": "code",
   "execution_count": 96,
   "metadata": {
    "colab": {
     "autoexec": {
      "startup": false,
      "wait_interval": 0
     }
    },
    "colab_type": "code",
    "collapsed": false,
    "id": "NwGLCh_Jj6TV",
    "outputId": "f8553e9e-2916-4c1a-8745-5b4b8417bbc6"
   },
   "outputs": [
    {
     "data": {
      "image/png": "[encoded data removed]",
      "text/plain": [
       "<Figure size 512.875x432 with 1 Axes>"
      ]
     },
     "metadata": {},
     "output_type": "display_data"
    }
   ],
   "source": [
    "# Perplexity = 20\n",
    "\n",
    "from sklearn.manifold import TSNE\n",
    "import random\n",
    "\n",
    "n_samples = 1000\n",
    "sample_cols = random.sample(range(1, avg_vec_google.shape[0]), n_samples)\n",
    "sample_features = avg_vec_google[sample_cols]\n",
    "\n",
    "sample_class = filtered_data2['Score'][sample_cols]\n",
    "sample_class = sample_class[:,np.newaxis]\n",
    "model = TSNE(n_components=2,random_state=0,perplexity=20)\n",
    "\n",
    "embedded_data = model.fit_transform(sample_features)\n",
    "final_data = np.concatenate((embedded_data,sample_class),axis=1)\n",
    "tsne_data = pd.DataFrame(data=final_data,columns=[\"Dim1\",\"Dim2\",\"label\"])\n",
    "\n",
    "sns.FacetGrid(tsne_data,hue=\"label\",size=6).map(plt.scatter,\"Dim1\",\"Dim2\").add_legend()\n",
    "plt.show()"
   ]
  },
  {
   "cell_type": "code",
   "execution_count": 97,
   "metadata": {
    "colab": {
     "autoexec": {
      "startup": false,
      "wait_interval": 0
     }
    },
    "colab_type": "code",
    "collapsed": false,
    "id": "3EK6U2rJj6TZ",
    "outputId": "81ce15f4-7712-4be9-b675-ac9df067333d"
   },
   "outputs": [
    {
     "data": {
      "image/png": "[encoded data removed]",
      "text/plain": [
       "<Figure size 512.875x432 with 1 Axes>"
      ]
     },
     "metadata": {},
     "output_type": "display_data"
    }
   ],
   "source": [
    "# Perplexity = 30\n",
    "\n",
    "from sklearn.manifold import TSNE\n",
    "import random\n",
    "\n",
    "n_samples = 1000\n",
    "sample_cols = random.sample(range(1, avg_vec_google.shape[0]), n_samples)\n",
    "sample_features = avg_vec_google[sample_cols]\n",
    "sample_class = filtered_data2['Score'][sample_cols]\n",
    "\n",
    "sample_class = sample_class[:,np.newaxis]\n",
    "model = TSNE(n_components=2,random_state=0,perplexity=30)\n",
    "\n",
    "embedded_data = model.fit_transform(sample_features)\n",
    "final_data = np.concatenate((embedded_data,sample_class),axis=1)\n",
    "tsne_data = pd.DataFrame(data=final_data,columns=[\"Dim1\",\"Dim2\",\"label\"])\n",
    "\n",
    "sns.FacetGrid(tsne_data,hue=\"label\",size=6).map(plt.scatter,\"Dim1\",\"Dim2\").add_legend()\n",
    "plt.show()"
   ]
  },
  {
   "cell_type": "code",
   "execution_count": 98,
   "metadata": {
    "colab": {
     "autoexec": {
      "startup": false,
      "wait_interval": 0
     }
    },
    "colab_type": "code",
    "collapsed": false,
    "id": "xwt2wlEXj6Tb",
    "outputId": "cbf50ac6-33c5-4a1a-8dd6-eb92b7b369c8"
   },
   "outputs": [
    {
     "data": {
      "image/png": "[encoded data removed]",
      "text/plain": [
       "<Figure size 512.875x432 with 1 Axes>"
      ]
     },
     "metadata": {},
     "output_type": "display_data"
    }
   ],
   "source": [
    "# Perplexity = 50\n",
    "\n",
    "from sklearn.manifold import TSNE\n",
    "import random\n",
    "\n",
    "n_samples = 1000\n",
    "sample_cols = random.sample(range(1, avg_vec_google.shape[0]), n_samples)\n",
    "sample_features = avg_vec_google[sample_cols]\n",
    "sample_class = filtered_data2['Score'][sample_cols]\n",
    "sample_class = sample_class[:,np.newaxis]\n",
    "model = TSNE(n_components=2,random_state=0,perplexity=50)\n",
    "\n",
    "embedded_data = model.fit_transform(sample_features)\n",
    "final_data = np.concatenate((embedded_data,sample_class),axis=1)\n",
    "tsne_data = pd.DataFrame(data=final_data,columns=[\"Dim1\",\"Dim2\",\"label\"])\n",
    "\n",
    "sns.FacetGrid(tsne_data,hue=\"label\",size=6).map(plt.scatter,\"Dim1\",\"Dim2\").add_legend()\n",
    "plt.show()"
   ]
  },
  {
   "cell_type": "markdown",
   "metadata": {
    "colab_type": "text",
    "id": "v78QjgbGj6Tn"
   },
   "source": [
    "## *7) Tf-idf W2Vec*\n"
   ]
  },
  {
   "cell_type": "code",
   "execution_count": 99,
   "metadata": {
    "colab": {
     "autoexec": {
      "startup": false,
      "wait_interval": 0
     }
    },
    "colab_type": "code",
    "collapsed": true,
    "id": "KhJYLlfMj6Tn"
   },
   "outputs": [],
   "source": [
    "datapoints = 3000\n",
    "sample_cols = random.sample(range(1, datapoints), 1001)"
   ]
  },
  {
   "cell_type": "code",
   "execution_count": 100,
   "metadata": {
    "colab": {
     "autoexec": {
      "startup": false,
      "wait_interval": 0
     }
    },
    "colab_type": "code",
    "collapsed": true,
    "id": "0RD1kg3_j6To",
    "outputId": "c6e6851c-9720-4008-f0e1-9e175b352b92"
   },
   "outputs": [],
   "source": [
    "from sklearn.decomposition import TruncatedSVD\n",
    "from sklearn.feature_extraction.text import TfidfVectorizer\n",
    "tfidf = TfidfVectorizer(ngram_range=(1,2))\n",
    "tfidf_vec_ns = tfidf.fit_transform(filtered_data2['CleanedText_NoStem'].values[sample_cols])\n",
    "tsvd_tfidf_ns = TruncatedSVD(n_components=2)\n",
    "tsvd_tfidf_vec_ns = tsvd_tfidf_ns.fit_transform(tfidf_vec_ns)\n",
    "features = tfidf.get_feature_names()"
   ]
  },
  {
   "cell_type": "code",
   "execution_count": 101,
   "metadata": {
    "colab": {
     "autoexec": {
      "startup": false,
      "wait_interval": 0
     }
    },
    "colab_type": "code",
    "collapsed": false,
    "id": "_EiR0uraj6Tp",
    "outputId": "fcf9a9de-3877-4736-d59d-e05e32f75888"
   },
   "outputs": [
    {
     "name": "stderr",
     "output_type": "stream",
     "text": [
      "/anaconda3/envs/Vj/lib/python3.6/site-packages/ipykernel_launcher.py:11: DeprecationWarning: Call to deprecated `wv` (Attribute will be removed in 4.0.0, use self instead).\n",
      "  # This is added back by InteractiveShellApp.init_path()\n"
     ]
    }
   ],
   "source": [
    "tfidf_w2v_vec_google = []\n",
    "review = 0\n",
    "\n",
    "for sent in filtered_data2['CleanedText_NoStem'].values[sample_cols]:\n",
    "    cnt = 0 \n",
    "    weighted_sum  = 0\n",
    "    sent_vec = np.zeros(300)\n",
    "    sent = sent.decode(\"utf-8\") \n",
    "    for word in sent.split():\n",
    "        try:\n",
    "            wvec = w2v_model_google.wv[word] \n",
    "            tfidf = tfidf_vec_ns[review,features.index(word)]\n",
    "            sent_vec += (wvec * tfidf)\n",
    "            weighted_sum += tfidf\n",
    "        except:\n",
    "            pass\n",
    "    sent_vec /= weighted_sum\n",
    "    tfidf_w2v_vec_google.append(sent_vec)\n",
    "    review += 1"
   ]
  },
  {
   "cell_type": "code",
   "execution_count": 102,
   "metadata": {
    "colab": {
     "autoexec": {
      "startup": false,
      "wait_interval": 0
     }
    },
    "colab_type": "code",
    "collapsed": false,
    "id": "5ahA1_wMj6Tq",
    "outputId": "2f43bd1c-2ab9-4685-c062-93e53ccf3d96"
   },
   "outputs": [
    {
     "data": {
      "text/plain": [
       "1001"
      ]
     },
     "execution_count": 102,
     "metadata": {},
     "output_type": "execute_result"
    }
   ],
   "source": [
    "len(tfidf_w2v_vec_google)"
   ]
  },
  {
   "cell_type": "code",
   "execution_count": 103,
   "metadata": {
    "colab": {
     "autoexec": {
      "startup": false,
      "wait_interval": 0
     }
    },
    "colab_type": "code",
    "collapsed": false,
    "id": "-HzEl4Owj6Ts",
    "outputId": "a58b9952-06c3-4b33-c908-37dc7768830b"
   },
   "outputs": [
    {
     "data": {
      "text/plain": [
       "300"
      ]
     },
     "execution_count": 103,
     "metadata": {},
     "output_type": "execute_result"
    }
   ],
   "source": [
    "len(tfidf_w2v_vec_google[0])"
   ]
  },
  {
   "cell_type": "code",
   "execution_count": 104,
   "metadata": {
    "colab": {
     "autoexec": {
      "startup": false,
      "wait_interval": 0
     }
    },
    "colab_type": "code",
    "collapsed": false,
    "id": "d75j9Ukwj6Tu",
    "outputId": "dfd3f1a4-8de7-4711-b74b-0c5943a3f2e4"
   },
   "outputs": [
    {
     "data": {
      "text/plain": [
       "array([ 0.01439151, -0.01776129,  0.02893841,  0.22971813,  0.00343937,\n",
       "       -0.00373381,  0.0248765 , -0.11421477, -0.01218917,  0.16294069,\n",
       "        0.04356164, -0.10843119,  0.04473864, -0.04198844, -0.15855499,\n",
       "        0.13429914, -0.06114091,  0.12541666,  0.02830603, -0.1677314 ,\n",
       "        0.01107036,  0.03407249,  0.04068124, -0.01304926, -0.00464823,\n",
       "       -0.00565309, -0.06587132,  0.11856514, -0.106316  ,  0.04663358,\n",
       "        0.01978987,  0.05380951,  0.02128574,  0.02182653,  0.00126964,\n",
       "       -0.00368547,  0.13140673, -0.09667443,  0.10978316,  0.11071127,\n",
       "        0.04303011, -0.07063573,  0.01400318,  0.02947633, -0.0615496 ,\n",
       "       -0.22030344, -0.05270189,  0.03774665,  0.0767672 ,  0.08715285,\n",
       "       -0.09861637,  0.05805197, -0.11958436, -0.03528834,  0.0638237 ,\n",
       "        0.09738169, -0.05145475, -0.0656151 ,  0.03060007, -0.17452014,\n",
       "       -0.10159841,  0.10509332, -0.10613771, -0.03611282,  0.06537362,\n",
       "       -0.10154889, -0.06811263, -0.11842214,  0.14837591,  0.07528499,\n",
       "        0.16782126, -0.05308366,  0.07362872, -0.01821355, -0.15971493,\n",
       "       -0.06185297, -0.02538752, -0.09535905,  0.03354931, -0.00398499,\n",
       "        0.04086035, -0.10386008,  0.05767043,  0.02655405, -0.06606886,\n",
       "       -0.09010939, -0.11539123,  0.24636137,  0.0173532 , -0.01503368,\n",
       "       -0.15381404, -0.08619385, -0.0697311 ,  0.00537089, -0.06347857,\n",
       "       -0.04899414,  0.01056211, -0.04797355,  0.01673591, -0.10050669,\n",
       "       -0.05756531,  0.05880118,  0.05508997,  0.11021581, -0.07299161,\n",
       "       -0.09519986,  0.03655243, -0.08794375,  0.00714479, -0.09492104,\n",
       "       -0.10510773, -0.02180343, -0.05719351,  0.01061974,  0.02789428,\n",
       "        0.0279708 , -0.03671887, -0.05438225,  0.00502957, -0.02242974,\n",
       "        0.01768922, -0.08840564, -0.09439932,  0.08331413,  0.07764469,\n",
       "        0.01772419, -0.1374409 ,  0.0183792 ,  0.01556941, -0.0100128 ,\n",
       "       -0.16919066,  0.03738389,  0.08866023,  0.0890463 ,  0.04267585,\n",
       "        0.08250531,  0.03973899, -0.02933253,  0.12874574,  0.13987413,\n",
       "        0.00269892, -0.07789265, -0.08895119, -0.09686489,  0.02416923,\n",
       "       -0.04623152,  0.10423133,  0.11685758, -0.10873284, -0.05668211,\n",
       "        0.05042821, -0.07489597, -0.09998092,  0.08433364, -0.0697896 ,\n",
       "       -0.14144774, -0.07046099, -0.0897671 , -0.30509669, -0.08057032,\n",
       "       -0.15045555,  0.01279757, -0.01691076,  0.15961056,  0.08213217,\n",
       "       -0.09147924,  0.00306446, -0.02683851, -0.01645298, -0.03289775,\n",
       "       -0.06763532,  0.02860191, -0.02785152, -0.04999422, -0.03317487,\n",
       "       -0.11862594,  0.08656852, -0.03119932, -0.11295646,  0.03459811,\n",
       "       -0.06555694, -0.14754973, -0.03763654,  0.03917287,  0.07355683,\n",
       "       -0.13404668, -0.020066  , -0.01154433,  0.0370798 ,  0.10046278,\n",
       "       -0.07689845, -0.06608393,  0.04295643, -0.14635689,  0.02148799,\n",
       "        0.24777727, -0.02316167, -0.00856765, -0.13066944, -0.08847623,\n",
       "        0.01217761, -0.03988771, -0.05047988,  0.00422464, -0.00678548,\n",
       "       -0.09495334,  0.02402586, -0.11985552, -0.01335199, -0.02206863,\n",
       "       -0.11452009,  0.05557339, -0.022769  ,  0.1208376 ,  0.01427252,\n",
       "       -0.01236476, -0.06203496,  0.03147006, -0.04353639,  0.07134758,\n",
       "       -0.0264698 ,  0.11911976,  0.03183717,  0.06527409,  0.07022346,\n",
       "        0.00842995,  0.01255954, -0.00288519, -0.05114255,  0.149922  ,\n",
       "       -0.00614488, -0.05193696, -0.01409017,  0.12470659,  0.01390122,\n",
       "       -0.15999032,  0.02777452, -0.13436264,  0.04741384, -0.01215064,\n",
       "        0.19302636, -0.02703451,  0.07180499,  0.05177059,  0.03149166,\n",
       "       -0.05219215,  0.01952347,  0.10890568,  0.0361781 , -0.01390371,\n",
       "       -0.02014462,  0.00257952,  0.11312603, -0.05296001,  0.16688994,\n",
       "       -0.20036478, -0.03692562, -0.08786864,  0.02962013, -0.03776052,\n",
       "        0.05770093,  0.10392207, -0.10965867,  0.0022104 ,  0.08490551,\n",
       "        0.00816549, -0.15433193, -0.09485009, -0.04821249, -0.13741462,\n",
       "        0.00379979,  0.04900776, -0.05796458, -0.02687187,  0.10067212,\n",
       "       -0.10455491, -0.12190135, -0.0795955 , -0.12576098, -0.00519918,\n",
       "        0.04288762, -0.0069758 ,  0.06232004,  0.03494123, -0.07105031,\n",
       "       -0.15571648, -0.03900884,  0.01377788, -0.10682494,  0.11441297,\n",
       "       -0.07179608, -0.04097086, -0.03784047,  0.020531  ,  0.10067817,\n",
       "        0.03164814,  0.10917082, -0.03664372,  0.08698905,  0.04561385])"
      ]
     },
     "execution_count": 104,
     "metadata": {},
     "output_type": "execute_result"
    }
   ],
   "source": [
    "tfidf_w2v_vec_google[0]"
   ]
  },
  {
   "cell_type": "code",
   "execution_count": 105,
   "metadata": {
    "colab": {
     "autoexec": {
      "startup": false,
      "wait_interval": 0
     }
    },
    "colab_type": "code",
    "collapsed": true,
    "id": "MTZH-rZ4j6Tv"
   },
   "outputs": [],
   "source": [
    "saveindisk(tfidf_w2v_vec_google,\"tfidf_w2v_vec_google\")"
   ]
  },
  {
   "cell_type": "code",
   "execution_count": 106,
   "metadata": {
    "colab": {
     "autoexec": {
      "startup": false,
      "wait_interval": 0
     }
    },
    "colab_type": "code",
    "collapsed": true,
    "id": "LXDsrJeUj6Tx"
   },
   "outputs": [],
   "source": [
    "tfidf_w2v_vec_google = openfromdisk(\"tfidf_w2v_vec_google\")"
   ]
  },
  {
   "cell_type": "code",
   "execution_count": 107,
   "metadata": {
    "colab": {
     "autoexec": {
      "startup": false,
      "wait_interval": 0
     }
    },
    "colab_type": "code",
    "collapsed": true,
    "id": "PdI9kDpRj6Tz"
   },
   "outputs": [],
   "source": [
    "from sklearn import preprocessing\n",
    "tfidf_w2v_vec_google_norm = preprocessing.normalize(tfidf_w2v_vec_google)"
   ]
  },
  {
   "cell_type": "code",
   "execution_count": 108,
   "metadata": {
    "colab": {
     "autoexec": {
      "startup": false,
      "wait_interval": 0
     }
    },
    "colab_type": "code",
    "collapsed": false,
    "id": "tj-zwdknj6Tz",
    "outputId": "c4579d4a-f21c-4417-e4ce-c1ca721bbd3d"
   },
   "outputs": [
    {
     "data": {
      "image/png": "[encoded data removed]",
      "text/plain": [
       "<Figure size 512.875x432 with 1 Axes>"
      ]
     },
     "metadata": {},
     "output_type": "display_data"
    }
   ],
   "source": [
    "# Perplexity = 20\n",
    "\n",
    "from sklearn.manifold import TSNE\n",
    "import random\n",
    "\n",
    "n_samples = 1000\n",
    "sample_cols = random.sample(range(1, tfidf_w2v_vec_google_norm.shape[0]), n_samples)\n",
    "sample_features = tfidf_w2v_vec_google_norm[sample_cols]\n",
    "\n",
    "sample_class = filtered_data2['Score'][sample_cols]\n",
    "sample_class = sample_class[:,np.newaxis]\n",
    "model = TSNE(n_components=2,random_state=0,perplexity=20)\n",
    "\n",
    "embedded_data = model.fit_transform(sample_features)\n",
    "final_data = np.concatenate((embedded_data,sample_class),axis=1)\n",
    "tsne_data = pd.DataFrame(data=final_data,columns=[\"Dim1\",\"Dim2\",\"label\"])\n",
    "\n",
    "sns.FacetGrid(tsne_data,hue=\"label\",size=6).map(plt.scatter,\"Dim1\",\"Dim2\").add_legend()\n",
    "plt.show()"
   ]
  },
  {
   "cell_type": "code",
   "execution_count": 109,
   "metadata": {
    "colab": {
     "autoexec": {
      "startup": false,
      "wait_interval": 0
     }
    },
    "colab_type": "code",
    "collapsed": false,
    "id": "65IOU38cj6T1",
    "outputId": "3e12b95d-b0fd-443e-ab5d-1f74c2fb73a9"
   },
   "outputs": [
    {
     "data": {
      "image/png": "[encoded data removed]",
      "text/plain": [
       "<Figure size 512.875x432 with 1 Axes>"
      ]
     },
     "metadata": {},
     "output_type": "display_data"
    }
   ],
   "source": [
    "# Perplexity = 35\n",
    "\n",
    "from sklearn.manifold import TSNE\n",
    "import random\n",
    "\n",
    "n_samples = 1000\n",
    "sample_cols = random.sample(range(1, tfidf_w2v_vec_google_norm.shape[0]), n_samples)\n",
    "sample_features = tfidf_w2v_vec_google_norm[sample_cols]\n",
    "\n",
    "sample_class = filtered_data2['Score'][sample_cols]\n",
    "sample_class = sample_class[:,np.newaxis]\n",
    "model = TSNE(n_components=2,random_state=0,perplexity=35)\n",
    "\n",
    "embedded_data = model.fit_transform(sample_features)\n",
    "final_data = np.concatenate((embedded_data,sample_class),axis=1)\n",
    "tsne_data = pd.DataFrame(data=final_data,columns=[\"Dim1\",\"Dim2\",\"label\"])\n",
    "\n",
    "sns.FacetGrid(tsne_data,hue=\"label\",size=6).map(plt.scatter,\"Dim1\",\"Dim2\").add_legend()\n",
    "plt.show()"
   ]
  },
  {
   "cell_type": "code",
   "execution_count": 110,
   "metadata": {
    "colab": {
     "autoexec": {
      "startup": false,
      "wait_interval": 0
     }
    },
    "colab_type": "code",
    "collapsed": false,
    "id": "hxWXwQd4j6T2",
    "outputId": "1198dacd-cc93-42c4-ea3c-5fce6347fd75"
   },
   "outputs": [
    {
     "data": {
      "image/png": "[encoded data removed]",
      "text/plain": [
       "<Figure size 512.875x432 with 1 Axes>"
      ]
     },
     "metadata": {},
     "output_type": "display_data"
    }
   ],
   "source": [
    "# Perplexity = 50\n",
    "\n",
    "from sklearn.manifold import TSNE\n",
    "import random\n",
    "\n",
    "n_samples = 1000\n",
    "sample_cols = random.sample(range(1, tfidf_w2v_vec_google_norm.shape[0]), n_samples)\n",
    "sample_features = tfidf_w2v_vec_google_norm[sample_cols]\n",
    "\n",
    "sample_class = filtered_data2['Score'][sample_cols]\n",
    "sample_class = sample_class[:,np.newaxis]\n",
    "model = TSNE(n_components=2,random_state=0,perplexity=50)\n",
    "\n",
    "embedded_data = model.fit_transform(sample_features)\n",
    "final_data = np.concatenate((embedded_data,sample_class),axis=1)\n",
    "tsne_data = pd.DataFrame(data=final_data,columns=[\"Dim1\",\"Dim2\",\"label\"])\n",
    "\n",
    "sns.FacetGrid(tsne_data,hue=\"label\",size=6).map(plt.scatter,\"Dim1\",\"Dim2\").add_legend()\n",
    "plt.show()"
   ]
  },
  {
   "cell_type": "markdown",
   "metadata": {},
   "source": [
    "# Conclusion:-\n",
    "* As it is clearly visible from the overlapping area of the graph that bag of word and tf-IDF not classify the reviews positive or negative, while tfidf w2vec gives the more clear result in classifying the reviews as positive or negative."
   ]
  },
  {
   "cell_type": "markdown",
   "metadata": {},
   "source": [
    "# References:-\n",
    "https://www.geeksforgeeks.org/removing-stop-words-nltk-python/\n",
    "\n",
    "https://stackoverflow.com/questions/18689235/numpy-array-replace-nan-values-with-average-of-columns"
   ]
  }
 ],
 "metadata": {
  "accelerator": "GPU",
  "anaconda-cloud": {},
  "colab": {
   "default_view": {},
   "name": "1%20Amazon%20Food%20Reviews%20EDA%2C%20NLP%20and%20Text%20Preprocessing.ipynb",
   "provenance": [],
   "version": "0.3.2",
   "views": {}
  },
  "kernelspec": {
   "display_name": "Python [default]",
   "language": "python",
   "name": "python3"
  },
  "language_info": {
   "codemirror_mode": {
    "name": "ipython",
    "version": 3
   },
   "file_extension": ".py",
   "mimetype": "text/x-python",
   "name": "python",
   "nbconvert_exporter": "python",
   "pygments_lexer": "ipython3",
   "version": "3.5.2"
  }
 },
 "nbformat": 4,
 "nbformat_minor": 1
}
