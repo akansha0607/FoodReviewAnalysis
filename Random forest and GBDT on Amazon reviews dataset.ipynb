{
 "cells": [
  {
   "cell_type": "markdown",
   "metadata": {},
   "source": [
    "# Amazon Fine Food Reviews Analysis\n",
    "Data Source: https://www.kaggle.com/snap/amazon-fine-food-reviews\n",
    "The Amazon Fine Food Reviews dataset consists of reviews of fine foods from Amazon.<br>\n",
    "\n",
    "Number of reviews: 568,454<br>\n",
    "Number of users: 256,059<br>\n",
    "Number of products: 74,258<br>\n",
    "Timespan: Oct 1999 - Oct 2012<br>\n",
    "Number of Attributes/Columns in data: 10 \n",
    "\n",
    "Attribute Information:\n",
    "\n",
    "1. Id\n",
    "2. ProductId - unique identifier for the product\n",
    "3. UserId - unqiue identifier for the user\n",
    "4. ProfileName\n",
    "5. HelpfulnessNumerator - number of users who found the review helpful\n",
    "6. HelpfulnessDenominator - number of users who indicated whether they found the review helpful or not\n",
    "7. Score - rating between 1 and 5\n",
    "8. Time - timestamp for the review\n",
    "9. Summary - brief summary of the review\n",
    "10. Text - text of the review\n",
    "\n",
    "\n",
    "#### Objective:\n",
    "Given a review, determine whether the review is positive (Rating of 4 or 5) or negative (rating of 1 or 2).\n",
    "<img src=\"https://i1.wp.com/www.jerseygirltalk.com/wp-content/uploads/2017/10/Amazon-Fresh.png?resize=560%2C315\">"
   ]
  },
  {
   "cell_type": "code",
   "execution_count": 1,
   "metadata": {},
   "outputs": [
    {
     "name": "stdout",
     "output_type": "stream",
     "text": [
      "Collecting pydrive\n",
      "\u001b[?25l  Downloading https://files.pythonhosted.org/packages/52/e0/0e64788e5dd58ce2d6934549676243dc69d982f198524be9b99e9c2a4fd5/PyDrive-1.3.1.tar.gz (987kB)\n",
      "\u001b[K    100% |################################| 993kB 12.2MB/s ta 0:00:01\n",
      "\u001b[?25hCollecting google-api-python-client>=1.2 (from pydrive)\n",
      "\u001b[?25l  Downloading https://files.pythonhosted.org/packages/56/04/5259a17a16a779426f6e2ac62796135b0d4a59cf8033a21037fd4ba5bf81/google_api_python_client-1.7.4-py3-none-any.whl (55kB)\n",
      "\u001b[K    100% |################################| 61kB 22.6MB/s ta 0:00:01\n",
      "\u001b[?25hCollecting oauth2client>=4.0.0 (from pydrive)\n",
      "\u001b[?25l  Downloading https://files.pythonhosted.org/packages/82/d8/3eab58811282ac7271a081ba5c0d4b875ce786ca68ce43e2a62ade32e9a8/oauth2client-4.1.2-py2.py3-none-any.whl (99kB)\n",
      "\u001b[K    100% |################################| 102kB 1.3MB/s a 0:00:01\n",
      "\u001b[?25hCollecting PyYAML>=3.0 (from pydrive)\n",
      "\u001b[?25l  Downloading https://files.pythonhosted.org/packages/9e/a3/1d13970c3f36777c583f136c136f804d70f500168edc1edea6daa7200769/PyYAML-3.13.tar.gz (270kB)\n",
      "\u001b[K    100% |################################| 276kB 18.7MB/s ta 0:00:01\n",
      "\u001b[?25hRequirement already satisfied: six<2dev,>=1.6.1 in /opt/conda/envs/py3.6/lib/python3.6/site-packages (from google-api-python-client>=1.2->pydrive) (1.11.0)\n",
      "Collecting httplib2<1dev,>=0.9.2 (from google-api-python-client>=1.2->pydrive)\n",
      "\u001b[?25l  Downloading https://files.pythonhosted.org/packages/fd/ce/aa4a385e3e9fd351737fd2b07edaa56e7a730448465aceda6b35086a0d9b/httplib2-0.11.3.tar.gz (215kB)\n",
      "\u001b[K    100% |################################| 225kB 19.5MB/s ta 0:00:01\n",
      "\u001b[?25hCollecting uritemplate<4dev,>=3.0.0 (from google-api-python-client>=1.2->pydrive)\n",
      "  Downloading https://files.pythonhosted.org/packages/e5/7d/9d5a640c4f8bf2c8b1afc015e9a9d8de32e13c9016dcc4b0ec03481fb396/uritemplate-3.0.0-py2.py3-none-any.whl\n",
      "Collecting google-auth>=1.4.1 (from google-api-python-client>=1.2->pydrive)\n",
      "\u001b[?25l  Downloading https://files.pythonhosted.org/packages/53/06/6e6d5bfa4d23ee40efd772d6b681a7afecd859a9176e564b8c329382370f/google_auth-1.5.0-py2.py3-none-any.whl (65kB)\n",
      "\u001b[K    100% |################################| 71kB 26.9MB/s ta 0:00:01\n",
      "\u001b[?25hCollecting google-auth-httplib2>=0.0.3 (from google-api-python-client>=1.2->pydrive)\n",
      "  Downloading https://files.pythonhosted.org/packages/33/49/c814d6d438b823441552198f096fcd0377fd6c88714dbed34f1d3c8c4389/google_auth_httplib2-0.0.3-py2.py3-none-any.whl\n",
      "Collecting rsa>=3.1.4 (from oauth2client>=4.0.0->pydrive)\n",
      "\u001b[?25l  Downloading https://files.pythonhosted.org/packages/e1/ae/baedc9cb175552e95f3395c43055a6a5e125ae4d48a1d7a924baca83e92e/rsa-3.4.2-py2.py3-none-any.whl (46kB)\n",
      "\u001b[K    100% |################################| 51kB 23.1MB/s ta 0:00:01\n",
      "\u001b[?25hCollecting pyasn1>=0.1.7 (from oauth2client>=4.0.0->pydrive)\n",
      "\u001b[?25l  Downloading https://files.pythonhosted.org/packages/a0/70/2c27740f08e477499ce19eefe05dbcae6f19fdc49e9e82ce4768be0643b9/pyasn1-0.4.3-py2.py3-none-any.whl (72kB)\n",
      "\u001b[K    100% |################################| 81kB 31.1MB/s ta 0:00:01\n",
      "\u001b[?25hCollecting pyasn1-modules>=0.0.5 (from oauth2client>=4.0.0->pydrive)\n",
      "\u001b[?25l  Downloading https://files.pythonhosted.org/packages/19/02/fa63f7ba30a0d7b925ca29d034510fc1ffde53264b71b4155022ddf3ab5d/pyasn1_modules-0.2.2-py2.py3-none-any.whl (62kB)\n",
      "\u001b[K    100% |################################| 71kB 27.6MB/s ta 0:00:01\n",
      "\u001b[?25hCollecting cachetools>=2.0.0 (from google-auth>=1.4.1->google-api-python-client>=1.2->pydrive)\n",
      "  Downloading https://files.pythonhosted.org/packages/0a/58/cbee863250b31d80f47401d04f34038db6766f95dea1cc909ea099c7e571/cachetools-2.1.0-py2.py3-none-any.whl\n",
      "Building wheels for collected packages: pydrive, PyYAML, httplib2\n",
      "  Running setup.py bdist_wheel for pydrive ... \u001b[?25ldone\n",
      "\u001b[?25h  Stored in directory: /home/jovyan/.cache/pip/wheels/fa/d2/9a/d3b6b506c2da98289e5d417215ce34b696db856643bad779f4\n",
      "  Running setup.py bdist_wheel for PyYAML ... \u001b[?25ldone\n",
      "\u001b[?25h  Stored in directory: /home/jovyan/.cache/pip/wheels/ad/da/0c/74eb680767247273e2cf2723482cb9c924fe70af57c334513f\n",
      "  Running setup.py bdist_wheel for httplib2 ... \u001b[?25ldone\n",
      "\u001b[?25h  Stored in directory: /home/jovyan/.cache/pip/wheels/1b/9c/9e/1f6fdb21dbb1fe6a99101d697f12cb8c1fa96c1587df69adba\n",
      "Successfully built pydrive PyYAML httplib2\n",
      "Installing collected packages: httplib2, uritemplate, cachetools, pyasn1, rsa, pyasn1-modules, google-auth, google-auth-httplib2, google-api-python-client, oauth2client, PyYAML, pydrive\n",
      "Successfully installed PyYAML-3.13 cachetools-2.1.0 google-api-python-client-1.7.4 google-auth-1.5.0 google-auth-httplib2-0.0.3 httplib2-0.11.3 oauth2client-4.1.2 pyasn1-0.4.3 pyasn1-modules-0.2.2 pydrive-1.3.1 rsa-3.4.2 uritemplate-3.0.0\n",
      "Collecting gensim\n",
      "\u001b[?25l  Downloading https://files.pythonhosted.org/packages/d1/8d/f20e715f3eae5a277b13a31d440d65f294fadbc2047c4d02226e1de05b6e/gensim-3.5.0.tar.gz (22.9MB)\n",
      "\u001b[K    100% |################################| 22.9MB 4.1MB/s eta 0:00:01\n",
      "\u001b[?25hRequirement already satisfied: numpy>=1.11.3 in /opt/conda/envs/py3.6/lib/python3.6/site-packages (from gensim) (1.12.1)\n",
      "Requirement already satisfied: scipy>=0.18.1 in /opt/conda/envs/py3.6/lib/python3.6/site-packages (from gensim) (0.19.1)\n",
      "Requirement already satisfied: six>=1.5.0 in /opt/conda/envs/py3.6/lib/python3.6/site-packages (from gensim) (1.11.0)\n",
      "Collecting smart_open>=1.2.1 (from gensim)\n",
      "  Downloading https://files.pythonhosted.org/packages/cf/3d/5f3a9a296d0ba8e00e263a8dee76762076b9eb5ddc254ccaa834651c8d65/smart_open-1.6.0.tar.gz\n",
      "Collecting boto>=2.32 (from smart_open>=1.2.1->gensim)\n",
      "\u001b[?25l  Downloading https://files.pythonhosted.org/packages/23/10/c0b78c27298029e4454a472a1919bde20cb182dab1662cec7f2ca1dcc523/boto-2.49.0-py2.py3-none-any.whl (1.4MB)\n",
      "\u001b[K    100% |################################| 1.4MB 24.2MB/s ta 0:00:01\n",
      "\u001b[?25hCollecting bz2file (from smart_open>=1.2.1->gensim)\n",
      "  Downloading https://files.pythonhosted.org/packages/61/39/122222b5e85cd41c391b68a99ee296584b2a2d1d233e7ee32b4532384f2d/bz2file-0.98.tar.gz\n",
      "Requirement already satisfied: requests in /opt/conda/envs/py3.6/lib/python3.6/site-packages (from smart_open>=1.2.1->gensim) (2.18.4)\n",
      "Collecting boto3 (from smart_open>=1.2.1->gensim)\n",
      "\u001b[?25l  Downloading https://files.pythonhosted.org/packages/d0/a6/48768566d78f51415b222f5a5a858768ebc92070f435d011121a91494e65/boto3-1.7.60-py2.py3-none-any.whl (128kB)\n",
      "\u001b[K    100% |################################| 133kB 37.6MB/s ta 0:00:01\n",
      "\u001b[?25hRequirement already satisfied: chardet<3.1.0,>=3.0.2 in /opt/conda/envs/py3.6/lib/python3.6/site-packages (from requests->smart_open>=1.2.1->gensim) (3.0.4)\n",
      "Requirement already satisfied: idna<2.7,>=2.5 in /opt/conda/envs/py3.6/lib/python3.6/site-packages (from requests->smart_open>=1.2.1->gensim) (2.6)\n",
      "Requirement already satisfied: urllib3<1.23,>=1.21.1 in /opt/conda/envs/py3.6/lib/python3.6/site-packages (from requests->smart_open>=1.2.1->gensim) (1.22)\n",
      "Requirement already satisfied: certifi>=2017.4.17 in /opt/conda/envs/py3.6/lib/python3.6/site-packages (from requests->smart_open>=1.2.1->gensim) (2018.4.16)\n",
      "Collecting s3transfer<0.2.0,>=0.1.10 (from boto3->smart_open>=1.2.1->gensim)\n",
      "\u001b[?25l  Downloading https://files.pythonhosted.org/packages/d7/14/2a0004d487464d120c9fb85313a75cd3d71a7506955be458eebfe19a6b1d/s3transfer-0.1.13-py2.py3-none-any.whl (59kB)\n",
      "\u001b[K    100% |################################| 61kB 28.9MB/s ta 0:00:01\n",
      "\u001b[?25hCollecting jmespath<1.0.0,>=0.7.1 (from boto3->smart_open>=1.2.1->gensim)\n",
      "  Downloading https://files.pythonhosted.org/packages/b7/31/05c8d001f7f87f0f07289a5fc0fc3832e9a57f2dbd4d3b0fee70e0d51365/jmespath-0.9.3-py2.py3-none-any.whl\n",
      "Collecting botocore<1.11.0,>=1.10.60 (from boto3->smart_open>=1.2.1->gensim)\n",
      "\u001b[?25l  Downloading https://files.pythonhosted.org/packages/75/bc/b47bc0b2262a2b808a8add6a46ea1338ad71fd4cc06f35ff6ac577b2b366/botocore-1.10.60-py2.py3-none-any.whl (4.4MB)\n",
      "\u001b[K    100% |################################| 4.4MB 12.4MB/s ta 0:00:01\n",
      "\u001b[?25hRequirement already satisfied: docutils>=0.10 in /opt/conda/envs/py3.6/lib/python3.6/site-packages (from botocore<1.11.0,>=1.10.60->boto3->smart_open>=1.2.1->gensim) (0.14)\n",
      "Requirement already satisfied: python-dateutil<3.0.0,>=2.1; python_version >= \"2.7\" in /opt/conda/envs/py3.6/lib/python3.6/site-packages (from botocore<1.11.0,>=1.10.60->boto3->smart_open>=1.2.1->gensim) (2.7.3)\n",
      "Building wheels for collected packages: gensim, smart-open, bz2file\n"
     ]
    },
    {
     "name": "stdout",
     "output_type": "stream",
     "text": [
      "  Running setup.py bdist_wheel for gensim ... \u001b[?25ldone\n",
      "\u001b[?25h  Stored in directory: /home/jovyan/.cache/pip/wheels/26/7b/c6/8f29903415a88fc8c9fb99c6c027684d5ce7e6da98cf71a5b9\n",
      "  Running setup.py bdist_wheel for smart-open ... \u001b[?25ldone\n",
      "\u001b[?25h  Stored in directory: /home/jovyan/.cache/pip/wheels/73/f1/9b/ccf93d4ba073b6f79b1ed9df68ab5ce048d8136d0efcf90b30\n",
      "  Running setup.py bdist_wheel for bz2file ... \u001b[?25ldone\n",
      "\u001b[?25h  Stored in directory: /home/jovyan/.cache/pip/wheels/81/75/d6/e1317bf09bf1af5a30befc2a007869fa6e1f516b8f7c591cb9\n",
      "Successfully built gensim smart-open bz2file\n",
      "Installing collected packages: boto, bz2file, jmespath, botocore, s3transfer, boto3, smart-open, gensim\n",
      "Successfully installed boto-2.49.0 boto3-1.7.60 botocore-1.10.60 bz2file-0.98 gensim-3.5.0 jmespath-0.9.3 s3transfer-0.1.13 smart-open-1.6.0\n",
      "Collecting nltk\n",
      "\u001b[?25l  Downloading https://files.pythonhosted.org/packages/50/09/3b1755d528ad9156ee7243d52aa5cd2b809ef053a0f31b53d92853dd653a/nltk-3.3.0.zip (1.4MB)\n",
      "\u001b[K    100% |################################| 1.4MB 8.6MB/s eta 0:00:01\n",
      "\u001b[?25hRequirement already satisfied: six in /opt/conda/envs/py3.6/lib/python3.6/site-packages (from nltk) (1.11.0)\n",
      "Building wheels for collected packages: nltk\n",
      "  Running setup.py bdist_wheel for nltk ... \u001b[?25ldone\n",
      "\u001b[?25h  Stored in directory: /home/jovyan/.cache/pip/wheels/d1/ab/40/3bceea46922767e42986aef7606a600538ca80de6062dc266c\n",
      "Successfully built nltk\n",
      "Installing collected packages: nltk\n",
      "Successfully installed nltk-3.3\n",
      "Requirement already satisfied: seaborn in /opt/conda/envs/py3.6/lib/python3.6/site-packages (0.9.0)\n",
      "Requirement already satisfied: matplotlib>=1.4.3 in /opt/conda/envs/py3.6/lib/python3.6/site-packages (from seaborn) (2.1.2)\n",
      "Requirement already satisfied: pandas>=0.15.2 in /opt/conda/envs/py3.6/lib/python3.6/site-packages (from seaborn) (0.20.3)\n",
      "Requirement already satisfied: scipy>=0.14.0 in /opt/conda/envs/py3.6/lib/python3.6/site-packages (from seaborn) (0.19.1)\n",
      "Requirement already satisfied: numpy>=1.9.3 in /opt/conda/envs/py3.6/lib/python3.6/site-packages (from seaborn) (1.12.1)\n",
      "Requirement already satisfied: six>=1.10 in /opt/conda/envs/py3.6/lib/python3.6/site-packages (from matplotlib>=1.4.3->seaborn) (1.11.0)\n",
      "Requirement already satisfied: python-dateutil>=2.1 in /opt/conda/envs/py3.6/lib/python3.6/site-packages (from matplotlib>=1.4.3->seaborn) (2.7.3)\n",
      "Requirement already satisfied: pytz in /opt/conda/envs/py3.6/lib/python3.6/site-packages (from matplotlib>=1.4.3->seaborn) (2018.4)\n",
      "Requirement already satisfied: cycler>=0.10 in /opt/conda/envs/py3.6/lib/python3.6/site-packages (from matplotlib>=1.4.3->seaborn) (0.10.0)\n",
      "Requirement already satisfied: pyparsing!=2.0.4,!=2.1.2,!=2.1.6,>=2.0.1 in /opt/conda/envs/py3.6/lib/python3.6/site-packages (from matplotlib>=1.4.3->seaborn) (2.2.0)\n",
      "Collecting xgboost\n",
      "\u001b[?25l  Downloading https://files.pythonhosted.org/packages/49/40/dfc5d356d2bf002298f0d1b8f7fd08671a455828f5804818a36d964bb29d/xgboost-0.72.1.tar.gz (574kB)\n",
      "\u001b[K    100% |################################| 583kB 10.6MB/s ta 0:00:01\n",
      "\u001b[?25hRequirement already satisfied: numpy in /opt/conda/envs/py3.6/lib/python3.6/site-packages (from xgboost) (1.12.1)\n",
      "Requirement already satisfied: scipy in /opt/conda/envs/py3.6/lib/python3.6/site-packages (from xgboost) (0.19.1)\n",
      "Building wheels for collected packages: xgboost\n",
      "  Running setup.py bdist_wheel for xgboost ... \u001b[?25ldone\n",
      "\u001b[?25h  Stored in directory: /home/jovyan/.cache/pip/wheels/7d/45/ff/92c864d34ae8e77df45b3e808eff15271a4d7dc071707b4f40\n",
      "Successfully built xgboost\n",
      "Installing collected packages: xgboost\n",
      "Successfully installed xgboost-0.72.1\n",
      "--2018-07-19 02:27:28--  https://doc-14-34-docs.googleusercontent.com/docs/securesc/sr3ne958tilodvhhec79bitjd2u2bnlr/t4ul11orpkbo7g1j7a551rv07qf911pf/1531468800000/09929041593969215305/09929041593969215305/1cZS7OUXVft4KTZ1AzZPu95hSgWzu3aC8?e=download\n",
      "Resolving doc-14-34-docs.googleusercontent.com (doc-14-34-docs.googleusercontent.com)... 172.217.10.33, 2607:f8b0:4006:803::2001\n",
      "Connecting to doc-14-34-docs.googleusercontent.com (doc-14-34-docs.googleusercontent.com)|172.217.10.33|:443... connected.\n",
      "HTTP request sent, awaiting response... 403 Forbidden\n",
      "2018-07-19 02:27:29 ERROR 403: Forbidden.\n",
      "\n"
     ]
    }
   ],
   "source": [
    "!pip install pydrive\n",
    "!pip install gensim\n",
    "!pip install nltk\n",
    "!pip install seaborn\n",
    "!pip install xgboost\n",
    "!wget --header='Host: doc-14-34-docs.googleusercontent.com' --header='User-Agent: Mozilla/5.0 (Macintosh; Intel Mac OS X 10_13_6) AppleWebKit/537.36 (KHTML, like Gecko) Chrome/67.0.3396.99 Safari/537.36' --header='Accept: text/html,application/xhtml+xml,application/xml;q=0.9,image/webp,image/apng,*/*;q=0.8' --header='Accept-Language: en-US,en;q=0.9' --header='Cookie: AUTH_sl8scr3r78dtlbjs5mvoco4ilf6h1a3b=09929041593969215305|1531468800000|u59ib6rmr97ctn3dvalen1hqiaup4fhq; NID=130=LXZwJ_B1s7OlagMooX3o0cdKaSHL3frN5ha4lIftM8TuGzoTCmfcWXpJ3cNRIcbkyUPqb3Jy-XQmP9UHSogzUlrWBiowlnwfwg3Cx-F6T5acQOD-gO27Uk1dFzgik3yZ' --header='Connection: keep-alive' 'https://doc-14-34-docs.googleusercontent.com/docs/securesc/sr3ne958tilodvhhec79bitjd2u2bnlr/t4ul11orpkbo7g1j7a551rv07qf911pf/1531468800000/09929041593969215305/09929041593969215305/1cZS7OUXVft4KTZ1AzZPu95hSgWzu3aC8?e=download' -O 'final.sqlite' -c"
   ]
  },
  {
   "cell_type": "code",
   "execution_count": 63,
   "metadata": {},
   "outputs": [
    {
     "name": "stdout",
     "output_type": "stream",
     "text": [
      "Requirement already up-to-date: ipython[all] in /opt/conda/envs/py3.6/lib/python3.6/site-packages (6.4.0)\n",
      "Requirement not upgraded as not directly required: decorator in /opt/conda/envs/py3.6/lib/python3.6/site-packages (from ipython[all]) (4.3.0)\n",
      "Requirement not upgraded as not directly required: simplegeneric>0.8 in /opt/conda/envs/py3.6/lib/python3.6/site-packages (from ipython[all]) (0.8.1)\n",
      "Requirement not upgraded as not directly required: backcall in /opt/conda/envs/py3.6/lib/python3.6/site-packages (from ipython[all]) (0.1.0)\n",
      "Requirement not upgraded as not directly required: pygments in /opt/conda/envs/py3.6/lib/python3.6/site-packages (from ipython[all]) (2.2.0)\n",
      "Requirement not upgraded as not directly required: pickleshare in /opt/conda/envs/py3.6/lib/python3.6/site-packages (from ipython[all]) (0.7.4)\n",
      "Requirement not upgraded as not directly required: setuptools>=18.5 in /opt/conda/envs/py3.6/lib/python3.6/site-packages (from ipython[all]) (36.4.0)\n",
      "Requirement not upgraded as not directly required: jedi>=0.10 in /opt/conda/envs/py3.6/lib/python3.6/site-packages (from ipython[all]) (0.11.0)\n",
      "Requirement not upgraded as not directly required: pexpect; sys_platform != \"win32\" in /opt/conda/envs/py3.6/lib/python3.6/site-packages (from ipython[all]) (4.3.0)\n",
      "Requirement not upgraded as not directly required: prompt-toolkit<2.0.0,>=1.0.15 in /opt/conda/envs/py3.6/lib/python3.6/site-packages (from ipython[all]) (1.0.15)\n",
      "Requirement not upgraded as not directly required: traitlets>=4.2 in /opt/conda/envs/py3.6/lib/python3.6/site-packages (from ipython[all]) (4.3.2)\n",
      "Requirement not upgraded as not directly required: nbconvert; extra == \"all\" in /opt/conda/envs/py3.6/lib/python3.6/site-packages (from ipython[all]) (5.3.1)\n",
      "Requirement not upgraded as not directly required: ipykernel; extra == \"all\" in /opt/conda/envs/py3.6/lib/python3.6/site-packages (from ipython[all]) (4.8.0)\n",
      "Requirement not upgraded as not directly required: notebook; extra == \"all\" in /opt/conda/envs/py3.6/lib/python3.6/site-packages (from ipython[all]) (5.5.0)\n",
      "Requirement not upgraded as not directly required: nbformat; extra == \"all\" in /opt/conda/envs/py3.6/lib/python3.6/site-packages (from ipython[all]) (4.4.0)\n",
      "Requirement not upgraded as not directly required: ipywidgets; extra == \"all\" in /opt/conda/envs/py3.6/lib/python3.6/site-packages (from ipython[all]) (7.0.3)\n",
      "Requirement not upgraded as not directly required: testpath; extra == \"all\" in /opt/conda/envs/py3.6/lib/python3.6/site-packages (from ipython[all]) (0.3.1)\n",
      "Requirement not upgraded as not directly required: Sphinx>=1.3; extra == \"all\" in /opt/conda/envs/py3.6/lib/python3.6/site-packages (from ipython[all]) (1.7.6)\n",
      "Requirement not upgraded as not directly required: ipyparallel; extra == \"all\" in /opt/conda/envs/py3.6/lib/python3.6/site-packages (from ipython[all]) (6.2.2)\n",
      "Requirement not upgraded as not directly required: qtconsole; extra == \"all\" in /opt/conda/envs/py3.6/lib/python3.6/site-packages (from ipython[all]) (4.3.1)\n",
      "Requirement not upgraded as not directly required: requests; extra == \"all\" in /opt/conda/envs/py3.6/lib/python3.6/site-packages (from ipython[all]) (2.18.4)\n",
      "Requirement not upgraded as not directly required: nose>=0.10.1; extra == \"all\" in /opt/conda/envs/py3.6/lib/python3.6/site-packages (from ipython[all]) (1.3.7)\n",
      "Requirement not upgraded as not directly required: parso==0.1.* in /opt/conda/envs/py3.6/lib/python3.6/site-packages (from jedi>=0.10->ipython[all]) (0.1.1)\n",
      "Requirement not upgraded as not directly required: six>=1.9.0 in /opt/conda/envs/py3.6/lib/python3.6/site-packages (from prompt-toolkit<2.0.0,>=1.0.15->ipython[all]) (1.11.0)\n",
      "Requirement not upgraded as not directly required: wcwidth in /opt/conda/envs/py3.6/lib/python3.6/site-packages (from prompt-toolkit<2.0.0,>=1.0.15->ipython[all]) (0.1.7)\n",
      "Requirement not upgraded as not directly required: ipython_genutils in /opt/conda/envs/py3.6/lib/python3.6/site-packages (from traitlets>=4.2->ipython[all]) (0.2.0)\n",
      "Requirement not upgraded as not directly required: mistune>=0.7.4 in /opt/conda/envs/py3.6/lib/python3.6/site-packages (from nbconvert; extra == \"all\"->ipython[all]) (0.8.3)\n",
      "Requirement not upgraded as not directly required: pandocfilters>=1.4.1 in /opt/conda/envs/py3.6/lib/python3.6/site-packages (from nbconvert; extra == \"all\"->ipython[all]) (1.4.2)\n",
      "Requirement not upgraded as not directly required: jinja2 in /opt/conda/envs/py3.6/lib/python3.6/site-packages (from nbconvert; extra == \"all\"->ipython[all]) (2.10)\n",
      "Requirement not upgraded as not directly required: jupyter-core in /opt/conda/envs/py3.6/lib/python3.6/site-packages (from nbconvert; extra == \"all\"->ipython[all]) (4.4.0)\n",
      "Requirement not upgraded as not directly required: bleach in /opt/conda/envs/py3.6/lib/python3.6/site-packages (from nbconvert; extra == \"all\"->ipython[all]) (1.5.0)\n",
      "Requirement not upgraded as not directly required: entrypoints>=0.2.2 in /opt/conda/envs/py3.6/lib/python3.6/site-packages (from nbconvert; extra == \"all\"->ipython[all]) (0.2.3)\n",
      "Requirement not upgraded as not directly required: jupyter_client in /opt/conda/envs/py3.6/lib/python3.6/site-packages (from ipykernel; extra == \"all\"->ipython[all]) (5.2.3)\n",
      "Requirement not upgraded as not directly required: tornado>=4.0 in /opt/conda/envs/py3.6/lib/python3.6/site-packages (from ipykernel; extra == \"all\"->ipython[all]) (5.0.2)\n",
      "Requirement not upgraded as not directly required: Send2Trash in /opt/conda/envs/py3.6/lib/python3.6/site-packages (from notebook; extra == \"all\"->ipython[all]) (1.5.0)\n",
      "Requirement not upgraded as not directly required: terminado>=0.8.1 in /opt/conda/envs/py3.6/lib/python3.6/site-packages (from notebook; extra == \"all\"->ipython[all]) (0.8.1)\n",
      "Requirement not upgraded as not directly required: pyzmq>=17 in /opt/conda/envs/py3.6/lib/python3.6/site-packages (from notebook; extra == \"all\"->ipython[all]) (17.0.0)\n",
      "Requirement not upgraded as not directly required: jsonschema!=2.5.0,>=2.4 in /opt/conda/envs/py3.6/lib/python3.6/site-packages (from nbformat; extra == \"all\"->ipython[all]) (2.6.0)\n",
      "Requirement not upgraded as not directly required: widgetsnbextension~=3.0.0 in /opt/conda/envs/py3.6/lib/python3.6/site-packages (from ipywidgets; extra == \"all\"->ipython[all]) (3.0.8)\n",
      "Requirement not upgraded as not directly required: docutils>=0.11 in /opt/conda/envs/py3.6/lib/python3.6/site-packages (from Sphinx>=1.3; extra == \"all\"->ipython[all]) (0.14)\n",
      "Requirement not upgraded as not directly required: alabaster<0.8,>=0.7 in /opt/conda/envs/py3.6/lib/python3.6/site-packages (from Sphinx>=1.3; extra == \"all\"->ipython[all]) (0.7.11)\n",
      "Requirement not upgraded as not directly required: packaging in /opt/conda/envs/py3.6/lib/python3.6/site-packages (from Sphinx>=1.3; extra == \"all\"->ipython[all]) (17.1)\n",
      "Requirement not upgraded as not directly required: sphinxcontrib-websupport in /opt/conda/envs/py3.6/lib/python3.6/site-packages (from Sphinx>=1.3; extra == \"all\"->ipython[all]) (1.1.0)\n",
      "Requirement not upgraded as not directly required: babel!=2.0,>=1.3 in /opt/conda/envs/py3.6/lib/python3.6/site-packages (from Sphinx>=1.3; extra == \"all\"->ipython[all]) (2.6.0)\n",
      "Requirement not upgraded as not directly required: snowballstemmer>=1.1 in /opt/conda/envs/py3.6/lib/python3.6/site-packages (from Sphinx>=1.3; extra == \"all\"->ipython[all]) (1.2.1)\n",
      "Requirement not upgraded as not directly required: imagesize in /opt/conda/envs/py3.6/lib/python3.6/site-packages (from Sphinx>=1.3; extra == \"all\"->ipython[all]) (1.0.0)\n",
      "Requirement not upgraded as not directly required: python-dateutil>=2.1 in /opt/conda/envs/py3.6/lib/python3.6/site-packages (from ipyparallel; extra == \"all\"->ipython[all]) (2.7.3)\n",
      "Requirement not upgraded as not directly required: chardet<3.1.0,>=3.0.2 in /opt/conda/envs/py3.6/lib/python3.6/site-packages (from requests; extra == \"all\"->ipython[all]) (3.0.4)\n",
      "Requirement not upgraded as not directly required: idna<2.7,>=2.5 in /opt/conda/envs/py3.6/lib/python3.6/site-packages (from requests; extra == \"all\"->ipython[all]) (2.6)\n",
      "Requirement not upgraded as not directly required: urllib3<1.23,>=1.21.1 in /opt/conda/envs/py3.6/lib/python3.6/site-packages (from requests; extra == \"all\"->ipython[all]) (1.22)\n",
      "Requirement not upgraded as not directly required: certifi>=2017.4.17 in /opt/conda/envs/py3.6/lib/python3.6/site-packages (from requests; extra == \"all\"->ipython[all]) (2018.4.16)\n",
      "Requirement not upgraded as not directly required: MarkupSafe>=0.23 in /opt/conda/envs/py3.6/lib/python3.6/site-packages (from jinja2->nbconvert; extra == \"all\"->ipython[all]) (1.0)\n",
      "Requirement not upgraded as not directly required: html5lib!=0.9999,!=0.99999,<0.99999999,>=0.999 in /opt/conda/envs/py3.6/lib/python3.6/site-packages (from bleach->nbconvert; extra == \"all\"->ipython[all]) (0.9999999)\n",
      "Requirement not upgraded as not directly required: pyparsing>=2.0.2 in /opt/conda/envs/py3.6/lib/python3.6/site-packages (from packaging->Sphinx>=1.3; extra == \"all\"->ipython[all]) (2.2.0)\n",
      "Requirement not upgraded as not directly required: pytz>=0a in /opt/conda/envs/py3.6/lib/python3.6/site-packages (from babel!=2.0,>=1.3->Sphinx>=1.3; extra == \"all\"->ipython[all]) (2018.4)\n"
     ]
    }
   ],
   "source": [
    "!pip install --upgrade \"ipython[all]\""
   ]
  },
  {
   "cell_type": "code",
   "execution_count": 2,
   "metadata": {},
   "outputs": [],
   "source": [
    "# loading libraries and data\n",
    "\n",
    "%matplotlib inline\n",
    "\n",
    "import sqlite3                          # for sql database\n",
    "import pandas as pd\n",
    "import numpy as np\n",
    "import nltk                             # nltk:- Natural Language Processing Toolkit\n",
    "import string\n",
    "import re\n",
    "import io\n",
    "import matplotlib.pyplot as plt\n",
    "import seaborn as sns\n",
    "from sklearn.feature_extraction.text import TfidfTransformer\n",
    "from sklearn.feature_extraction.text import CountVectorizer\n",
    "from sklearn.metrics import confusion_matrix\n",
    "from sklearn import metrics\n",
    "from sklearn.metrics import roc_curve, auc\n",
    "from nltk.stem.porter import PorterStemmer\n",
    "from sklearn.decomposition import TruncatedSVD\n",
    "from sklearn.preprocessing import StandardScaler\n",
    "from sklearn.preprocessing import Normalizer\n",
    "from sklearn.manifold import TSNE\n",
    "from sklearn.feature_extraction.text import CountVectorizer\n",
    "from sklearn.feature_extraction.text import TfidfVectorizer\n",
    "from sklearn.neighbors import KNeighborsClassifier\n",
    "from sklearn.naive_bayes import MultinomialNB\n",
    "from sklearn.naive_bayes import GaussianNB\n",
    "from sklearn.linear_model import LogisticRegression\n",
    "from sklearn.svm import SVC\n",
    "from sklearn.tree import DecisionTreeClassifier\n",
    "from sklearn.ensemble import RandomForestClassifier\n",
    "from sklearn.cluster import KMeans\n",
    "from sklearn.cluster import AgglomerativeClustering\n",
    "from sklearn.model_selection import train_test_split\n",
    "from sklearn.model_selection import GridSearchCV\n",
    "from sklearn.model_selection import RandomizedSearchCV\n",
    "from sklearn.model_selection import cross_val_score\n",
    "from sklearn.metrics import classification_report\n",
    "from sklearn.metrics import accuracy_score\n",
    "from sklearn.metrics import confusion_matrix\n",
    "\n",
    "\n",
    "import pickle\n",
    "def saveindisk(obj,filename):\n",
    "    pickle.dump(obj,open(filename+\".p\",\"wb\"), protocol=4)\n",
    "def openfromdisk(filename):\n",
    "    temp = pickle.load(open(filename+\".p\",\"rb\"))\n",
    "    return temp\n",
    "\n",
    "con = sqlite3.connect(\"final.sqlite\")\n",
    "\n",
    "# Filtering only positive and negative reviews that is\n",
    "# not taking into consideration those reviews with score = 3\n",
    "df = pd.read_sql_query(\"\"\"\n",
    "SELECT *\n",
    "FROM Reviews\n",
    "\"\"\", con)"
   ]
  },
  {
   "cell_type": "code",
   "execution_count": 3,
   "metadata": {},
   "outputs": [
    {
     "data": {
      "text/html": [
       "<div>\n",
       "<style>\n",
       "    .dataframe thead tr:only-child th {\n",
       "        text-align: right;\n",
       "    }\n",
       "\n",
       "    .dataframe thead th {\n",
       "        text-align: left;\n",
       "    }\n",
       "\n",
       "    .dataframe tbody tr th {\n",
       "        vertical-align: top;\n",
       "    }\n",
       "</style>\n",
       "<table border=\"1\" class=\"dataframe\">\n",
       "  <thead>\n",
       "    <tr style=\"text-align: right;\">\n",
       "      <th></th>\n",
       "      <th>index</th>\n",
       "      <th>Id</th>\n",
       "      <th>ProductId</th>\n",
       "      <th>UserId</th>\n",
       "      <th>ProfileName</th>\n",
       "      <th>HelpfulnessNumerator</th>\n",
       "      <th>HelpfulnessDenominator</th>\n",
       "      <th>Score</th>\n",
       "      <th>Time</th>\n",
       "      <th>Summary</th>\n",
       "      <th>Text</th>\n",
       "      <th>CleanedText</th>\n",
       "      <th>CleanedText_NoStem</th>\n",
       "    </tr>\n",
       "  </thead>\n",
       "  <tbody>\n",
       "    <tr>\n",
       "      <th>0</th>\n",
       "      <td>0</td>\n",
       "      <td>1</td>\n",
       "      <td>B001E4KFG0</td>\n",
       "      <td>A3SGXH7AUHU8GW</td>\n",
       "      <td>delmartian</td>\n",
       "      <td>1</td>\n",
       "      <td>1</td>\n",
       "      <td>Positive</td>\n",
       "      <td>1303862400</td>\n",
       "      <td>Good Quality Dog Food</td>\n",
       "      <td>I have bought several of the Vitality canned d...</td>\n",
       "      <td>b'bought sever vital can dog food product foun...</td>\n",
       "      <td>b'bought several vitality canned dog food prod...</td>\n",
       "    </tr>\n",
       "    <tr>\n",
       "      <th>1</th>\n",
       "      <td>1</td>\n",
       "      <td>2</td>\n",
       "      <td>B00813GRG4</td>\n",
       "      <td>A1D87F6ZCVE5NK</td>\n",
       "      <td>dll pa</td>\n",
       "      <td>0</td>\n",
       "      <td>0</td>\n",
       "      <td>Negative</td>\n",
       "      <td>1346976000</td>\n",
       "      <td>Not as Advertised</td>\n",
       "      <td>Product arrived labeled as Jumbo Salted Peanut...</td>\n",
       "      <td>b'product arriv label jumbo salt peanut peanut...</td>\n",
       "      <td>b'product arrived labeled jumbo salted peanuts...</td>\n",
       "    </tr>\n",
       "    <tr>\n",
       "      <th>2</th>\n",
       "      <td>2</td>\n",
       "      <td>3</td>\n",
       "      <td>B000LQOCH0</td>\n",
       "      <td>ABXLMWJIXXAIN</td>\n",
       "      <td>Natalia Corres \"Natalia Corres\"</td>\n",
       "      <td>1</td>\n",
       "      <td>1</td>\n",
       "      <td>Positive</td>\n",
       "      <td>1219017600</td>\n",
       "      <td>\"Delight\" says it all</td>\n",
       "      <td>This is a confection that has been around a fe...</td>\n",
       "      <td>b'confect around centuri light pillowi citrus ...</td>\n",
       "      <td>b'confection around centuries light pillowy ci...</td>\n",
       "    </tr>\n",
       "    <tr>\n",
       "      <th>3</th>\n",
       "      <td>3</td>\n",
       "      <td>4</td>\n",
       "      <td>B000UA0QIQ</td>\n",
       "      <td>A395BORC6FGVXV</td>\n",
       "      <td>Karl</td>\n",
       "      <td>3</td>\n",
       "      <td>3</td>\n",
       "      <td>Negative</td>\n",
       "      <td>1307923200</td>\n",
       "      <td>Cough Medicine</td>\n",
       "      <td>If you are looking for the secret ingredient i...</td>\n",
       "      <td>b'look secret ingredi robitussin believ found ...</td>\n",
       "      <td>b'looking secret ingredient robitussin believe...</td>\n",
       "    </tr>\n",
       "    <tr>\n",
       "      <th>4</th>\n",
       "      <td>4</td>\n",
       "      <td>5</td>\n",
       "      <td>B006K2ZZ7K</td>\n",
       "      <td>A1UQRSCLF8GW1T</td>\n",
       "      <td>Michael D. Bigham \"M. Wassir\"</td>\n",
       "      <td>0</td>\n",
       "      <td>0</td>\n",
       "      <td>Positive</td>\n",
       "      <td>1350777600</td>\n",
       "      <td>Great taffy</td>\n",
       "      <td>Great taffy at a great price.  There was a wid...</td>\n",
       "      <td>b'great taffi great price wide assort yummi ta...</td>\n",
       "      <td>b'great taffy great price wide assortment yumm...</td>\n",
       "    </tr>\n",
       "  </tbody>\n",
       "</table>\n",
       "</div>"
      ],
      "text/plain": [
       "   index  Id   ProductId          UserId                      ProfileName  \\\n",
       "0      0   1  B001E4KFG0  A3SGXH7AUHU8GW                       delmartian   \n",
       "1      1   2  B00813GRG4  A1D87F6ZCVE5NK                           dll pa   \n",
       "2      2   3  B000LQOCH0   ABXLMWJIXXAIN  Natalia Corres \"Natalia Corres\"   \n",
       "3      3   4  B000UA0QIQ  A395BORC6FGVXV                             Karl   \n",
       "4      4   5  B006K2ZZ7K  A1UQRSCLF8GW1T    Michael D. Bigham \"M. Wassir\"   \n",
       "\n",
       "   HelpfulnessNumerator  HelpfulnessDenominator     Score        Time  \\\n",
       "0                     1                       1  Positive  1303862400   \n",
       "1                     0                       0  Negative  1346976000   \n",
       "2                     1                       1  Positive  1219017600   \n",
       "3                     3                       3  Negative  1307923200   \n",
       "4                     0                       0  Positive  1350777600   \n",
       "\n",
       "                 Summary                                               Text  \\\n",
       "0  Good Quality Dog Food  I have bought several of the Vitality canned d...   \n",
       "1      Not as Advertised  Product arrived labeled as Jumbo Salted Peanut...   \n",
       "2  \"Delight\" says it all  This is a confection that has been around a fe...   \n",
       "3         Cough Medicine  If you are looking for the secret ingredient i...   \n",
       "4            Great taffy  Great taffy at a great price.  There was a wid...   \n",
       "\n",
       "                                         CleanedText  \\\n",
       "0  b'bought sever vital can dog food product foun...   \n",
       "1  b'product arriv label jumbo salt peanut peanut...   \n",
       "2  b'confect around centuri light pillowi citrus ...   \n",
       "3  b'look secret ingredi robitussin believ found ...   \n",
       "4  b'great taffi great price wide assort yummi ta...   \n",
       "\n",
       "                                  CleanedText_NoStem  \n",
       "0  b'bought several vitality canned dog food prod...  \n",
       "1  b'product arrived labeled jumbo salted peanuts...  \n",
       "2  b'confection around centuries light pillowy ci...  \n",
       "3  b'looking secret ingredient robitussin believe...  \n",
       "4  b'great taffy great price wide assortment yumm...  "
      ]
     },
     "execution_count": 3,
     "metadata": {},
     "output_type": "execute_result"
    }
   ],
   "source": [
    "df.head()"
   ]
  },
  {
   "cell_type": "code",
   "execution_count": 4,
   "metadata": {},
   "outputs": [
    {
     "data": {
      "text/html": [
       "<div>\n",
       "<style>\n",
       "    .dataframe thead tr:only-child th {\n",
       "        text-align: right;\n",
       "    }\n",
       "\n",
       "    .dataframe thead th {\n",
       "        text-align: left;\n",
       "    }\n",
       "\n",
       "    .dataframe tbody tr th {\n",
       "        vertical-align: top;\n",
       "    }\n",
       "</style>\n",
       "<table border=\"1\" class=\"dataframe\">\n",
       "  <thead>\n",
       "    <tr style=\"text-align: right;\">\n",
       "      <th></th>\n",
       "      <th>index</th>\n",
       "      <th>Id</th>\n",
       "      <th>HelpfulnessNumerator</th>\n",
       "      <th>HelpfulnessDenominator</th>\n",
       "      <th>Time</th>\n",
       "    </tr>\n",
       "  </thead>\n",
       "  <tbody>\n",
       "    <tr>\n",
       "      <th>count</th>\n",
       "      <td>364171.000000</td>\n",
       "      <td>364171.000000</td>\n",
       "      <td>364171.000000</td>\n",
       "      <td>364171.000000</td>\n",
       "      <td>3.641710e+05</td>\n",
       "    </tr>\n",
       "    <tr>\n",
       "      <th>mean</th>\n",
       "      <td>241825.377603</td>\n",
       "      <td>261814.561014</td>\n",
       "      <td>1.739021</td>\n",
       "      <td>2.186841</td>\n",
       "      <td>1.296135e+09</td>\n",
       "    </tr>\n",
       "    <tr>\n",
       "      <th>std</th>\n",
       "      <td>154519.869452</td>\n",
       "      <td>166958.768333</td>\n",
       "      <td>6.723921</td>\n",
       "      <td>7.348482</td>\n",
       "      <td>4.864772e+07</td>\n",
       "    </tr>\n",
       "    <tr>\n",
       "      <th>min</th>\n",
       "      <td>0.000000</td>\n",
       "      <td>1.000000</td>\n",
       "      <td>0.000000</td>\n",
       "      <td>0.000000</td>\n",
       "      <td>9.393408e+08</td>\n",
       "    </tr>\n",
       "    <tr>\n",
       "      <th>25%</th>\n",
       "      <td>104427.500000</td>\n",
       "      <td>113379.500000</td>\n",
       "      <td>0.000000</td>\n",
       "      <td>0.000000</td>\n",
       "      <td>1.270858e+09</td>\n",
       "    </tr>\n",
       "    <tr>\n",
       "      <th>50%</th>\n",
       "      <td>230033.000000</td>\n",
       "      <td>249445.000000</td>\n",
       "      <td>0.000000</td>\n",
       "      <td>1.000000</td>\n",
       "      <td>1.311379e+09</td>\n",
       "    </tr>\n",
       "    <tr>\n",
       "      <th>75%</th>\n",
       "      <td>376763.500000</td>\n",
       "      <td>407408.500000</td>\n",
       "      <td>2.000000</td>\n",
       "      <td>2.000000</td>\n",
       "      <td>1.332893e+09</td>\n",
       "    </tr>\n",
       "    <tr>\n",
       "      <th>max</th>\n",
       "      <td>525813.000000</td>\n",
       "      <td>568454.000000</td>\n",
       "      <td>866.000000</td>\n",
       "      <td>878.000000</td>\n",
       "      <td>1.351210e+09</td>\n",
       "    </tr>\n",
       "  </tbody>\n",
       "</table>\n",
       "</div>"
      ],
      "text/plain": [
       "               index             Id  HelpfulnessNumerator  \\\n",
       "count  364171.000000  364171.000000         364171.000000   \n",
       "mean   241825.377603  261814.561014              1.739021   \n",
       "std    154519.869452  166958.768333              6.723921   \n",
       "min         0.000000       1.000000              0.000000   \n",
       "25%    104427.500000  113379.500000              0.000000   \n",
       "50%    230033.000000  249445.000000              0.000000   \n",
       "75%    376763.500000  407408.500000              2.000000   \n",
       "max    525813.000000  568454.000000            866.000000   \n",
       "\n",
       "       HelpfulnessDenominator          Time  \n",
       "count           364171.000000  3.641710e+05  \n",
       "mean                 2.186841  1.296135e+09  \n",
       "std                  7.348482  4.864772e+07  \n",
       "min                  0.000000  9.393408e+08  \n",
       "25%                  0.000000  1.270858e+09  \n",
       "50%                  1.000000  1.311379e+09  \n",
       "75%                  2.000000  1.332893e+09  \n",
       "max                878.000000  1.351210e+09  "
      ]
     },
     "execution_count": 4,
     "metadata": {},
     "output_type": "execute_result"
    }
   ],
   "source": [
    "df.describe()"
   ]
  },
  {
   "cell_type": "code",
   "execution_count": 5,
   "metadata": {},
   "outputs": [
    {
     "data": {
      "text/plain": [
       "(364171, 13)"
      ]
     },
     "execution_count": 5,
     "metadata": {},
     "output_type": "execute_result"
    }
   ],
   "source": [
    "df.shape"
   ]
  },
  {
   "cell_type": "code",
   "execution_count": 6,
   "metadata": {},
   "outputs": [
    {
     "data": {
      "text/plain": [
       "364171"
      ]
     },
     "execution_count": 6,
     "metadata": {},
     "output_type": "execute_result"
    }
   ],
   "source": [
    "df['Score'].size"
   ]
  },
  {
   "cell_type": "code",
   "execution_count": 7,
   "metadata": {
    "scrolled": true
   },
   "outputs": [
    {
     "data": {
      "text/html": [
       "<div>\n",
       "<style>\n",
       "    .dataframe thead tr:only-child th {\n",
       "        text-align: right;\n",
       "    }\n",
       "\n",
       "    .dataframe thead th {\n",
       "        text-align: left;\n",
       "    }\n",
       "\n",
       "    .dataframe tbody tr th {\n",
       "        vertical-align: top;\n",
       "    }\n",
       "</style>\n",
       "<table border=\"1\" class=\"dataframe\">\n",
       "  <thead>\n",
       "    <tr style=\"text-align: right;\">\n",
       "      <th></th>\n",
       "      <th>index</th>\n",
       "      <th>Id</th>\n",
       "      <th>ProductId</th>\n",
       "      <th>UserId</th>\n",
       "      <th>ProfileName</th>\n",
       "      <th>HelpfulnessNumerator</th>\n",
       "      <th>HelpfulnessDenominator</th>\n",
       "      <th>Score</th>\n",
       "      <th>Time</th>\n",
       "      <th>Summary</th>\n",
       "      <th>Text</th>\n",
       "      <th>CleanedText</th>\n",
       "      <th>CleanedText_NoStem</th>\n",
       "    </tr>\n",
       "  </thead>\n",
       "  <tbody>\n",
       "    <tr>\n",
       "      <th>169258</th>\n",
       "      <td>212449</td>\n",
       "      <td>230260</td>\n",
       "      <td>B00004RYGX</td>\n",
       "      <td>A2HIZRVOKXKZ52</td>\n",
       "      <td>KAY N. FOWLER</td>\n",
       "      <td>0</td>\n",
       "      <td>0</td>\n",
       "      <td>Positive</td>\n",
       "      <td>1012780800</td>\n",
       "      <td>Beetlejuice - Great Fun for Everyone!</td>\n",
       "      <td>When vacationing Adam and Barbara Maitland mee...</td>\n",
       "      <td>b'vacat adam barbara maitland meet demis kill ...</td>\n",
       "      <td>b'vacationing adam barbara maitland meet demis...</td>\n",
       "    </tr>\n",
       "    <tr>\n",
       "      <th>117909</th>\n",
       "      <td>138691</td>\n",
       "      <td>150509</td>\n",
       "      <td>0006641040</td>\n",
       "      <td>A3CMRKGE0P909G</td>\n",
       "      <td>Teresa</td>\n",
       "      <td>3</td>\n",
       "      <td>4</td>\n",
       "      <td>Positive</td>\n",
       "      <td>1018396800</td>\n",
       "      <td>A great way to learn the months</td>\n",
       "      <td>This is a book of poetry about the months of t...</td>\n",
       "      <td>b'book poetri month year goe month cute littl ...</td>\n",
       "      <td>b'book poetry months year goes month cute litt...</td>\n",
       "    </tr>\n",
       "    <tr>\n",
       "      <th>316048</th>\n",
       "      <td>443664</td>\n",
       "      <td>479725</td>\n",
       "      <td>B00005U2FA</td>\n",
       "      <td>A270SG4UVKEO3X</td>\n",
       "      <td>Susanna \"suzattorney\"</td>\n",
       "      <td>23</td>\n",
       "      <td>23</td>\n",
       "      <td>Positive</td>\n",
       "      <td>1041638400</td>\n",
       "      <td>Easier to Use than Standard Vacu Vin</td>\n",
       "      <td>I have used both this product and the standard...</td>\n",
       "      <td>b'use product standard cheaper pay premium buy...</td>\n",
       "      <td>b'used product standard cheaper pay premium bu...</td>\n",
       "    </tr>\n",
       "    <tr>\n",
       "      <th>166583</th>\n",
       "      <td>208479</td>\n",
       "      <td>225941</td>\n",
       "      <td>B000PKFZH8</td>\n",
       "      <td>A375QRG43POEW6</td>\n",
       "      <td>dndnd</td>\n",
       "      <td>23</td>\n",
       "      <td>25</td>\n",
       "      <td>Negative</td>\n",
       "      <td>1069977600</td>\n",
       "      <td>Stay Away...</td>\n",
       "      <td>This product ships in great packaging and it l...</td>\n",
       "      <td>b'product ship great packag look good tast hor...</td>\n",
       "      <td>b'product ships great packaging looks good tas...</td>\n",
       "    </tr>\n",
       "    <tr>\n",
       "      <th>262407</th>\n",
       "      <td>359912</td>\n",
       "      <td>389289</td>\n",
       "      <td>B0000DYZCG</td>\n",
       "      <td>A1U4PHVIQPBCD2</td>\n",
       "      <td>Dan Murphy</td>\n",
       "      <td>2</td>\n",
       "      <td>4</td>\n",
       "      <td>Positive</td>\n",
       "      <td>1071187200</td>\n",
       "      <td>Excellent quality and service!</td>\n",
       "      <td>I received this as a gift. Great quality and o...</td>\n",
       "      <td>b'receiv gift great qualiti deliveri bunch clu...</td>\n",
       "      <td>b'received gift great quality delivery bunch c...</td>\n",
       "    </tr>\n",
       "  </tbody>\n",
       "</table>\n",
       "</div>"
      ],
      "text/plain": [
       "         index      Id   ProductId          UserId            ProfileName  \\\n",
       "169258  212449  230260  B00004RYGX  A2HIZRVOKXKZ52          KAY N. FOWLER   \n",
       "117909  138691  150509  0006641040  A3CMRKGE0P909G                 Teresa   \n",
       "316048  443664  479725  B00005U2FA  A270SG4UVKEO3X  Susanna \"suzattorney\"   \n",
       "166583  208479  225941  B000PKFZH8  A375QRG43POEW6                  dndnd   \n",
       "262407  359912  389289  B0000DYZCG  A1U4PHVIQPBCD2             Dan Murphy   \n",
       "\n",
       "        HelpfulnessNumerator  HelpfulnessDenominator     Score        Time  \\\n",
       "169258                     0                       0  Positive  1012780800   \n",
       "117909                     3                       4  Positive  1018396800   \n",
       "316048                    23                      23  Positive  1041638400   \n",
       "166583                    23                      25  Negative  1069977600   \n",
       "262407                     2                       4  Positive  1071187200   \n",
       "\n",
       "                                      Summary  \\\n",
       "169258  Beetlejuice - Great Fun for Everyone!   \n",
       "117909        A great way to learn the months   \n",
       "316048   Easier to Use than Standard Vacu Vin   \n",
       "166583                           Stay Away...   \n",
       "262407         Excellent quality and service!   \n",
       "\n",
       "                                                     Text  \\\n",
       "169258  When vacationing Adam and Barbara Maitland mee...   \n",
       "117909  This is a book of poetry about the months of t...   \n",
       "316048  I have used both this product and the standard...   \n",
       "166583  This product ships in great packaging and it l...   \n",
       "262407  I received this as a gift. Great quality and o...   \n",
       "\n",
       "                                              CleanedText  \\\n",
       "169258  b'vacat adam barbara maitland meet demis kill ...   \n",
       "117909  b'book poetri month year goe month cute littl ...   \n",
       "316048  b'use product standard cheaper pay premium buy...   \n",
       "166583  b'product ship great packag look good tast hor...   \n",
       "262407  b'receiv gift great qualiti deliveri bunch clu...   \n",
       "\n",
       "                                       CleanedText_NoStem  \n",
       "169258  b'vacationing adam barbara maitland meet demis...  \n",
       "117909  b'book poetry months year goes month cute litt...  \n",
       "316048  b'used product standard cheaper pay premium bu...  \n",
       "166583  b'product ships great packaging looks good tas...  \n",
       "262407  b'received gift great quality delivery bunch c...  "
      ]
     },
     "execution_count": 7,
     "metadata": {},
     "output_type": "execute_result"
    }
   ],
   "source": [
    "# Taking Sample Datapoints\n",
    "n_samples = 15000\n",
    "df_sample = df.sample(n_samples)\n",
    "df_sample.sort_values('Time', inplace=True) #Sorting with respect to time\n",
    "df_sample.head()"
   ]
  },
  {
   "cell_type": "code",
   "execution_count": 8,
   "metadata": {},
   "outputs": [],
   "source": [
    "def polarity(x):\n",
    "    if x == \"Positive\":\n",
    "        return 0\n",
    "    else:\n",
    "        return 1\n",
    "df_sample['Score'] = df_sample['Score'].map(polarity)"
   ]
  },
  {
   "cell_type": "markdown",
   "metadata": {},
   "source": [
    "# Applying the Random Forest and GBDT on the different Vectorizing Techniques\n",
    "\n",
    "\n",
    "## Bag of Word(BOW)"
   ]
  },
  {
   "cell_type": "markdown",
   "metadata": {},
   "source": [
    "### Random Forest\n",
    "<img src=\"https://laurakahn.files.wordpress.com/2018/03/random-forest.png?w=775\">"
   ]
  },
  {
   "cell_type": "code",
   "execution_count": 9,
   "metadata": {},
   "outputs": [],
   "source": [
    "from sklearn.model_selection import train_test_split\n",
    "from sklearn.naive_bayes import MultinomialNB\n",
    "from sklearn.naive_bayes import GaussianNB\n",
    "from sklearn.metrics import classification_report\n",
    "from sklearn.metrics import accuracy_score\n",
    "from sklearn.metrics import confusion_matrix\n",
    "from sklearn.preprocessing import Normalizer\n",
    "from sklearn.linear_model import LogisticRegression\n",
    "from sklearn.model_selection import RandomizedSearchCV\n",
    "from sklearn import preprocessing\n",
    "from sklearn.model_selection import TimeSeriesSplit\n"
   ]
  },
  {
   "cell_type": "code",
   "execution_count": 10,
   "metadata": {},
   "outputs": [
    {
     "name": "stderr",
     "output_type": "stream",
     "text": [
      "/opt/conda/envs/py3.6/lib/python3.6/site-packages/sklearn/model_selection/_split.py:2010: FutureWarning: From version 0.21, test_size will always complement train_size unless both are specified.\n",
      "  FutureWarning)\n"
     ]
    }
   ],
   "source": [
    "X_sample, _, y_sample, _  = train_test_split(df_sample['CleanedText'], df_sample['Score'], train_size=0.05)\n",
    "X_train, X_test, y_train, y_test = train_test_split(X_sample, y_sample)"
   ]
  },
  {
   "cell_type": "code",
   "execution_count": 11,
   "metadata": {},
   "outputs": [],
   "source": [
    "bi_gram = CountVectorizer(ngram_range=(1, 2))\n",
    "X_train = bi_gram.fit_transform(X_train)\n",
    "\n",
    "# Normalization means bringing orignal values in the range of 0 to 1.\n",
    "X_train = preprocessing.normalize(X_train)\n",
    "\n",
    "#Normalize\n",
    "X_test = bi_gram.transform(X_test)\n",
    "X_test = preprocessing.normalize(X_test)"
   ]
  },
  {
   "cell_type": "code",
   "execution_count": 12,
   "metadata": {},
   "outputs": [
    {
     "name": "stdout",
     "output_type": "stream",
     "text": [
      "Accuracy: 0.824468085106\n"
     ]
    }
   ],
   "source": [
    "clf = RandomForestClassifier(n_jobs=-1)\n",
    "clf.fit(X_train, y_train)\n",
    "\n",
    "print('Accuracy:', clf.score(X_test, y_test))"
   ]
  },
  {
   "cell_type": "code",
   "execution_count": 13,
   "metadata": {},
   "outputs": [
    {
     "name": "stdout",
     "output_type": "stream",
     "text": [
      "Fitting 10 folds for each of 4 candidates, totalling 40 fits\n",
      "Best HyperParameter:  {'n_estimators': 5}\n",
      "Best Accuracy: 88.04%\n"
     ]
    },
    {
     "name": "stderr",
     "output_type": "stream",
     "text": [
      "[Parallel(n_jobs=1)]: Done  40 out of  40 | elapsed:    6.5s finished\n"
     ]
    }
   ],
   "source": [
    "# Optimal Hyperparameter\n",
    "\n",
    "clf = RandomForestClassifier()\n",
    "# params we need to try on classifier\n",
    "param_grid = {\n",
    "    'n_estimators': [5, 10, 50, 100]\n",
    "}\n",
    "tscv = TimeSeriesSplit(n_splits=10) # For time based splitting\n",
    "gsv = GridSearchCV(clf,param_grid,cv=tscv,verbose=1)\n",
    "gsv.fit(X_train,y_train)\n",
    "print(\"Best HyperParameter: \",gsv.best_params_)\n",
    "print(\"Best Accuracy: %.2f%%\"%(gsv.best_score_*100))"
   ]
  },
  {
   "cell_type": "code",
   "execution_count": 14,
   "metadata": {},
   "outputs": [
    {
     "name": "stdout",
     "output_type": "stream",
     "text": [
      "                 Classification Report Test Data\n",
      "             precision    recall  f1-score   support\n",
      "\n",
      "          0       0.82      1.00      0.90       155\n",
      "          1       0.00      0.00      0.00        33\n",
      "\n",
      "avg / total       0.68      0.82      0.75       188\n",
      "\n"
     ]
    },
    {
     "name": "stderr",
     "output_type": "stream",
     "text": [
      "/opt/conda/envs/py3.6/lib/python3.6/site-packages/sklearn/metrics/classification.py:1135: UndefinedMetricWarning: Precision and F-score are ill-defined and being set to 0.0 in labels with no predicted samples.\n",
      "  'precision', 'predicted', average, warn_for)\n"
     ]
    }
   ],
   "source": [
    "print(\"                 Classification Report Test Data\")\n",
    "print(classification_report(y_test, gsv.predict(X_test)))"
   ]
  },
  {
   "cell_type": "code",
   "execution_count": 15,
   "metadata": {},
   "outputs": [
    {
     "data": {
      "image/png": "[encoded data removed]",
      "text/plain": [
       "<matplotlib.figure.Figure at 0x3fff189a86a0>"
      ]
     },
     "metadata": {},
     "output_type": "display_data"
    }
   ],
   "source": [
    "# Plot Accuracy - Depth \n",
    "mean_score = gsv.cv_results_['mean_test_score']\n",
    "std_score = gsv.cv_results_['std_test_score']\n",
    "plt.figure(figsize=(10, 6))\n",
    "plt.plot(param_grid['n_estimators'], mean_score, label='Accuracy')\n",
    "plt.fill_between(param_grid['n_estimators'], mean_score + std_score, mean_score - std_score, alpha=0.1, label='± 1 std. dev')\n",
    "plt.ylabel('Accuracy')\n",
    "plt.xlabel('Depth')\n",
    "plt.legend()\n",
    "plt.xscale('log')"
   ]
  },
  {
   "cell_type": "markdown",
   "metadata": {},
   "source": [
    "## GBDT"
   ]
  },
  {
   "cell_type": "code",
   "execution_count": 16,
   "metadata": {},
   "outputs": [
    {
     "name": "stderr",
     "output_type": "stream",
     "text": [
      "/opt/conda/envs/py3.6/lib/python3.6/site-packages/sklearn/model_selection/_split.py:2010: FutureWarning: From version 0.21, test_size will always complement train_size unless both are specified.\n",
      "  FutureWarning)\n"
     ]
    }
   ],
   "source": [
    "X_sample, _, y_sample, _ = train_test_split(df_sample['CleanedText'], df_sample['Score'], train_size=0.05)\n",
    "X_train, X_test, y_train, y_test = train_test_split(X_sample, y_sample)"
   ]
  },
  {
   "cell_type": "code",
   "execution_count": 17,
   "metadata": {},
   "outputs": [],
   "source": [
    "bi_gram = CountVectorizer(ngram_range=(1, 2))\n",
    "X_train = bi_gram.fit_transform(X_train)\n",
    "\n",
    "# Normalization means bringing orignal values in the range of 0 to 1.\n",
    "X_train = preprocessing.normalize(X_train)\n",
    "\n",
    "#Normalize\n",
    "X_test = bi_gram.transform(X_test)\n",
    "X_test = preprocessing.normalize(X_test)"
   ]
  },
  {
   "cell_type": "code",
   "execution_count": 18,
   "metadata": {
    "scrolled": true
   },
   "outputs": [
    {
     "name": "stdout",
     "output_type": "stream",
     "text": [
      "Accuracy: 0.877659574468\n"
     ]
    }
   ],
   "source": [
    "!pip"
   ]
  },
  {
   "cell_type": "code",
   "execution_count": 19,
   "metadata": {},
   "outputs": [
    {
     "name": "stdout",
     "output_type": "stream",
     "text": [
      "Fitting 10 folds for each of 4 candidates, totalling 40 fits\n",
      "Best HyperParameter:  {'n_estimators': 5}\n",
      "Best Accuracy: 86.86%\n"
     ]
    },
    {
     "name": "stderr",
     "output_type": "stream",
     "text": [
      "[Parallel(n_jobs=1)]: Done  40 out of  40 | elapsed:   14.5s finished\n"
     ]
    }
   ],
   "source": [
    "# Optimal Hyperparameter\n",
    "\n",
    "clf = XGBClassifier()\n",
    "# params we need to try on classifier\n",
    "param_grid = {\n",
    "    'n_estimators': [5, 10, 50, 100]\n",
    "}\n",
    "tscv = TimeSeriesSplit(n_splits=10) # For time based splitting\n",
    "gsv = GridSearchCV(clf,param_grid,cv=tscv,verbose=1)\n",
    "gsv.fit(X_train,y_train)\n",
    "print(\"Best HyperParameter: \",gsv.best_params_)\n",
    "print(\"Best Accuracy: %.2f%%\"%(gsv.best_score_*100))"
   ]
  },
  {
   "cell_type": "code",
   "execution_count": 20,
   "metadata": {},
   "outputs": [
    {
     "name": "stdout",
     "output_type": "stream",
     "text": [
      "                 Classification Report Test Data\n",
      "             precision    recall  f1-score   support\n",
      "\n",
      "          0       0.89      0.95      0.92       165\n",
      "          1       0.33      0.17      0.23        23\n",
      "\n",
      "avg / total       0.82      0.86      0.84       188\n",
      "\n"
     ]
    }
   ],
   "source": [
    "print(\"                 Classification Report Test Data\")\n",
    "print(classification_report(y_test, gsv.predict(X_test)))"
   ]
  },
  {
   "cell_type": "code",
   "execution_count": 21,
   "metadata": {},
   "outputs": [
    {
     "data": {
      "image/png": "[encoded data removed]",
      "text/plain": [
       "<matplotlib.figure.Figure at 0x3fff1a15b4e0>"
      ]
     },
     "metadata": {},
     "output_type": "display_data"
    }
   ],
   "source": [
    "# Plot Accuracy - Depth \n",
    "mean_score = gsv.cv_results_['mean_test_score']\n",
    "std_score = gsv.cv_results_['std_test_score']\n",
    "plt.figure(figsize=(10, 6))\n",
    "plt.plot(param_grid['n_estimators'], mean_score, label='Accuracy')\n",
    "plt.fill_between(param_grid['n_estimators'], mean_score + std_score, mean_score - std_score, alpha=0.1, label='± 1 std. dev')\n",
    "plt.ylabel('Accuracy')\n",
    "plt.xlabel('Depth')\n",
    "plt.legend()\n",
    "plt.xscale('log')"
   ]
  },
  {
   "cell_type": "markdown",
   "metadata": {},
   "source": [
    "# Tf-Idf Features"
   ]
  },
  {
   "cell_type": "markdown",
   "metadata": {},
   "source": [
    "### Random Forest"
   ]
  },
  {
   "cell_type": "code",
   "execution_count": 22,
   "metadata": {},
   "outputs": [],
   "source": [
    "X_train, X_test, y_train, y_test = train_test_split(X_sample, y_sample)"
   ]
  },
  {
   "cell_type": "code",
   "execution_count": 23,
   "metadata": {},
   "outputs": [
    {
     "name": "stdout",
     "output_type": "stream",
     "text": [
      "Train Data Size:  (562, 21535)\n",
      "Test Data Size:  (188, 21535)\n"
     ]
    }
   ],
   "source": [
    "tfidf = TfidfVectorizer(ngram_range=(1,2))\n",
    "X_train = tfidf.fit_transform(X_train)\n",
    "\n",
    "X_train = preprocessing.normalize(X_train)\n",
    "print(\"Train Data Size: \",X_train.shape)\n",
    "X_test = tfidf.transform(X_test)\n",
    "\n",
    "X_test = preprocessing.normalize(X_test)\n",
    "print(\"Test Data Size: \",X_test.shape)"
   ]
  },
  {
   "cell_type": "code",
   "execution_count": 24,
   "metadata": {},
   "outputs": [
    {
     "name": "stdout",
     "output_type": "stream",
     "text": [
      "Accuracy: 0.877659574468\n"
     ]
    }
   ],
   "source": [
    "clf = RandomForestClassifier(n_jobs=-1)\n",
    "clf.fit(X_train, y_train)\n",
    "\n",
    "print('Accuracy:', clf.score(X_test, y_test))"
   ]
  },
  {
   "cell_type": "code",
   "execution_count": 25,
   "metadata": {},
   "outputs": [
    {
     "name": "stdout",
     "output_type": "stream",
     "text": [
      "Fitting 10 folds for each of 4 candidates, totalling 40 fits\n",
      "Best HyperParameter:  {'n_estimators': 10}\n",
      "Best Accuracy: 85.10%\n"
     ]
    },
    {
     "name": "stderr",
     "output_type": "stream",
     "text": [
      "[Parallel(n_jobs=1)]: Done  40 out of  40 | elapsed:    7.5s finished\n"
     ]
    }
   ],
   "source": [
    "clf = RandomForestClassifier()\n",
    "#params we need to try on classifier\n",
    "param_grid = {\n",
    "    'n_estimators': [5, 10, 50, 100]\n",
    "}\n",
    "tscv = TimeSeriesSplit(n_splits=10) # For time based splitting\n",
    "gsv = GridSearchCV(clf,param_grid,cv=tscv,verbose=1)\n",
    "gsv.fit(X_train,y_train)\n",
    "print(\"Best HyperParameter: \",gsv.best_params_)\n",
    "print(\"Best Accuracy: %.2f%%\"%(gsv.best_score_*100))"
   ]
  },
  {
   "cell_type": "code",
   "execution_count": 26,
   "metadata": {},
   "outputs": [
    {
     "data": {
      "image/png": "[encoded data removed]",
      "text/plain": [
       "<matplotlib.figure.Figure at 0x3fff0e04f358>"
      ]
     },
     "metadata": {},
     "output_type": "display_data"
    }
   ],
   "source": [
    "# Plot Accuracy - Depth \n",
    "mean_score = gsv.cv_results_['mean_test_score']\n",
    "std_score = gsv.cv_results_['std_test_score']\n",
    "plt.figure(figsize=(10, 6))\n",
    "plt.plot(param_grid['n_estimators'], mean_score, label='Accuracy')\n",
    "plt.fill_between(param_grid['n_estimators'], mean_score + std_score, mean_score - std_score, alpha=0.1, label='± 1 std. dev')\n",
    "plt.ylabel('Accuracy')\n",
    "plt.xlabel('Depth')\n",
    "plt.legend()\n",
    "plt.xscale('log')"
   ]
  },
  {
   "cell_type": "markdown",
   "metadata": {},
   "source": [
    "## GBDT"
   ]
  },
  {
   "cell_type": "code",
   "execution_count": 27,
   "metadata": {},
   "outputs": [],
   "source": [
    "X_train, X_test, y_train, y_test = train_test_split(X_sample, y_sample)"
   ]
  },
  {
   "cell_type": "code",
   "execution_count": 28,
   "metadata": {},
   "outputs": [
    {
     "name": "stdout",
     "output_type": "stream",
     "text": [
      "Train Data Size:  (562, 21861)\n",
      "Test Data Size:  (188, 21861)\n"
     ]
    }
   ],
   "source": [
    "tfidf = TfidfVectorizer(ngram_range=(1,2))\n",
    "X_train = tfidf.fit_transform(X_train)\n",
    "\n",
    "X_train = preprocessing.normalize(X_train)\n",
    "print(\"Train Data Size: \",X_train.shape)\n",
    "X_test = tfidf.transform(X_test)\n",
    "\n",
    "X_test = preprocessing.normalize(X_test)\n",
    "print(\"Test Data Size: \",X_test.shape)"
   ]
  },
  {
   "cell_type": "code",
   "execution_count": 29,
   "metadata": {},
   "outputs": [
    {
     "name": "stdout",
     "output_type": "stream",
     "text": [
      "Accuracy: 0.867021276596\n"
     ]
    }
   ],
   "source": [
    "clf = XGBClassifier(n_jobs=-1)\n",
    "clf.fit(X_train, y_train)\n",
    "\n",
    "print('Accuracy:', clf.score(X_test, y_test))"
   ]
  },
  {
   "cell_type": "code",
   "execution_count": 30,
   "metadata": {},
   "outputs": [
    {
     "name": "stdout",
     "output_type": "stream",
     "text": [
      "Fitting 10 folds for each of 4 candidates, totalling 40 fits\n",
      "Best HyperParameter:  {'n_estimators': 10}\n",
      "Best Accuracy: 85.88%\n"
     ]
    },
    {
     "name": "stderr",
     "output_type": "stream",
     "text": [
      "[Parallel(n_jobs=1)]: Done  40 out of  40 | elapsed:   10.0s finished\n"
     ]
    }
   ],
   "source": [
    "# Optimal Hyperparameter\n",
    "\n",
    "clf = XGBClassifier()\n",
    "# params we need to try on classifier\n",
    "param_grid = {\n",
    "    'n_estimators': [5, 10, 50, 100]\n",
    "}\n",
    "tscv = TimeSeriesSplit(n_splits=10) # For time based splitting\n",
    "gsv = GridSearchCV(clf,param_grid,cv=tscv,verbose=1)\n",
    "gsv.fit(X_train,y_train)\n",
    "print(\"Best HyperParameter: \",gsv.best_params_)\n",
    "print(\"Best Accuracy: %.2f%%\"%(gsv.best_score_*100))"
   ]
  },
  {
   "cell_type": "code",
   "execution_count": 31,
   "metadata": {},
   "outputs": [
    {
     "name": "stdout",
     "output_type": "stream",
     "text": [
      "                 Classification Report Test Data\n",
      "             precision    recall  f1-score   support\n",
      "\n",
      "          0       0.87      0.99      0.93       162\n",
      "          1       0.67      0.08      0.14        26\n",
      "\n",
      "avg / total       0.84      0.87      0.82       188\n",
      "\n"
     ]
    }
   ],
   "source": [
    "print(\"                 Classification Report Test Data\")\n",
    "print(classification_report(y_test, gsv.predict(X_test)))"
   ]
  },
  {
   "cell_type": "code",
   "execution_count": 32,
   "metadata": {},
   "outputs": [
    {
     "data": {
      "image/png": "[encoded data removed]",
      "text/plain": [
       "<matplotlib.figure.Figure at 0x3fff1c326400>"
      ]
     },
     "metadata": {},
     "output_type": "display_data"
    }
   ],
   "source": [
    "# Plot Accuracy - Depth \n",
    "mean_score = gsv.cv_results_['mean_test_score']\n",
    "std_score = gsv.cv_results_['std_test_score']\n",
    "plt.figure(figsize=(10, 6))\n",
    "plt.plot(param_grid['n_estimators'], mean_score, label='Accuracy')\n",
    "plt.fill_between(param_grid['n_estimators'], mean_score + std_score, mean_score - std_score, alpha=0.1, label='± 1 std. dev')\n",
    "plt.ylabel('Accuracy')\n",
    "plt.xlabel('Depth')\n",
    "plt.legend()\n",
    "plt.xscale('log')"
   ]
  },
  {
   "cell_type": "markdown",
   "metadata": {},
   "source": [
    "# Avg Word2Vec"
   ]
  },
  {
   "cell_type": "code",
   "execution_count": 33,
   "metadata": {},
   "outputs": [],
   "source": [
    "list_corpus = df_sample[\"Text\"].tolist()\n",
    "list_labels = df_sample[\"Score\"].tolist()"
   ]
  },
  {
   "cell_type": "code",
   "execution_count": 34,
   "metadata": {},
   "outputs": [
    {
     "name": "stdout",
     "output_type": "stream",
     "text": [
      "--2018-07-19 02:28:36--  https://s3.amazonaws.com/dl4j-distribution/GoogleNews-vectors-negative300.bin.gz\n",
      "Resolving s3.amazonaws.com (s3.amazonaws.com)... 52.216.100.189\n",
      "Connecting to s3.amazonaws.com (s3.amazonaws.com)|52.216.100.189|:443... connected.\n",
      "HTTP request sent, awaiting response... 416 Requested Range Not Satisfiable\n",
      "\n",
      "    The file is already fully retrieved; nothing to do.\n",
      "\n"
     ]
    }
   ],
   "source": [
    "from gensim.models import KeyedVectors\n",
    "!wget -c \"https://s3.amazonaws.com/dl4j-distribution/GoogleNews-vectors-negative300.bin.gz\"\n",
    "w2v_model_google = KeyedVectors.load_word2vec_format('GoogleNews-vectors-negative300.bin.gz', binary=True)"
   ]
  },
  {
   "cell_type": "code",
   "execution_count": 35,
   "metadata": {},
   "outputs": [],
   "source": [
    "def get_average_word2vec(tokens_list, vector, generate_missing=False, k=300):\n",
    "    if len(tokens_list)<1:\n",
    "        return np.zeros(k)\n",
    "    if generate_missing:\n",
    "        vectorized = [vector[word] if word in vector else np.random.rand(k) for word in tokens_list]\n",
    "    else:\n",
    "        vectorized = [vector[word] if word in vector else np.zeros(k) for word in tokens_list]\n",
    "    length = len(vectorized)\n",
    "    summed = np.sum(vectorized, axis=0)\n",
    "    averaged = np.divide(summed, length)\n",
    "    return averaged\n",
    "\n",
    "def get_word2vec_embeddings(vectors, clean_questions, generate_missing=False):\n",
    "    embeddings = clean_questions['CleanedText'].apply(lambda x: get_average_word2vec(x, vectors, \n",
    "                                                                                generate_missing=generate_missing))\n",
    "    return list(embeddings)"
   ]
  },
  {
   "cell_type": "code",
   "execution_count": 36,
   "metadata": {},
   "outputs": [
    {
     "name": "stderr",
     "output_type": "stream",
     "text": [
      "/opt/conda/envs/py3.6/lib/python3.6/site-packages/sklearn/model_selection/_split.py:2010: FutureWarning: From version 0.21, test_size will always complement train_size unless both are specified.\n",
      "  FutureWarning)\n"
     ]
    }
   ],
   "source": [
    "embeddings = get_word2vec_embeddings(w2v_model_google, df_sample)\n",
    "X_sample, _, y_sample, _ = train_test_split(embeddings, list_labels, train_size=0.05)\n",
    "X_train, X_test, y_train, y_test = train_test_split(X_sample, y_sample)"
   ]
  },
  {
   "cell_type": "code",
   "execution_count": 37,
   "metadata": {},
   "outputs": [
    {
     "name": "stdout",
     "output_type": "stream",
     "text": [
      "Accuracy: 0.856382978723\n"
     ]
    }
   ],
   "source": [
    "# Train model with default hyperparameter\n",
    "clf = RandomForestClassifier()\n",
    "clf.fit(X_train, y_train)\n",
    "\n",
    "print('Accuracy:', clf.score(X_test, y_test))"
   ]
  },
  {
   "cell_type": "code",
   "execution_count": 38,
   "metadata": {},
   "outputs": [
    {
     "name": "stdout",
     "output_type": "stream",
     "text": [
      "Fitting 10 folds for each of 4 candidates, totalling 40 fits\n",
      "Best HyperParameter:  {'n_estimators': 5}\n",
      "Best Accuracy: 84.12%\n"
     ]
    },
    {
     "name": "stderr",
     "output_type": "stream",
     "text": [
      "[Parallel(n_jobs=1)]: Done  40 out of  40 | elapsed:    3.1s finished\n"
     ]
    }
   ],
   "source": [
    "# Train model with default hyperparameter\n",
    "# Using Grid search\n",
    "\n",
    "param_grid = {\n",
    "    'n_estimators': [5, 10, 50, 100]\n",
    "}\n",
    "\n",
    "clf = RandomForestClassifier()\n",
    "\n",
    "tscv = TimeSeriesSplit(n_splits=10) #For time based splitting\n",
    "gsv = GridSearchCV(clf,param_grid,cv=tscv,verbose=1)\n",
    "gsv.fit(X_train,y_train)\n",
    "print(\"Best HyperParameter: \",gsv.best_params_)\n",
    "print(\"Best Accuracy: %.2f%%\"%(gsv.best_score_*100))"
   ]
  },
  {
   "cell_type": "code",
   "execution_count": 39,
   "metadata": {},
   "outputs": [
    {
     "name": "stdout",
     "output_type": "stream",
     "text": [
      "                 Classification Report Test Data\n",
      "             precision    recall  f1-score   support\n",
      "\n",
      "          0       0.86      1.00      0.92       161\n",
      "          1       0.00      0.00      0.00        27\n",
      "\n",
      "avg / total       0.73      0.86      0.79       188\n",
      "\n"
     ]
    },
    {
     "name": "stderr",
     "output_type": "stream",
     "text": [
      "/opt/conda/envs/py3.6/lib/python3.6/site-packages/sklearn/metrics/classification.py:1135: UndefinedMetricWarning: Precision and F-score are ill-defined and being set to 0.0 in labels with no predicted samples.\n",
      "  'precision', 'predicted', average, warn_for)\n"
     ]
    }
   ],
   "source": [
    "from sklearn.metrics import classification_report\n",
    "print(\"                 Classification Report Test Data\")\n",
    "print(classification_report(y_test, gsv.best_estimator_.predict(X_test)))"
   ]
  },
  {
   "cell_type": "code",
   "execution_count": 40,
   "metadata": {},
   "outputs": [
    {
     "data": {
      "image/png": "[encoded data removed]",
      "text/plain": [
       "<matplotlib.figure.Figure at 0x3fff1c54f668>"
      ]
     },
     "metadata": {},
     "output_type": "display_data"
    }
   ],
   "source": [
    "# Plot Accuracy - Depth \n",
    "mean_score = gsv.cv_results_['mean_test_score']\n",
    "std_score = gsv.cv_results_['std_test_score']\n",
    "plt.figure(figsize=(10, 6))\n",
    "plt.plot(param_grid['n_estimators'], mean_score, label='Accuracy')\n",
    "plt.fill_between(param_grid['n_estimators'], mean_score + std_score, mean_score - std_score, alpha=0.1, label='± 1 std. dev')\n",
    "plt.ylabel('Accuracy')\n",
    "plt.xlabel('Depth')\n",
    "plt.legend()\n",
    "plt.xscale('log')"
   ]
  },
  {
   "cell_type": "markdown",
   "metadata": {},
   "source": [
    "## GBDT"
   ]
  },
  {
   "cell_type": "code",
   "execution_count": 41,
   "metadata": {},
   "outputs": [],
   "source": [
    "X_train, X_test, y_train, y_test = train_test_split(X_sample, y_sample)"
   ]
  },
  {
   "cell_type": "code",
   "execution_count": 42,
   "metadata": {},
   "outputs": [
    {
     "name": "stdout",
     "output_type": "stream",
     "text": [
      "Accuracy: 0.845744680851\n"
     ]
    }
   ],
   "source": [
    "clf = XGBClassifier(n_jobs=-1)\n",
    "X_train = np.array(X_train)\n",
    "y_train = np.array(y_train)\n",
    "clf.fit(X_train, y_train)\n",
    "\n",
    "print('Accuracy:', clf.score(X_test, y_test))"
   ]
  },
  {
   "cell_type": "code",
   "execution_count": 43,
   "metadata": {},
   "outputs": [
    {
     "name": "stdout",
     "output_type": "stream",
     "text": [
      "Fitting 10 folds for each of 4 candidates, totalling 40 fits\n",
      "Best HyperParameter:  {'n_estimators': 5}\n",
      "Best Accuracy: 83.53%\n"
     ]
    },
    {
     "name": "stderr",
     "output_type": "stream",
     "text": [
      "[Parallel(n_jobs=1)]: Done  40 out of  40 | elapsed:    2.0s finished\n"
     ]
    }
   ],
   "source": [
    "# Optimal Hyperparameter\n",
    "\n",
    "clf = XGBClassifier()\n",
    "# params we need to try on classifier\n",
    "param_grid = {\n",
    "    'n_estimators': [5, 10, 50, 100]\n",
    "}\n",
    "tscv = TimeSeriesSplit(n_splits=10) # For time based splitting\n",
    "gsv = GridSearchCV(clf,param_grid,cv=tscv,verbose=1)\n",
    "gsv.fit(X_train,y_train)\n",
    "print(\"Best HyperParameter: \",gsv.best_params_)\n",
    "print(\"Best Accuracy: %.2f%%\"%(gsv.best_score_*100))"
   ]
  },
  {
   "cell_type": "code",
   "execution_count": 44,
   "metadata": {},
   "outputs": [
    {
     "name": "stdout",
     "output_type": "stream",
     "text": [
      "                 Classification Report Test Data\n",
      "             precision    recall  f1-score   support\n",
      "\n",
      "          0       0.85      1.00      0.92       159\n",
      "          1       0.00      0.00      0.00        29\n",
      "\n",
      "avg / total       0.72      0.85      0.78       188\n",
      "\n"
     ]
    },
    {
     "name": "stderr",
     "output_type": "stream",
     "text": [
      "/opt/conda/envs/py3.6/lib/python3.6/site-packages/sklearn/metrics/classification.py:1135: UndefinedMetricWarning: Precision and F-score are ill-defined and being set to 0.0 in labels with no predicted samples.\n",
      "  'precision', 'predicted', average, warn_for)\n"
     ]
    }
   ],
   "source": [
    "print(\"                 Classification Report Test Data\")\n",
    "print(classification_report(y_test, gsv.predict(X_test)))"
   ]
  },
  {
   "cell_type": "code",
   "execution_count": 45,
   "metadata": {},
   "outputs": [
    {
     "data": {
      "image/png": "[encoded data removed]",
      "text/plain": [
       "<matplotlib.figure.Figure at 0x3ffda12304a8>"
      ]
     },
     "metadata": {},
     "output_type": "display_data"
    }
   ],
   "source": [
    "# Plot Accuracy - Depth \n",
    "mean_score = gsv.cv_results_['mean_test_score']\n",
    "std_score = gsv.cv_results_['std_test_score']\n",
    "plt.figure(figsize=(10, 6))\n",
    "plt.plot(param_grid['n_estimators'], mean_score, label='Accuracy')\n",
    "plt.fill_between(param_grid['n_estimators'], mean_score + std_score, mean_score - std_score, alpha=0.1, label='± 1 std. dev')\n",
    "plt.ylabel('Accuracy')\n",
    "plt.xlabel('Depth')\n",
    "plt.legend()\n",
    "plt.xscale('log')"
   ]
  },
  {
   "cell_type": "markdown",
   "metadata": {},
   "source": [
    "# Tf-IDF Word2vec"
   ]
  },
  {
   "cell_type": "markdown",
   "metadata": {},
   "source": [
    "## Random Forest"
   ]
  },
  {
   "cell_type": "code",
   "execution_count": 46,
   "metadata": {},
   "outputs": [
    {
     "name": "stdout",
     "output_type": "stream",
     "text": [
      "(5000, 150594)\n"
     ]
    }
   ],
   "source": [
    "n_samples = 5000\n",
    "df_sample_new = df_sample.sample(n_samples)\n",
    "df_sample_new.sort_values('Time',inplace=True) \n",
    "\n",
    "from sklearn.feature_extraction.text import TfidfVectorizer\n",
    "tfidf = TfidfVectorizer(ngram_range=(1,2)) # Using bi-grams\n",
    "tfidf_vec_new = tfidf.fit_transform(df_sample_new['CleanedText_NoStem'].values)\n",
    "print(tfidf_vec_new.shape)\n",
    "features = tfidf.get_feature_names()"
   ]
  },
  {
   "cell_type": "code",
   "execution_count": 47,
   "metadata": {},
   "outputs": [
    {
     "name": "stderr",
     "output_type": "stream",
     "text": [
      "/opt/conda/envs/py3.6/lib/python3.6/site-packages/ipykernel_launcher.py:11: DeprecationWarning: Call to deprecated `wv` (Attribute will be removed in 4.0.0, use self instead).\n",
      "  # This is added back by InteractiveShellApp.init_path()\n"
     ]
    }
   ],
   "source": [
    "tfidf_w2v_vec_google = []\n",
    "review = 0\n",
    "\n",
    "for sent in df_sample_new['CleanedText_NoStem'].values:\n",
    "    cnt = 0 \n",
    "    weighted_sum  = 0\n",
    "    sent_vec = np.zeros(300)\n",
    "    sent = sent.decode(\"utf-8\") \n",
    "    for word in sent.split():\n",
    "        try:\n",
    "            wvec = w2v_model_google.wv[word] \n",
    "            tfidf_vec = tfidf_vec_new[review,features.index(word)]\n",
    "            sent_vec += (wvec * tfidf_vec)\n",
    "            weighted_sum += tfidf_vec\n",
    "        except:\n",
    "            pass\n",
    "    sent_vec /= weighted_sum\n",
    "    tfidf_w2v_vec_google.append(sent_vec)\n",
    "    review += 1\n",
    "tfidf_w2v_vec_google = np.array(tfidf_w2v_vec_google)\n",
    "saveindisk(tfidf_w2v_vec_google,\"tfidf_w2v_vec_google\")"
   ]
  },
  {
   "cell_type": "code",
   "execution_count": 48,
   "metadata": {},
   "outputs": [],
   "source": [
    "tfidf_w2v_vec_google = openfromdisk(\"tfidf_w2v_vec_google\")"
   ]
  },
  {
   "cell_type": "code",
   "execution_count": 49,
   "metadata": {},
   "outputs": [],
   "source": [
    "tfidfw2v_vecs_norm = preprocessing.normalize(tfidf_w2v_vec_google)"
   ]
  },
  {
   "cell_type": "code",
   "execution_count": 50,
   "metadata": {},
   "outputs": [
    {
     "name": "stderr",
     "output_type": "stream",
     "text": [
      "/opt/conda/envs/py3.6/lib/python3.6/site-packages/sklearn/model_selection/_split.py:2010: FutureWarning: From version 0.21, test_size will always complement train_size unless both are specified.\n",
      "  FutureWarning)\n"
     ]
    }
   ],
   "source": [
    "X_sample, _, y_sample, _  = train_test_split(tfidfw2v_vecs_norm, df_sample_new['Score'], train_size=0.05)\n",
    "X_train, X_test, y_train, y_test = train_test_split(X_sample, y_sample)"
   ]
  },
  {
   "cell_type": "code",
   "execution_count": 51,
   "metadata": {},
   "outputs": [
    {
     "name": "stdout",
     "output_type": "stream",
     "text": [
      "Accuracy: 0.888888888889\n"
     ]
    }
   ],
   "source": [
    "# Train model with default hyperparameter\n",
    "clf = RandomForestClassifier()\n",
    "clf.fit(X_train, y_train)\n",
    "\n",
    "print('Accuracy:', clf.score(X_test, y_test))"
   ]
  },
  {
   "cell_type": "code",
   "execution_count": 52,
   "metadata": {},
   "outputs": [
    {
     "name": "stdout",
     "output_type": "stream",
     "text": [
      "Fitting 10 folds for each of 4 candidates, totalling 40 fits\n",
      "Best HyperParameter:  {'n_estimators': 10}\n",
      "Best Accuracy: 82.35%\n"
     ]
    },
    {
     "name": "stderr",
     "output_type": "stream",
     "text": [
      "[Parallel(n_jobs=1)]: Done  40 out of  40 | elapsed:    3.5s finished\n"
     ]
    }
   ],
   "source": [
    "# Train model with default hyperparameter\n",
    "# Using Grid search\n",
    "\n",
    "param_grid = {\n",
    "    'n_estimators': [5, 10, 50, 100]\n",
    "}\n",
    "\n",
    "clf = RandomForestClassifier()\n",
    "\n",
    "tscv = TimeSeriesSplit(n_splits=10) #For time based splitting\n",
    "gsv = GridSearchCV(clf,param_grid,cv=tscv,verbose=1)\n",
    "gsv.fit(X_train,y_train)\n",
    "print(\"Best HyperParameter: \",gsv.best_params_)\n",
    "print(\"Best Accuracy: %.2f%%\"%(gsv.best_score_*100))"
   ]
  },
  {
   "cell_type": "code",
   "execution_count": 53,
   "metadata": {},
   "outputs": [
    {
     "data": {
      "image/png": "[encoded data removed]",
      "text/plain": [
       "<matplotlib.figure.Figure at 0x3fff1e569208>"
      ]
     },
     "metadata": {},
     "output_type": "display_data"
    }
   ],
   "source": [
    "# Plot Accuracy - Depth \n",
    "mean_score = gsv.cv_results_['mean_test_score']\n",
    "std_score = gsv.cv_results_['std_test_score']\n",
    "plt.figure(figsize=(10, 6))\n",
    "plt.plot(param_grid['n_estimators'], mean_score, label='Accuracy')\n",
    "plt.fill_between(param_grid['n_estimators'], mean_score + std_score, mean_score - std_score, alpha=0.1, label='± 1 std. dev')\n",
    "plt.ylabel('Accuracy')\n",
    "plt.xlabel('Depth')\n",
    "plt.legend()\n",
    "plt.xscale('log')"
   ]
  },
  {
   "cell_type": "markdown",
   "metadata": {},
   "source": [
    "## GBDT"
   ]
  },
  {
   "cell_type": "code",
   "execution_count": 54,
   "metadata": {},
   "outputs": [],
   "source": [
    "X_train, X_test, y_train, y_test = train_test_split(X_sample, y_sample)"
   ]
  },
  {
   "cell_type": "code",
   "execution_count": 55,
   "metadata": {},
   "outputs": [
    {
     "name": "stdout",
     "output_type": "stream",
     "text": [
      "Accuracy: 0.809523809524\n"
     ]
    }
   ],
   "source": [
    "clf = XGBClassifier(n_jobs=-1)\n",
    "X_train = np.array(X_train)\n",
    "y_train = np.array(y_train)\n",
    "clf.fit(X_train, y_train)\n",
    "\n",
    "print('Accuracy:', clf.score(X_test, y_test))"
   ]
  },
  {
   "cell_type": "code",
   "execution_count": 56,
   "metadata": {},
   "outputs": [
    {
     "name": "stdout",
     "output_type": "stream",
     "text": [
      "Fitting 10 folds for each of 4 candidates, totalling 40 fits\n"
     ]
    },
    {
     "name": "stderr",
     "output_type": "stream",
     "text": [
      "[Parallel(n_jobs=1)]: Done  40 out of  40 | elapsed:    2.5s finished\n"
     ]
    },
    {
     "name": "stdout",
     "output_type": "stream",
     "text": [
      "Best HyperParameter:  {'n_estimators': 100}\n",
      "Best Accuracy: 86.47%\n"
     ]
    }
   ],
   "source": [
    "# Optimal Hyperparameter\n",
    "\n",
    "clf = XGBClassifier()\n",
    "# params we need to try on classifier\n",
    "param_grid = {\n",
    "    'n_estimators': [5, 10, 50, 100]\n",
    "}\n",
    "tscv = TimeSeriesSplit(n_splits=10) # For time based splitting\n",
    "gsv = GridSearchCV(clf,param_grid,cv=tscv,verbose=1)\n",
    "gsv.fit(X_train,y_train)\n",
    "print(\"Best HyperParameter: \",gsv.best_params_)\n",
    "print(\"Best Accuracy: %.2f%%\"%(gsv.best_score_*100))"
   ]
  },
  {
   "cell_type": "code",
   "execution_count": 57,
   "metadata": {},
   "outputs": [
    {
     "name": "stdout",
     "output_type": "stream",
     "text": [
      "                 Classification Report Test Data\n",
      "             precision    recall  f1-score   support\n",
      "\n",
      "          0       0.82      0.98      0.89        51\n",
      "          1       0.50      0.08      0.14        12\n",
      "\n",
      "avg / total       0.76      0.81      0.75        63\n",
      "\n"
     ]
    }
   ],
   "source": [
    "print(\"                 Classification Report Test Data\")\n",
    "print(classification_report(y_test, gsv.predict(X_test)))"
   ]
  },
  {
   "cell_type": "code",
   "execution_count": 58,
   "metadata": {},
   "outputs": [
    {
     "data": {
      "image/png": "[encoded data removed]",
      "text/plain": [
       "<matplotlib.figure.Figure at 0x3ffda09e5c18>"
      ]
     },
     "metadata": {},
     "output_type": "display_data"
    }
   ],
   "source": [
    "# Plot Accuracy - Depth \n",
    "mean_score = gsv.cv_results_['mean_test_score']\n",
    "std_score = gsv.cv_results_['std_test_score']\n",
    "plt.figure(figsize=(10, 6))\n",
    "plt.plot(param_grid['n_estimators'], mean_score, label='Accuracy')\n",
    "plt.fill_between(param_grid['n_estimators'], mean_score + std_score, mean_score - std_score, alpha=0.1, label='± 1 std. dev')\n",
    "plt.ylabel('Accuracy')\n",
    "plt.xlabel('Depth')\n",
    "plt.legend()\n",
    "plt.xscale('log')"
   ]
  },
  {
   "cell_type": "code",
   "execution_count": 61,
   "metadata": {},
   "outputs": [
    {
     "data": {
      "image/png": "[encoded data removed]",
      "text/plain": [
       "<matplotlib.figure.Figure at 0x3ffda0e9ccc0>"
      ]
     },
     "metadata": {},
     "output_type": "display_data"
    }
   ],
   "source": [
    "XG_model_accuracy = {\n",
    "    'BoW': 0.8686,\n",
    "    'Tf-Idf':0.8688,\n",
    "    'Avg-W2V': 0.8353,\n",
    "    'Tf-Idf-W2V': 0.8647\n",
    "}\n",
    "\n",
    "pd.Series(XG_model_accuracy).plot(kind='bar', color='bgry')\n",
    "plt.ylabel('Accuracy Score')\n",
    "plt.ylim((0.80, 0.90));\n"
   ]
  },
  {
   "cell_type": "markdown",
   "metadata": {},
   "source": [
    "<img src=\"https://image.ibb.co/iZuxyo/XG.png\">"
   ]
  },
  {
   "cell_type": "markdown",
   "metadata": {},
   "source": [
    "## Bagging\n",
    "* Random Forest is a bagging algorithm. It reduces variance.\n",
    "* Say that you have very unreliable models, such as Decision Trees.In such a case, you can build a robust model (reduce variance) through bagging. Bagging is when you create different models by resampling your data to make the resulting model more robust.\n",
    "* Random forest is what we call to bagging applied to decision trees, but it's no different than other bagging algorithm.\n",
    "\n",
    "## Boosting\n",
    "* Boosting reduces variance, and also reduces bias. It reduces variance because you are using multiple models (bagging). It reduces bias by training the subsequent model by telling him what errors the previous models made (the boosting part).\n",
    "\n",
    "* There are two main algorithms:\n",
    "* Adaboost: this is the original algorithm; you tell subsequent models to punish more heavily observations mistaken by the previous models\n",
    "* Gradient boosting: you train each subsequent model using the residuals (the difference between the predicted and true values)"
   ]
  },
  {
   "cell_type": "markdown",
   "metadata": {},
   "source": [
    "# Conclusion:-\n",
    "* XGBoost and Random Forest on Bi-gram, TF-IDF, AvgWord2vec and TFIDF Word2Vec using depth as 40 as max_depth.\n",
    "* From the Random forest and XGBoost the best accuracy is given by the XGBoost of about 86.86 and F1-Score about of 0.84 because it uses boosting.\n"
   ]
  },
  {
   "cell_type": "code",
   "execution_count": null,
   "metadata": {},
   "outputs": [],
   "source": []
  }
 ],
 "metadata": {
  "kernelspec": {
   "display_name": "Python 3",
   "language": "python",
   "name": "python3"
  },
  "language_info": {
   "codemirror_mode": {
    "name": "ipython",
    "version": 3
   },
   "file_extension": ".py",
   "mimetype": "text/x-python",
   "name": "python",
   "nbconvert_exporter": "python",
   "pygments_lexer": "ipython3",
   "version": "3.6.4"
  }
 },
 "nbformat": 4,
 "nbformat_minor": 2
}
